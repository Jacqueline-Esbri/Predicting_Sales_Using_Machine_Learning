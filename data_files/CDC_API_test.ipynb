{
 "cells": [
  {
   "cell_type": "code",
   "execution_count": 1,
   "id": "45063e47",
   "metadata": {},
   "outputs": [],
   "source": [
    "# Code snippet found on CDC website here:\n",
    "# https://dev.socrata.com/foundry/data.cdc.gov/pp7x-dyj2"
   ]
  },
  {
   "cell_type": "code",
   "execution_count": 2,
   "id": "d65a4fe0",
   "metadata": {},
   "outputs": [],
   "source": [
    "# Import libraries\n",
    "import pandas as pd\n",
    "from sodapy import Socrata"
   ]
  },
  {
   "cell_type": "code",
   "execution_count": 3,
   "id": "2aad08dd",
   "metadata": {},
   "outputs": [
    {
     "name": "stderr",
     "output_type": "stream",
     "text": [
      "WARNING:root:Requests made without an app_token will be subject to strict throttling limits.\n"
     ]
    }
   ],
   "source": [
    "client = Socrata(\"data.cdc.gov\", None)"
   ]
  },
  {
   "cell_type": "code",
   "execution_count": 4,
   "id": "75c0f635",
   "metadata": {},
   "outputs": [],
   "source": [
    "results = client.get(\"pp7x-dyj2\", limit=2000)"
   ]
  },
  {
   "cell_type": "code",
   "execution_count": 5,
   "id": "180b360f",
   "metadata": {},
   "outputs": [
    {
     "data": {
      "text/html": [
       "<div>\n",
       "<style scoped>\n",
       "    .dataframe tbody tr th:only-of-type {\n",
       "        vertical-align: middle;\n",
       "    }\n",
       "\n",
       "    .dataframe tbody tr th {\n",
       "        vertical-align: top;\n",
       "    }\n",
       "\n",
       "    .dataframe thead th {\n",
       "        text-align: right;\n",
       "    }\n",
       "</style>\n",
       "<table border=\"1\" class=\"dataframe\">\n",
       "  <thead>\n",
       "    <tr style=\"text-align: right;\">\n",
       "      <th></th>\n",
       "      <th>geoid</th>\n",
       "      <th>state</th>\n",
       "      <th>age</th>\n",
       "      <th>season</th>\n",
       "      <th>mmwr_year_week</th>\n",
       "      <th>deaths_from_pneumonia_and_influenza</th>\n",
       "      <th>all_deaths</th>\n",
       "      <th>pecent_of_deaths_due_to_pneumonia_or_influenza</th>\n",
       "      <th>pecent_complete</th>\n",
       "      <th>deaths_from_influenza</th>\n",
       "      <th>deaths_from_pneumonia</th>\n",
       "      <th>region</th>\n",
       "    </tr>\n",
       "  </thead>\n",
       "  <tbody>\n",
       "    <tr>\n",
       "      <th>0</th>\n",
       "      <td>State</td>\n",
       "      <td>Maryland</td>\n",
       "      <td>All</td>\n",
       "      <td>2017-18</td>\n",
       "      <td>201831</td>\n",
       "      <td>64</td>\n",
       "      <td>949</td>\n",
       "      <td>6.7439409905</td>\n",
       "      <td>113.91902681</td>\n",
       "      <td>NaN</td>\n",
       "      <td>NaN</td>\n",
       "      <td>NaN</td>\n",
       "    </tr>\n",
       "    <tr>\n",
       "      <th>1</th>\n",
       "      <td>State</td>\n",
       "      <td>Texas</td>\n",
       "      <td>All</td>\n",
       "      <td>2017-18</td>\n",
       "      <td>201819</td>\n",
       "      <td>242</td>\n",
       "      <td>3664</td>\n",
       "      <td>6.6048034934</td>\n",
       "      <td>114.08514493</td>\n",
       "      <td>NaN</td>\n",
       "      <td>NaN</td>\n",
       "      <td>NaN</td>\n",
       "    </tr>\n",
       "    <tr>\n",
       "      <th>2</th>\n",
       "      <td>State</td>\n",
       "      <td>Pennsylvania</td>\n",
       "      <td>All</td>\n",
       "      <td>2017-18</td>\n",
       "      <td>201802</td>\n",
       "      <td>282</td>\n",
       "      <td>3185</td>\n",
       "      <td>8.8540031397</td>\n",
       "      <td>132.19363205</td>\n",
       "      <td>NaN</td>\n",
       "      <td>NaN</td>\n",
       "      <td>NaN</td>\n",
       "    </tr>\n",
       "    <tr>\n",
       "      <th>3</th>\n",
       "      <td>State</td>\n",
       "      <td>Colorado</td>\n",
       "      <td>All</td>\n",
       "      <td>2017-18</td>\n",
       "      <td>201818</td>\n",
       "      <td>41</td>\n",
       "      <td>702</td>\n",
       "      <td>5.8404558405</td>\n",
       "      <td>114.5518426</td>\n",
       "      <td>NaN</td>\n",
       "      <td>NaN</td>\n",
       "      <td>NaN</td>\n",
       "    </tr>\n",
       "    <tr>\n",
       "      <th>4</th>\n",
       "      <td>State</td>\n",
       "      <td>Maryland</td>\n",
       "      <td>All</td>\n",
       "      <td>2017-18</td>\n",
       "      <td>201807</td>\n",
       "      <td>87</td>\n",
       "      <td>1060</td>\n",
       "      <td>8.2075471698</td>\n",
       "      <td>127.24359158</td>\n",
       "      <td>NaN</td>\n",
       "      <td>NaN</td>\n",
       "      <td>NaN</td>\n",
       "    </tr>\n",
       "  </tbody>\n",
       "</table>\n",
       "</div>"
      ],
      "text/plain": [
       "   geoid         state  age   season mmwr_year_week  \\\n",
       "0  State      Maryland  All  2017-18         201831   \n",
       "1  State         Texas  All  2017-18         201819   \n",
       "2  State  Pennsylvania  All  2017-18         201802   \n",
       "3  State      Colorado  All  2017-18         201818   \n",
       "4  State      Maryland  All  2017-18         201807   \n",
       "\n",
       "  deaths_from_pneumonia_and_influenza all_deaths  \\\n",
       "0                                  64        949   \n",
       "1                                 242       3664   \n",
       "2                                 282       3185   \n",
       "3                                  41        702   \n",
       "4                                  87       1060   \n",
       "\n",
       "  pecent_of_deaths_due_to_pneumonia_or_influenza pecent_complete  \\\n",
       "0                                   6.7439409905    113.91902681   \n",
       "1                                   6.6048034934    114.08514493   \n",
       "2                                   8.8540031397    132.19363205   \n",
       "3                                   5.8404558405     114.5518426   \n",
       "4                                   8.2075471698    127.24359158   \n",
       "\n",
       "  deaths_from_influenza deaths_from_pneumonia region  \n",
       "0                   NaN                   NaN    NaN  \n",
       "1                   NaN                   NaN    NaN  \n",
       "2                   NaN                   NaN    NaN  \n",
       "3                   NaN                   NaN    NaN  \n",
       "4                   NaN                   NaN    NaN  "
      ]
     },
     "execution_count": 5,
     "metadata": {},
     "output_type": "execute_result"
    }
   ],
   "source": [
    "results_df = pd.DataFrame.from_records(results)\n",
    "results_df.head()"
   ]
  },
  {
   "cell_type": "code",
   "execution_count": null,
   "id": "2564c81a",
   "metadata": {},
   "outputs": [],
   "source": []
  }
 ],
 "metadata": {
  "kernelspec": {
   "display_name": "ml_tf",
   "language": "python",
   "name": "ml_tf"
  },
  "language_info": {
   "codemirror_mode": {
    "name": "ipython",
    "version": 3
   },
   "file_extension": ".py",
   "mimetype": "text/x-python",
   "name": "python",
   "nbconvert_exporter": "python",
   "pygments_lexer": "ipython3",
   "version": "3.8.8"
  }
 },
 "nbformat": 4,
 "nbformat_minor": 5
}
