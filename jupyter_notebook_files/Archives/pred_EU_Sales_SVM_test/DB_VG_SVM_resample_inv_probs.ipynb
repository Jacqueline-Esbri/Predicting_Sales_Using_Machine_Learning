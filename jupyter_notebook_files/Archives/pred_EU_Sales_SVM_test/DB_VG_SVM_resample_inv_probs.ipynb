{
 "cells": [
  {
   "cell_type": "markdown",
   "id": "09222f29",
   "metadata": {},
   "source": [
    "# Video game SVM - resample - EU from NA and JP\n",
    "This notebook uses an SVM ML model to predict EU Sales based on Platform, Genre, NA_Sales, and JP_Sales. The notebook sets the threshold for EU_Sales to some value independent of the median value of EU_Sales and investigates oversampling, undersampling, and combination sampling to balance the yes/no values for EU_Sales. "
   ]
  },
  {
   "cell_type": "code",
   "execution_count": 1,
   "id": "391f8ebc",
   "metadata": {},
   "outputs": [],
   "source": [
    "# Import dependencies\n",
    "from sklearn.model_selection import train_test_split\n",
    "from sklearn.preprocessing import StandardScaler\n",
    "from sklearn.linear_model import LogisticRegression\n",
    "from sklearn.metrics import accuracy_score\n",
    "import pandas as pd\n",
    "\n",
    "import psycopg2\n",
    "from config import config\n",
    "\n",
    "%matplotlib inline\n",
    "import matplotlib.pyplot as plt"
   ]
  },
  {
   "cell_type": "markdown",
   "id": "e2e7a857",
   "metadata": {},
   "source": [
    "## Read in data and remove unnecessary columns"
   ]
  },
  {
   "cell_type": "code",
   "execution_count": 2,
   "id": "a2444996",
   "metadata": {},
   "outputs": [],
   "source": [
    "#Define Function to Retrieve Data From Heroku\n",
    "def get_Data():\n",
    "    \"\"\" Connect to the PostgreSQL database server \"\"\"\n",
    "    conn = None\n",
    "    try:\n",
    "         # read connection parameters\n",
    "        params = config()\n",
    "\n",
    "        # connect to the PostgreSQL server\n",
    "        print('Connecting to the PostgreSQL database...')\n",
    "        conn = psycopg2.connect(**params)\n",
    "\t\t\n",
    "        # create a cursor\n",
    "        cur = conn.cursor()\n",
    "        \n",
    "\t# execute a statement\n",
    "        sql = \"SELECT gm.rank, gm.na_sales, gm.eu_sales, gm.jp_sales, \" \\\n",
    "                \"p.platform, \" \\\n",
    "                \"g.genre \" \\\n",
    "                \"FROM game gm \" \\\n",
    "                \"INNER JOIN platform p \" \\\n",
    "                \"ON gm.platform_id=p.id \" \\\n",
    "                \"INNER JOIN genre g \" \\\n",
    "                \"ON gm.genre_id=g.id\"\n",
    "            \n",
    "        #print('PostgreSQL database query: ' sql)\n",
    "        query = pd.read_sql_query(sql, conn)\n",
    "        \n",
    "        df = pd.DataFrame(query)\n",
    "        return df\n",
    "    # close the communication with the PostgreSQL\n",
    "        cur.close()\n",
    "    except (Exception, psycopg2.DatabaseError) as error:\n",
    "        print(error)\n",
    "    finally:\n",
    "        if conn is not None:\n",
    "            conn.close()\n",
    "            print('Database connection closed.')"
   ]
  },
  {
   "cell_type": "code",
   "execution_count": 3,
   "id": "24829208",
   "metadata": {},
   "outputs": [
    {
     "name": "stdout",
     "output_type": "stream",
     "text": [
      "Connecting to the PostgreSQL database...\n",
      "Database connection closed.\n"
     ]
    },
    {
     "data": {
      "text/html": [
       "<div>\n",
       "<style scoped>\n",
       "    .dataframe tbody tr th:only-of-type {\n",
       "        vertical-align: middle;\n",
       "    }\n",
       "\n",
       "    .dataframe tbody tr th {\n",
       "        vertical-align: top;\n",
       "    }\n",
       "\n",
       "    .dataframe thead th {\n",
       "        text-align: right;\n",
       "    }\n",
       "</style>\n",
       "<table border=\"1\" class=\"dataframe\">\n",
       "  <thead>\n",
       "    <tr style=\"text-align: right;\">\n",
       "      <th></th>\n",
       "      <th>rank</th>\n",
       "      <th>na_sales</th>\n",
       "      <th>eu_sales</th>\n",
       "      <th>jp_sales</th>\n",
       "      <th>platform</th>\n",
       "      <th>genre</th>\n",
       "    </tr>\n",
       "  </thead>\n",
       "  <tbody>\n",
       "    <tr>\n",
       "      <th>0</th>\n",
       "      <td>6086</td>\n",
       "      <td>0.00</td>\n",
       "      <td>0.00</td>\n",
       "      <td>0.29</td>\n",
       "      <td>PS3</td>\n",
       "      <td>Sports</td>\n",
       "    </tr>\n",
       "    <tr>\n",
       "      <th>1</th>\n",
       "      <td>6819</td>\n",
       "      <td>0.06</td>\n",
       "      <td>0.13</td>\n",
       "      <td>0.00</td>\n",
       "      <td>PS2</td>\n",
       "      <td>Action</td>\n",
       "    </tr>\n",
       "    <tr>\n",
       "      <th>2</th>\n",
       "      <td>8108</td>\n",
       "      <td>0.05</td>\n",
       "      <td>0.10</td>\n",
       "      <td>0.00</td>\n",
       "      <td>PS2</td>\n",
       "      <td>Racing</td>\n",
       "    </tr>\n",
       "    <tr>\n",
       "      <th>3</th>\n",
       "      <td>7038</td>\n",
       "      <td>0.13</td>\n",
       "      <td>0.09</td>\n",
       "      <td>0.00</td>\n",
       "      <td>GBA</td>\n",
       "      <td>Shooter</td>\n",
       "    </tr>\n",
       "    <tr>\n",
       "      <th>4</th>\n",
       "      <td>14545</td>\n",
       "      <td>0.02</td>\n",
       "      <td>0.01</td>\n",
       "      <td>0.00</td>\n",
       "      <td>3DS</td>\n",
       "      <td>Adventure</td>\n",
       "    </tr>\n",
       "    <tr>\n",
       "      <th>...</th>\n",
       "      <td>...</td>\n",
       "      <td>...</td>\n",
       "      <td>...</td>\n",
       "      <td>...</td>\n",
       "      <td>...</td>\n",
       "      <td>...</td>\n",
       "    </tr>\n",
       "    <tr>\n",
       "      <th>9795</th>\n",
       "      <td>3059</td>\n",
       "      <td>0.26</td>\n",
       "      <td>0.01</td>\n",
       "      <td>0.13</td>\n",
       "      <td>PS3</td>\n",
       "      <td>Puzzle</td>\n",
       "    </tr>\n",
       "    <tr>\n",
       "      <th>9796</th>\n",
       "      <td>1469</td>\n",
       "      <td>0.79</td>\n",
       "      <td>0.42</td>\n",
       "      <td>0.00</td>\n",
       "      <td>Wii</td>\n",
       "      <td>Action</td>\n",
       "    </tr>\n",
       "    <tr>\n",
       "      <th>9797</th>\n",
       "      <td>4063</td>\n",
       "      <td>0.00</td>\n",
       "      <td>0.47</td>\n",
       "      <td>0.00</td>\n",
       "      <td>DS</td>\n",
       "      <td>Action</td>\n",
       "    </tr>\n",
       "    <tr>\n",
       "      <th>9798</th>\n",
       "      <td>3406</td>\n",
       "      <td>0.24</td>\n",
       "      <td>0.28</td>\n",
       "      <td>0.00</td>\n",
       "      <td>Wii</td>\n",
       "      <td>Fighting</td>\n",
       "    </tr>\n",
       "    <tr>\n",
       "      <th>9799</th>\n",
       "      <td>6025</td>\n",
       "      <td>0.23</td>\n",
       "      <td>0.06</td>\n",
       "      <td>0.00</td>\n",
       "      <td>NES</td>\n",
       "      <td>Racing</td>\n",
       "    </tr>\n",
       "  </tbody>\n",
       "</table>\n",
       "<p>9800 rows × 6 columns</p>\n",
       "</div>"
      ],
      "text/plain": [
       "       rank  na_sales  eu_sales  jp_sales platform      genre\n",
       "0      6086      0.00      0.00      0.29      PS3     Sports\n",
       "1      6819      0.06      0.13      0.00      PS2     Action\n",
       "2      8108      0.05      0.10      0.00      PS2     Racing\n",
       "3      7038      0.13      0.09      0.00      GBA    Shooter\n",
       "4     14545      0.02      0.01      0.00      3DS  Adventure\n",
       "...     ...       ...       ...       ...      ...        ...\n",
       "9795   3059      0.26      0.01      0.13      PS3     Puzzle\n",
       "9796   1469      0.79      0.42      0.00      Wii     Action\n",
       "9797   4063      0.00      0.47      0.00       DS     Action\n",
       "9798   3406      0.24      0.28      0.00      Wii   Fighting\n",
       "9799   6025      0.23      0.06      0.00      NES     Racing\n",
       "\n",
       "[9800 rows x 6 columns]"
      ]
     },
     "execution_count": 3,
     "metadata": {},
     "output_type": "execute_result"
    }
   ],
   "source": [
    "#Query Heroku For Data and create DataFrame\n",
    "df = get_Data()\n",
    "df"
   ]
  },
  {
   "cell_type": "code",
   "execution_count": 4,
   "id": "6b6bb961",
   "metadata": {},
   "outputs": [
    {
     "data": {
      "text/html": [
       "<div>\n",
       "<style scoped>\n",
       "    .dataframe tbody tr th:only-of-type {\n",
       "        vertical-align: middle;\n",
       "    }\n",
       "\n",
       "    .dataframe tbody tr th {\n",
       "        vertical-align: top;\n",
       "    }\n",
       "\n",
       "    .dataframe thead th {\n",
       "        text-align: right;\n",
       "    }\n",
       "</style>\n",
       "<table border=\"1\" class=\"dataframe\">\n",
       "  <thead>\n",
       "    <tr style=\"text-align: right;\">\n",
       "      <th></th>\n",
       "      <th>Platform</th>\n",
       "      <th>Genre</th>\n",
       "      <th>NA_Sales</th>\n",
       "      <th>EU_Sales</th>\n",
       "      <th>JP_Sales</th>\n",
       "    </tr>\n",
       "  </thead>\n",
       "  <tbody>\n",
       "    <tr>\n",
       "      <th>0</th>\n",
       "      <td>PS3</td>\n",
       "      <td>Sports</td>\n",
       "      <td>0.00</td>\n",
       "      <td>0.00</td>\n",
       "      <td>0.29</td>\n",
       "    </tr>\n",
       "    <tr>\n",
       "      <th>1</th>\n",
       "      <td>PS2</td>\n",
       "      <td>Action</td>\n",
       "      <td>0.06</td>\n",
       "      <td>0.13</td>\n",
       "      <td>0.00</td>\n",
       "    </tr>\n",
       "    <tr>\n",
       "      <th>2</th>\n",
       "      <td>PS2</td>\n",
       "      <td>Racing</td>\n",
       "      <td>0.05</td>\n",
       "      <td>0.10</td>\n",
       "      <td>0.00</td>\n",
       "    </tr>\n",
       "    <tr>\n",
       "      <th>3</th>\n",
       "      <td>GBA</td>\n",
       "      <td>Shooter</td>\n",
       "      <td>0.13</td>\n",
       "      <td>0.09</td>\n",
       "      <td>0.00</td>\n",
       "    </tr>\n",
       "    <tr>\n",
       "      <th>4</th>\n",
       "      <td>3DS</td>\n",
       "      <td>Adventure</td>\n",
       "      <td>0.02</td>\n",
       "      <td>0.01</td>\n",
       "      <td>0.00</td>\n",
       "    </tr>\n",
       "    <tr>\n",
       "      <th>...</th>\n",
       "      <td>...</td>\n",
       "      <td>...</td>\n",
       "      <td>...</td>\n",
       "      <td>...</td>\n",
       "      <td>...</td>\n",
       "    </tr>\n",
       "    <tr>\n",
       "      <th>9795</th>\n",
       "      <td>PS3</td>\n",
       "      <td>Puzzle</td>\n",
       "      <td>0.26</td>\n",
       "      <td>0.01</td>\n",
       "      <td>0.13</td>\n",
       "    </tr>\n",
       "    <tr>\n",
       "      <th>9796</th>\n",
       "      <td>Wii</td>\n",
       "      <td>Action</td>\n",
       "      <td>0.79</td>\n",
       "      <td>0.42</td>\n",
       "      <td>0.00</td>\n",
       "    </tr>\n",
       "    <tr>\n",
       "      <th>9797</th>\n",
       "      <td>DS</td>\n",
       "      <td>Action</td>\n",
       "      <td>0.00</td>\n",
       "      <td>0.47</td>\n",
       "      <td>0.00</td>\n",
       "    </tr>\n",
       "    <tr>\n",
       "      <th>9798</th>\n",
       "      <td>Wii</td>\n",
       "      <td>Fighting</td>\n",
       "      <td>0.24</td>\n",
       "      <td>0.28</td>\n",
       "      <td>0.00</td>\n",
       "    </tr>\n",
       "    <tr>\n",
       "      <th>9799</th>\n",
       "      <td>NES</td>\n",
       "      <td>Racing</td>\n",
       "      <td>0.23</td>\n",
       "      <td>0.06</td>\n",
       "      <td>0.00</td>\n",
       "    </tr>\n",
       "  </tbody>\n",
       "</table>\n",
       "<p>9800 rows × 5 columns</p>\n",
       "</div>"
      ],
      "text/plain": [
       "     Platform      Genre  NA_Sales  EU_Sales  JP_Sales\n",
       "0         PS3     Sports      0.00      0.00      0.29\n",
       "1         PS2     Action      0.06      0.13      0.00\n",
       "2         PS2     Racing      0.05      0.10      0.00\n",
       "3         GBA    Shooter      0.13      0.09      0.00\n",
       "4         3DS  Adventure      0.02      0.01      0.00\n",
       "...       ...        ...       ...       ...       ...\n",
       "9795      PS3     Puzzle      0.26      0.01      0.13\n",
       "9796      Wii     Action      0.79      0.42      0.00\n",
       "9797       DS     Action      0.00      0.47      0.00\n",
       "9798      Wii   Fighting      0.24      0.28      0.00\n",
       "9799      NES     Racing      0.23      0.06      0.00\n",
       "\n",
       "[9800 rows x 5 columns]"
      ]
     },
     "execution_count": 4,
     "metadata": {},
     "output_type": "execute_result"
    }
   ],
   "source": [
    "# Reorder and Rename Columns for Machine Learning Model\n",
    "vg_sales_df = df.reindex(columns= ['rank', 'platform', 'genre', 'na_sales', 'eu_sales', 'jp_sales'])\n",
    "#vg_sales_df.set_index(\"Rank\", inplace=True)\n",
    "vg_sales_df.drop(['rank'], axis=1, inplace=True)\n",
    "vg_sales_df.columns = ['Platform', 'Genre', 'NA_Sales', 'EU_Sales', 'JP_Sales']\n",
    "vg_sales_df"
   ]
  },
  {
   "cell_type": "code",
   "execution_count": 5,
   "id": "a16c3696",
   "metadata": {},
   "outputs": [
    {
     "name": "stdout",
     "output_type": "stream",
     "text": [
      "Platform     object\n",
      "Genre        object\n",
      "NA_Sales    float64\n",
      "EU_Sales    float64\n",
      "JP_Sales    float64\n",
      "dtype: object\n"
     ]
    }
   ],
   "source": [
    "print(vg_sales_df.dtypes)"
   ]
  },
  {
   "cell_type": "code",
   "execution_count": 6,
   "id": "aaf4dff0",
   "metadata": {},
   "outputs": [
    {
     "data": {
      "text/plain": [
       "array(['PS3', 'PS2', 'GBA', '3DS', 'PS', 'PSP', 'DS', 'Wii', 'PC', 'X360',\n",
       "       'GC', 'PSV', 'N64', 'XB', 'GB', 'NES', 'XOne', 'SAT', 'WiiU',\n",
       "       'SNES', '2600', 'PS4', 'GEN', 'DC', '3DO', 'SCD', 'WS', 'PCFX',\n",
       "       'NG'], dtype=object)"
      ]
     },
     "execution_count": 6,
     "metadata": {},
     "output_type": "execute_result"
    }
   ],
   "source": [
    "# Get unique Platform values\n",
    "vg_sales_df[\"Platform\"].unique()"
   ]
  },
  {
   "cell_type": "code",
   "execution_count": 7,
   "id": "b3e3afa7",
   "metadata": {},
   "outputs": [
    {
     "data": {
      "text/plain": [
       "0"
      ]
     },
     "execution_count": 7,
     "metadata": {},
     "output_type": "execute_result"
    }
   ],
   "source": [
    "# Make sure there are no null values\n",
    "vg_sales_df[\"Platform\"].isnull().sum()"
   ]
  },
  {
   "cell_type": "code",
   "execution_count": 8,
   "id": "eb03dbe3",
   "metadata": {},
   "outputs": [
    {
     "data": {
      "text/plain": [
       "array(['Sports', 'Action', 'Racing', 'Shooter', 'Adventure',\n",
       "       'Role-Playing', 'Fighting', 'Simulation', 'Misc', 'Platform',\n",
       "       'Puzzle', 'Strategy'], dtype=object)"
      ]
     },
     "execution_count": 8,
     "metadata": {},
     "output_type": "execute_result"
    }
   ],
   "source": [
    "# Get unique Genre values\n",
    "vg_sales_df[\"Genre\"].unique()"
   ]
  },
  {
   "cell_type": "code",
   "execution_count": 9,
   "id": "ea7efe9f",
   "metadata": {},
   "outputs": [
    {
     "name": "stdout",
     "output_type": "stream",
     "text": [
      "NA_Sales has 0 null values.\n",
      "EU_Sales has 0 null values.\n",
      "JP_Sales has 0 null values.\n"
     ]
    }
   ],
   "source": [
    "# Make sure sales columns do not have null values\n",
    "print(f\"NA_Sales has {vg_sales_df['NA_Sales'].isnull().sum()} null values.\")\n",
    "print(f\"EU_Sales has {vg_sales_df['EU_Sales'].isnull().sum()} null values.\")\n",
    "print(f\"JP_Sales has {vg_sales_df['JP_Sales'].isnull().sum()} null values.\")"
   ]
  },
  {
   "cell_type": "markdown",
   "id": "cffb7677",
   "metadata": {},
   "source": [
    "## Histogram of Sales Data"
   ]
  },
  {
   "cell_type": "code",
   "execution_count": 10,
   "id": "c3c7078b",
   "metadata": {
    "scrolled": true
   },
   "outputs": [
    {
     "data": {
      "image/png": "[encoded data removed]",
      "text/plain": [
       "<Figure size 432x288 with 1 Axes>"
      ]
     },
     "metadata": {
      "needs_background": "light"
     },
     "output_type": "display_data"
    },
    {
     "name": "stdout",
     "output_type": "stream",
     "text": [
      "The median sales for EU is $0.02 Million\n"
     ]
    }
   ],
   "source": [
    "# Create Histogram to view NA Sales distribution\n",
    "plt.hist(vg_sales_df['EU_Sales'], color = 'blue', edgecolor = 'black',\n",
    "         bins = 800)\n",
    "plt.title('Histogram of EU Sales')\n",
    "plt.xlabel('Sales ($ Millions)')\n",
    "plt.ylabel('Number of Games')\n",
    "plt.xlim(left=0, right=1)\n",
    "plt.axvline(vg_sales_df['EU_Sales'].median(),label=\"Median\",color='red')\n",
    "plt.axvline(vg_sales_df['EU_Sales'].mean(),label=\"Mean\",color='green')\n",
    "plt.legend()\n",
    "plt.show()\n",
    "\n",
    "print(f\"The median sales for EU is ${round(vg_sales_df['EU_Sales'].median(),3)} Million\")"
   ]
  },
  {
   "cell_type": "markdown",
   "id": "7a0d9df9",
   "metadata": {},
   "source": [
    "## Categorize Other_Sales Column"
   ]
  },
  {
   "cell_type": "code",
   "execution_count": 11,
   "id": "79f7b5a4",
   "metadata": {
    "scrolled": false
   },
   "outputs": [
    {
     "data": {
      "text/html": [
       "<div>\n",
       "<style scoped>\n",
       "    .dataframe tbody tr th:only-of-type {\n",
       "        vertical-align: middle;\n",
       "    }\n",
       "\n",
       "    .dataframe tbody tr th {\n",
       "        vertical-align: top;\n",
       "    }\n",
       "\n",
       "    .dataframe thead th {\n",
       "        text-align: right;\n",
       "    }\n",
       "</style>\n",
       "<table border=\"1\" class=\"dataframe\">\n",
       "  <thead>\n",
       "    <tr style=\"text-align: right;\">\n",
       "      <th></th>\n",
       "      <th>EU_Sales</th>\n",
       "    </tr>\n",
       "  </thead>\n",
       "  <tbody>\n",
       "    <tr>\n",
       "      <th>0</th>\n",
       "      <td>0.00</td>\n",
       "    </tr>\n",
       "    <tr>\n",
       "      <th>1</th>\n",
       "      <td>0.13</td>\n",
       "    </tr>\n",
       "    <tr>\n",
       "      <th>2</th>\n",
       "      <td>0.10</td>\n",
       "    </tr>\n",
       "    <tr>\n",
       "      <th>3</th>\n",
       "      <td>0.09</td>\n",
       "    </tr>\n",
       "    <tr>\n",
       "      <th>4</th>\n",
       "      <td>0.01</td>\n",
       "    </tr>\n",
       "    <tr>\n",
       "      <th>...</th>\n",
       "      <td>...</td>\n",
       "    </tr>\n",
       "    <tr>\n",
       "      <th>9795</th>\n",
       "      <td>0.01</td>\n",
       "    </tr>\n",
       "    <tr>\n",
       "      <th>9796</th>\n",
       "      <td>0.42</td>\n",
       "    </tr>\n",
       "    <tr>\n",
       "      <th>9797</th>\n",
       "      <td>0.47</td>\n",
       "    </tr>\n",
       "    <tr>\n",
       "      <th>9798</th>\n",
       "      <td>0.28</td>\n",
       "    </tr>\n",
       "    <tr>\n",
       "      <th>9799</th>\n",
       "      <td>0.06</td>\n",
       "    </tr>\n",
       "  </tbody>\n",
       "</table>\n",
       "<p>9800 rows × 1 columns</p>\n",
       "</div>"
      ],
      "text/plain": [
       "      EU_Sales\n",
       "0         0.00\n",
       "1         0.13\n",
       "2         0.10\n",
       "3         0.09\n",
       "4         0.01\n",
       "...        ...\n",
       "9795      0.01\n",
       "9796      0.42\n",
       "9797      0.47\n",
       "9798      0.28\n",
       "9799      0.06\n",
       "\n",
       "[9800 rows x 1 columns]"
      ]
     },
     "execution_count": 11,
     "metadata": {},
     "output_type": "execute_result"
    }
   ],
   "source": [
    "# Copy vg_sales_df\n",
    "categorize_eu_sales = vg_sales_df.filter([\"EU_Sales\"], axis=1)\n",
    "categorize_eu_sales"
   ]
  },
  {
   "cell_type": "markdown",
   "id": "2d968889",
   "metadata": {},
   "source": [
    "## Set Threshold Sales Number"
   ]
  },
  {
   "cell_type": "code",
   "execution_count": 12,
   "id": "680d600c",
   "metadata": {},
   "outputs": [],
   "source": [
    "# Set threshold sales number\n",
    "# na_sales_threshold = round(sales_data_nrm['NA_Sales'].median(),3)\n",
    "eu_sales_threshold = vg_sales_df.filter([\"EU_Sales\"], axis=1).quantile(q=0.75)[0]"
   ]
  },
  {
   "cell_type": "code",
   "execution_count": 13,
   "id": "ce7bbd28",
   "metadata": {
    "scrolled": false
   },
   "outputs": [
    {
     "data": {
      "text/html": [
       "<div>\n",
       "<style scoped>\n",
       "    .dataframe tbody tr th:only-of-type {\n",
       "        vertical-align: middle;\n",
       "    }\n",
       "\n",
       "    .dataframe tbody tr th {\n",
       "        vertical-align: top;\n",
       "    }\n",
       "\n",
       "    .dataframe thead th {\n",
       "        text-align: right;\n",
       "    }\n",
       "</style>\n",
       "<table border=\"1\" class=\"dataframe\">\n",
       "  <thead>\n",
       "    <tr style=\"text-align: right;\">\n",
       "      <th></th>\n",
       "      <th>EU_Sales_gt_0.11</th>\n",
       "    </tr>\n",
       "  </thead>\n",
       "  <tbody>\n",
       "    <tr>\n",
       "      <th>0</th>\n",
       "      <td>0.0</td>\n",
       "    </tr>\n",
       "    <tr>\n",
       "      <th>1</th>\n",
       "      <td>1.0</td>\n",
       "    </tr>\n",
       "    <tr>\n",
       "      <th>2</th>\n",
       "      <td>0.0</td>\n",
       "    </tr>\n",
       "    <tr>\n",
       "      <th>3</th>\n",
       "      <td>0.0</td>\n",
       "    </tr>\n",
       "    <tr>\n",
       "      <th>4</th>\n",
       "      <td>0.0</td>\n",
       "    </tr>\n",
       "  </tbody>\n",
       "</table>\n",
       "</div>"
      ],
      "text/plain": [
       "   EU_Sales_gt_0.11\n",
       "0               0.0\n",
       "1               1.0\n",
       "2               0.0\n",
       "3               0.0\n",
       "4               0.0"
      ]
     },
     "execution_count": 13,
     "metadata": {},
     "output_type": "execute_result"
    }
   ],
   "source": [
    "# Reassign NA_sales value\n",
    "for index,row in categorize_eu_sales.iterrows():\n",
    "    \n",
    "    # NA Sales\n",
    "    if row.EU_Sales > eu_sales_threshold:\n",
    "        categorize_eu_sales.loc[index] = 1\n",
    "    else:\n",
    "        categorize_eu_sales.loc[index] = 0\n",
    "\n",
    "eu_sales_col_name = \"EU_Sales_gt_\" + str(eu_sales_threshold)\n",
    "categorize_eu_sales.\\\n",
    "    rename(columns={\"EU_Sales\": eu_sales_col_name}, inplace=True)\n",
    "\n",
    "categorize_eu_sales.head()"
   ]
  },
  {
   "cell_type": "code",
   "execution_count": 14,
   "id": "35911fc0",
   "metadata": {},
   "outputs": [],
   "source": [
    "# Write categorized df to csv file\n",
    "# output_file_str = \"EU_Sales_nrm_thresh_\" + \\\n",
    "#     str(eu_sales_threshold).split(\".\")[0] + \"p\" + str(eu_sales_threshold).split(\".\")[1] + \".csv\"\n",
    "# categorize_eu_sales.to_csv('resources/' + output_file_str)"
   ]
  },
  {
   "cell_type": "markdown",
   "id": "55174c74",
   "metadata": {},
   "source": [
    "## Separate Sales Data for NA and JP"
   ]
  },
  {
   "cell_type": "code",
   "execution_count": 15,
   "id": "813cf191",
   "metadata": {
    "scrolled": true
   },
   "outputs": [
    {
     "data": {
      "text/html": [
       "<div>\n",
       "<style scoped>\n",
       "    .dataframe tbody tr th:only-of-type {\n",
       "        vertical-align: middle;\n",
       "    }\n",
       "\n",
       "    .dataframe tbody tr th {\n",
       "        vertical-align: top;\n",
       "    }\n",
       "\n",
       "    .dataframe thead th {\n",
       "        text-align: right;\n",
       "    }\n",
       "</style>\n",
       "<table border=\"1\" class=\"dataframe\">\n",
       "  <thead>\n",
       "    <tr style=\"text-align: right;\">\n",
       "      <th></th>\n",
       "      <th>NA_Sales</th>\n",
       "      <th>JP_Sales</th>\n",
       "    </tr>\n",
       "  </thead>\n",
       "  <tbody>\n",
       "    <tr>\n",
       "      <th>0</th>\n",
       "      <td>0.00</td>\n",
       "      <td>0.29</td>\n",
       "    </tr>\n",
       "    <tr>\n",
       "      <th>1</th>\n",
       "      <td>0.06</td>\n",
       "      <td>0.00</td>\n",
       "    </tr>\n",
       "    <tr>\n",
       "      <th>2</th>\n",
       "      <td>0.05</td>\n",
       "      <td>0.00</td>\n",
       "    </tr>\n",
       "    <tr>\n",
       "      <th>3</th>\n",
       "      <td>0.13</td>\n",
       "      <td>0.00</td>\n",
       "    </tr>\n",
       "    <tr>\n",
       "      <th>4</th>\n",
       "      <td>0.02</td>\n",
       "      <td>0.00</td>\n",
       "    </tr>\n",
       "  </tbody>\n",
       "</table>\n",
       "</div>"
      ],
      "text/plain": [
       "   NA_Sales  JP_Sales\n",
       "0      0.00      0.29\n",
       "1      0.06      0.00\n",
       "2      0.05      0.00\n",
       "3      0.13      0.00\n",
       "4      0.02      0.00"
      ]
     },
     "execution_count": 15,
     "metadata": {},
     "output_type": "execute_result"
    }
   ],
   "source": [
    "sales_data = vg_sales_df.filter([\"NA_Sales\", \"JP_Sales\"], axis=1)\n",
    "sales_data.head()"
   ]
  },
  {
   "cell_type": "code",
   "execution_count": 16,
   "id": "fb2c7e0b",
   "metadata": {
    "scrolled": false
   },
   "outputs": [
    {
     "data": {
      "text/html": [
       "<div>\n",
       "<style scoped>\n",
       "    .dataframe tbody tr th:only-of-type {\n",
       "        vertical-align: middle;\n",
       "    }\n",
       "\n",
       "    .dataframe tbody tr th {\n",
       "        vertical-align: top;\n",
       "    }\n",
       "\n",
       "    .dataframe thead th {\n",
       "        text-align: right;\n",
       "    }\n",
       "</style>\n",
       "<table border=\"1\" class=\"dataframe\">\n",
       "  <thead>\n",
       "    <tr style=\"text-align: right;\">\n",
       "      <th></th>\n",
       "      <th>Platform</th>\n",
       "    </tr>\n",
       "  </thead>\n",
       "  <tbody>\n",
       "    <tr>\n",
       "      <th>0</th>\n",
       "      <td>PS3</td>\n",
       "    </tr>\n",
       "    <tr>\n",
       "      <th>1</th>\n",
       "      <td>PS2</td>\n",
       "    </tr>\n",
       "    <tr>\n",
       "      <th>2</th>\n",
       "      <td>PS2</td>\n",
       "    </tr>\n",
       "    <tr>\n",
       "      <th>3</th>\n",
       "      <td>GBA</td>\n",
       "    </tr>\n",
       "    <tr>\n",
       "      <th>4</th>\n",
       "      <td>3DS</td>\n",
       "    </tr>\n",
       "  </tbody>\n",
       "</table>\n",
       "</div>"
      ],
      "text/plain": [
       "  Platform\n",
       "0      PS3\n",
       "1      PS2\n",
       "2      PS2\n",
       "3      GBA\n",
       "4      3DS"
      ]
     },
     "execution_count": 16,
     "metadata": {},
     "output_type": "execute_result"
    }
   ],
   "source": [
    "# Create platform df\n",
    "platform_df = vg_sales_df.filter([\"Platform\"], axis=1)\n",
    "platform_df.head()"
   ]
  },
  {
   "cell_type": "markdown",
   "id": "b63d9037",
   "metadata": {},
   "source": [
    "## Encode Platform data"
   ]
  },
  {
   "cell_type": "code",
   "execution_count": 17,
   "id": "60fbfb88",
   "metadata": {
    "scrolled": false
   },
   "outputs": [
    {
     "data": {
      "text/html": [
       "<div>\n",
       "<style scoped>\n",
       "    .dataframe tbody tr th:only-of-type {\n",
       "        vertical-align: middle;\n",
       "    }\n",
       "\n",
       "    .dataframe tbody tr th {\n",
       "        vertical-align: top;\n",
       "    }\n",
       "\n",
       "    .dataframe thead th {\n",
       "        text-align: right;\n",
       "    }\n",
       "</style>\n",
       "<table border=\"1\" class=\"dataframe\">\n",
       "  <thead>\n",
       "    <tr style=\"text-align: right;\">\n",
       "      <th></th>\n",
       "      <th>Platform_2600</th>\n",
       "      <th>Platform_3DO</th>\n",
       "      <th>Platform_3DS</th>\n",
       "      <th>Platform_DC</th>\n",
       "      <th>Platform_DS</th>\n",
       "      <th>Platform_GB</th>\n",
       "      <th>Platform_GBA</th>\n",
       "      <th>Platform_GC</th>\n",
       "      <th>Platform_GEN</th>\n",
       "      <th>Platform_N64</th>\n",
       "      <th>...</th>\n",
       "      <th>Platform_PSV</th>\n",
       "      <th>Platform_SAT</th>\n",
       "      <th>Platform_SCD</th>\n",
       "      <th>Platform_SNES</th>\n",
       "      <th>Platform_WS</th>\n",
       "      <th>Platform_Wii</th>\n",
       "      <th>Platform_WiiU</th>\n",
       "      <th>Platform_X360</th>\n",
       "      <th>Platform_XB</th>\n",
       "      <th>Platform_XOne</th>\n",
       "    </tr>\n",
       "  </thead>\n",
       "  <tbody>\n",
       "    <tr>\n",
       "      <th>0</th>\n",
       "      <td>0</td>\n",
       "      <td>0</td>\n",
       "      <td>0</td>\n",
       "      <td>0</td>\n",
       "      <td>0</td>\n",
       "      <td>0</td>\n",
       "      <td>0</td>\n",
       "      <td>0</td>\n",
       "      <td>0</td>\n",
       "      <td>0</td>\n",
       "      <td>...</td>\n",
       "      <td>0</td>\n",
       "      <td>0</td>\n",
       "      <td>0</td>\n",
       "      <td>0</td>\n",
       "      <td>0</td>\n",
       "      <td>0</td>\n",
       "      <td>0</td>\n",
       "      <td>0</td>\n",
       "      <td>0</td>\n",
       "      <td>0</td>\n",
       "    </tr>\n",
       "    <tr>\n",
       "      <th>1</th>\n",
       "      <td>0</td>\n",
       "      <td>0</td>\n",
       "      <td>0</td>\n",
       "      <td>0</td>\n",
       "      <td>0</td>\n",
       "      <td>0</td>\n",
       "      <td>0</td>\n",
       "      <td>0</td>\n",
       "      <td>0</td>\n",
       "      <td>0</td>\n",
       "      <td>...</td>\n",
       "      <td>0</td>\n",
       "      <td>0</td>\n",
       "      <td>0</td>\n",
       "      <td>0</td>\n",
       "      <td>0</td>\n",
       "      <td>0</td>\n",
       "      <td>0</td>\n",
       "      <td>0</td>\n",
       "      <td>0</td>\n",
       "      <td>0</td>\n",
       "    </tr>\n",
       "    <tr>\n",
       "      <th>2</th>\n",
       "      <td>0</td>\n",
       "      <td>0</td>\n",
       "      <td>0</td>\n",
       "      <td>0</td>\n",
       "      <td>0</td>\n",
       "      <td>0</td>\n",
       "      <td>0</td>\n",
       "      <td>0</td>\n",
       "      <td>0</td>\n",
       "      <td>0</td>\n",
       "      <td>...</td>\n",
       "      <td>0</td>\n",
       "      <td>0</td>\n",
       "      <td>0</td>\n",
       "      <td>0</td>\n",
       "      <td>0</td>\n",
       "      <td>0</td>\n",
       "      <td>0</td>\n",
       "      <td>0</td>\n",
       "      <td>0</td>\n",
       "      <td>0</td>\n",
       "    </tr>\n",
       "    <tr>\n",
       "      <th>3</th>\n",
       "      <td>0</td>\n",
       "      <td>0</td>\n",
       "      <td>0</td>\n",
       "      <td>0</td>\n",
       "      <td>0</td>\n",
       "      <td>0</td>\n",
       "      <td>1</td>\n",
       "      <td>0</td>\n",
       "      <td>0</td>\n",
       "      <td>0</td>\n",
       "      <td>...</td>\n",
       "      <td>0</td>\n",
       "      <td>0</td>\n",
       "      <td>0</td>\n",
       "      <td>0</td>\n",
       "      <td>0</td>\n",
       "      <td>0</td>\n",
       "      <td>0</td>\n",
       "      <td>0</td>\n",
       "      <td>0</td>\n",
       "      <td>0</td>\n",
       "    </tr>\n",
       "    <tr>\n",
       "      <th>4</th>\n",
       "      <td>0</td>\n",
       "      <td>0</td>\n",
       "      <td>1</td>\n",
       "      <td>0</td>\n",
       "      <td>0</td>\n",
       "      <td>0</td>\n",
       "      <td>0</td>\n",
       "      <td>0</td>\n",
       "      <td>0</td>\n",
       "      <td>0</td>\n",
       "      <td>...</td>\n",
       "      <td>0</td>\n",
       "      <td>0</td>\n",
       "      <td>0</td>\n",
       "      <td>0</td>\n",
       "      <td>0</td>\n",
       "      <td>0</td>\n",
       "      <td>0</td>\n",
       "      <td>0</td>\n",
       "      <td>0</td>\n",
       "      <td>0</td>\n",
       "    </tr>\n",
       "  </tbody>\n",
       "</table>\n",
       "<p>5 rows × 29 columns</p>\n",
       "</div>"
      ],
      "text/plain": [
       "   Platform_2600  Platform_3DO  Platform_3DS  Platform_DC  Platform_DS  \\\n",
       "0              0             0             0            0            0   \n",
       "1              0             0             0            0            0   \n",
       "2              0             0             0            0            0   \n",
       "3              0             0             0            0            0   \n",
       "4              0             0             1            0            0   \n",
       "\n",
       "   Platform_GB  Platform_GBA  Platform_GC  Platform_GEN  Platform_N64  ...  \\\n",
       "0            0             0            0             0             0  ...   \n",
       "1            0             0            0             0             0  ...   \n",
       "2            0             0            0             0             0  ...   \n",
       "3            0             1            0             0             0  ...   \n",
       "4            0             0            0             0             0  ...   \n",
       "\n",
       "   Platform_PSV  Platform_SAT  Platform_SCD  Platform_SNES  Platform_WS  \\\n",
       "0             0             0             0              0            0   \n",
       "1             0             0             0              0            0   \n",
       "2             0             0             0              0            0   \n",
       "3             0             0             0              0            0   \n",
       "4             0             0             0              0            0   \n",
       "\n",
       "   Platform_Wii  Platform_WiiU  Platform_X360  Platform_XB  Platform_XOne  \n",
       "0             0              0              0            0              0  \n",
       "1             0              0              0            0              0  \n",
       "2             0              0              0            0              0  \n",
       "3             0              0              0            0              0  \n",
       "4             0              0              0            0              0  \n",
       "\n",
       "[5 rows x 29 columns]"
      ]
     },
     "execution_count": 17,
     "metadata": {},
     "output_type": "execute_result"
    }
   ],
   "source": [
    "# Encode platform df\n",
    "platform_encoded_df = pd.get_dummies(platform_df)\n",
    "platform_encoded_df.head()"
   ]
  },
  {
   "cell_type": "code",
   "execution_count": 18,
   "id": "2ff351b0",
   "metadata": {},
   "outputs": [
    {
     "data": {
      "text/plain": [
       "(9800, 29)"
      ]
     },
     "execution_count": 18,
     "metadata": {},
     "output_type": "execute_result"
    }
   ],
   "source": [
    "# Get shape of platform_encoded_df\n",
    "platform_encoded_df.shape"
   ]
  },
  {
   "cell_type": "code",
   "execution_count": 19,
   "id": "dc35912f",
   "metadata": {},
   "outputs": [],
   "source": [
    "# Write encoded platform data to CSV\n",
    "# platform_encoded_df.to_csv('resources/encoded_platform.csv')"
   ]
  },
  {
   "cell_type": "markdown",
   "id": "5bc980eb",
   "metadata": {},
   "source": [
    "## Encode Genre data"
   ]
  },
  {
   "cell_type": "code",
   "execution_count": 20,
   "id": "c3d2bace",
   "metadata": {},
   "outputs": [
    {
     "data": {
      "text/html": [
       "<div>\n",
       "<style scoped>\n",
       "    .dataframe tbody tr th:only-of-type {\n",
       "        vertical-align: middle;\n",
       "    }\n",
       "\n",
       "    .dataframe tbody tr th {\n",
       "        vertical-align: top;\n",
       "    }\n",
       "\n",
       "    .dataframe thead th {\n",
       "        text-align: right;\n",
       "    }\n",
       "</style>\n",
       "<table border=\"1\" class=\"dataframe\">\n",
       "  <thead>\n",
       "    <tr style=\"text-align: right;\">\n",
       "      <th></th>\n",
       "      <th>Genre</th>\n",
       "    </tr>\n",
       "  </thead>\n",
       "  <tbody>\n",
       "    <tr>\n",
       "      <th>0</th>\n",
       "      <td>Sports</td>\n",
       "    </tr>\n",
       "    <tr>\n",
       "      <th>1</th>\n",
       "      <td>Action</td>\n",
       "    </tr>\n",
       "    <tr>\n",
       "      <th>2</th>\n",
       "      <td>Racing</td>\n",
       "    </tr>\n",
       "    <tr>\n",
       "      <th>3</th>\n",
       "      <td>Shooter</td>\n",
       "    </tr>\n",
       "    <tr>\n",
       "      <th>4</th>\n",
       "      <td>Adventure</td>\n",
       "    </tr>\n",
       "  </tbody>\n",
       "</table>\n",
       "</div>"
      ],
      "text/plain": [
       "       Genre\n",
       "0     Sports\n",
       "1     Action\n",
       "2     Racing\n",
       "3    Shooter\n",
       "4  Adventure"
      ]
     },
     "execution_count": 20,
     "metadata": {},
     "output_type": "execute_result"
    }
   ],
   "source": [
    "# Create genre df\n",
    "genre_df = vg_sales_df.filter([\"Genre\"], axis=1)\n",
    "genre_df.head()"
   ]
  },
  {
   "cell_type": "code",
   "execution_count": 21,
   "id": "5199a45e",
   "metadata": {
    "scrolled": true
   },
   "outputs": [
    {
     "data": {
      "text/html": [
       "<div>\n",
       "<style scoped>\n",
       "    .dataframe tbody tr th:only-of-type {\n",
       "        vertical-align: middle;\n",
       "    }\n",
       "\n",
       "    .dataframe tbody tr th {\n",
       "        vertical-align: top;\n",
       "    }\n",
       "\n",
       "    .dataframe thead th {\n",
       "        text-align: right;\n",
       "    }\n",
       "</style>\n",
       "<table border=\"1\" class=\"dataframe\">\n",
       "  <thead>\n",
       "    <tr style=\"text-align: right;\">\n",
       "      <th></th>\n",
       "      <th>Genre_Action</th>\n",
       "      <th>Genre_Adventure</th>\n",
       "      <th>Genre_Fighting</th>\n",
       "      <th>Genre_Misc</th>\n",
       "      <th>Genre_Platform</th>\n",
       "      <th>Genre_Puzzle</th>\n",
       "      <th>Genre_Racing</th>\n",
       "      <th>Genre_Role-Playing</th>\n",
       "      <th>Genre_Shooter</th>\n",
       "      <th>Genre_Simulation</th>\n",
       "      <th>Genre_Sports</th>\n",
       "      <th>Genre_Strategy</th>\n",
       "    </tr>\n",
       "  </thead>\n",
       "  <tbody>\n",
       "    <tr>\n",
       "      <th>0</th>\n",
       "      <td>0</td>\n",
       "      <td>0</td>\n",
       "      <td>0</td>\n",
       "      <td>0</td>\n",
       "      <td>0</td>\n",
       "      <td>0</td>\n",
       "      <td>0</td>\n",
       "      <td>0</td>\n",
       "      <td>0</td>\n",
       "      <td>0</td>\n",
       "      <td>1</td>\n",
       "      <td>0</td>\n",
       "    </tr>\n",
       "    <tr>\n",
       "      <th>1</th>\n",
       "      <td>1</td>\n",
       "      <td>0</td>\n",
       "      <td>0</td>\n",
       "      <td>0</td>\n",
       "      <td>0</td>\n",
       "      <td>0</td>\n",
       "      <td>0</td>\n",
       "      <td>0</td>\n",
       "      <td>0</td>\n",
       "      <td>0</td>\n",
       "      <td>0</td>\n",
       "      <td>0</td>\n",
       "    </tr>\n",
       "    <tr>\n",
       "      <th>2</th>\n",
       "      <td>0</td>\n",
       "      <td>0</td>\n",
       "      <td>0</td>\n",
       "      <td>0</td>\n",
       "      <td>0</td>\n",
       "      <td>0</td>\n",
       "      <td>1</td>\n",
       "      <td>0</td>\n",
       "      <td>0</td>\n",
       "      <td>0</td>\n",
       "      <td>0</td>\n",
       "      <td>0</td>\n",
       "    </tr>\n",
       "    <tr>\n",
       "      <th>3</th>\n",
       "      <td>0</td>\n",
       "      <td>0</td>\n",
       "      <td>0</td>\n",
       "      <td>0</td>\n",
       "      <td>0</td>\n",
       "      <td>0</td>\n",
       "      <td>0</td>\n",
       "      <td>0</td>\n",
       "      <td>1</td>\n",
       "      <td>0</td>\n",
       "      <td>0</td>\n",
       "      <td>0</td>\n",
       "    </tr>\n",
       "    <tr>\n",
       "      <th>4</th>\n",
       "      <td>0</td>\n",
       "      <td>1</td>\n",
       "      <td>0</td>\n",
       "      <td>0</td>\n",
       "      <td>0</td>\n",
       "      <td>0</td>\n",
       "      <td>0</td>\n",
       "      <td>0</td>\n",
       "      <td>0</td>\n",
       "      <td>0</td>\n",
       "      <td>0</td>\n",
       "      <td>0</td>\n",
       "    </tr>\n",
       "  </tbody>\n",
       "</table>\n",
       "</div>"
      ],
      "text/plain": [
       "   Genre_Action  Genre_Adventure  Genre_Fighting  Genre_Misc  Genre_Platform  \\\n",
       "0             0                0               0           0               0   \n",
       "1             1                0               0           0               0   \n",
       "2             0                0               0           0               0   \n",
       "3             0                0               0           0               0   \n",
       "4             0                1               0           0               0   \n",
       "\n",
       "   Genre_Puzzle  Genre_Racing  Genre_Role-Playing  Genre_Shooter  \\\n",
       "0             0             0                   0              0   \n",
       "1             0             0                   0              0   \n",
       "2             0             1                   0              0   \n",
       "3             0             0                   0              1   \n",
       "4             0             0                   0              0   \n",
       "\n",
       "   Genre_Simulation  Genre_Sports  Genre_Strategy  \n",
       "0                 0             1               0  \n",
       "1                 0             0               0  \n",
       "2                 0             0               0  \n",
       "3                 0             0               0  \n",
       "4                 0             0               0  "
      ]
     },
     "execution_count": 21,
     "metadata": {},
     "output_type": "execute_result"
    }
   ],
   "source": [
    "# Encode genre df\n",
    "genre_encoded_df = pd.get_dummies(genre_df)\n",
    "genre_encoded_df.head()"
   ]
  },
  {
   "cell_type": "code",
   "execution_count": 22,
   "id": "1e9ca6bb",
   "metadata": {
    "scrolled": true
   },
   "outputs": [
    {
     "data": {
      "text/plain": [
       "(9800, 12)"
      ]
     },
     "execution_count": 22,
     "metadata": {},
     "output_type": "execute_result"
    }
   ],
   "source": [
    "# Get shape of genre_encoded_df\n",
    "genre_encoded_df.shape"
   ]
  },
  {
   "cell_type": "code",
   "execution_count": 23,
   "id": "cd7522ee",
   "metadata": {},
   "outputs": [],
   "source": [
    "# Write encoded genre data to CSV\n",
    "# genre_encoded_df.to_csv('resources/encoded_genre.csv')"
   ]
  },
  {
   "cell_type": "markdown",
   "id": "0ffdcc27",
   "metadata": {},
   "source": [
    "## Combine dataframes for analysis"
   ]
  },
  {
   "cell_type": "code",
   "execution_count": 24,
   "id": "bf8bd281",
   "metadata": {
    "scrolled": true
   },
   "outputs": [
    {
     "data": {
      "text/html": [
       "<div>\n",
       "<style scoped>\n",
       "    .dataframe tbody tr th:only-of-type {\n",
       "        vertical-align: middle;\n",
       "    }\n",
       "\n",
       "    .dataframe tbody tr th {\n",
       "        vertical-align: top;\n",
       "    }\n",
       "\n",
       "    .dataframe thead th {\n",
       "        text-align: right;\n",
       "    }\n",
       "</style>\n",
       "<table border=\"1\" class=\"dataframe\">\n",
       "  <thead>\n",
       "    <tr style=\"text-align: right;\">\n",
       "      <th></th>\n",
       "      <th>EU_Sales_gt_0.11</th>\n",
       "      <th>NA_Sales</th>\n",
       "      <th>JP_Sales</th>\n",
       "      <th>Platform_2600</th>\n",
       "      <th>Platform_3DO</th>\n",
       "      <th>Platform_3DS</th>\n",
       "      <th>Platform_DC</th>\n",
       "      <th>Platform_DS</th>\n",
       "      <th>Platform_GB</th>\n",
       "      <th>Platform_GBA</th>\n",
       "      <th>...</th>\n",
       "      <th>Genre_Fighting</th>\n",
       "      <th>Genre_Misc</th>\n",
       "      <th>Genre_Platform</th>\n",
       "      <th>Genre_Puzzle</th>\n",
       "      <th>Genre_Racing</th>\n",
       "      <th>Genre_Role-Playing</th>\n",
       "      <th>Genre_Shooter</th>\n",
       "      <th>Genre_Simulation</th>\n",
       "      <th>Genre_Sports</th>\n",
       "      <th>Genre_Strategy</th>\n",
       "    </tr>\n",
       "  </thead>\n",
       "  <tbody>\n",
       "    <tr>\n",
       "      <th>0</th>\n",
       "      <td>0.0</td>\n",
       "      <td>0.00</td>\n",
       "      <td>0.29</td>\n",
       "      <td>0</td>\n",
       "      <td>0</td>\n",
       "      <td>0</td>\n",
       "      <td>0</td>\n",
       "      <td>0</td>\n",
       "      <td>0</td>\n",
       "      <td>0</td>\n",
       "      <td>...</td>\n",
       "      <td>0</td>\n",
       "      <td>0</td>\n",
       "      <td>0</td>\n",
       "      <td>0</td>\n",
       "      <td>0</td>\n",
       "      <td>0</td>\n",
       "      <td>0</td>\n",
       "      <td>0</td>\n",
       "      <td>1</td>\n",
       "      <td>0</td>\n",
       "    </tr>\n",
       "    <tr>\n",
       "      <th>1</th>\n",
       "      <td>1.0</td>\n",
       "      <td>0.06</td>\n",
       "      <td>0.00</td>\n",
       "      <td>0</td>\n",
       "      <td>0</td>\n",
       "      <td>0</td>\n",
       "      <td>0</td>\n",
       "      <td>0</td>\n",
       "      <td>0</td>\n",
       "      <td>0</td>\n",
       "      <td>...</td>\n",
       "      <td>0</td>\n",
       "      <td>0</td>\n",
       "      <td>0</td>\n",
       "      <td>0</td>\n",
       "      <td>0</td>\n",
       "      <td>0</td>\n",
       "      <td>0</td>\n",
       "      <td>0</td>\n",
       "      <td>0</td>\n",
       "      <td>0</td>\n",
       "    </tr>\n",
       "    <tr>\n",
       "      <th>2</th>\n",
       "      <td>0.0</td>\n",
       "      <td>0.05</td>\n",
       "      <td>0.00</td>\n",
       "      <td>0</td>\n",
       "      <td>0</td>\n",
       "      <td>0</td>\n",
       "      <td>0</td>\n",
       "      <td>0</td>\n",
       "      <td>0</td>\n",
       "      <td>0</td>\n",
       "      <td>...</td>\n",
       "      <td>0</td>\n",
       "      <td>0</td>\n",
       "      <td>0</td>\n",
       "      <td>0</td>\n",
       "      <td>1</td>\n",
       "      <td>0</td>\n",
       "      <td>0</td>\n",
       "      <td>0</td>\n",
       "      <td>0</td>\n",
       "      <td>0</td>\n",
       "    </tr>\n",
       "    <tr>\n",
       "      <th>3</th>\n",
       "      <td>0.0</td>\n",
       "      <td>0.13</td>\n",
       "      <td>0.00</td>\n",
       "      <td>0</td>\n",
       "      <td>0</td>\n",
       "      <td>0</td>\n",
       "      <td>0</td>\n",
       "      <td>0</td>\n",
       "      <td>0</td>\n",
       "      <td>1</td>\n",
       "      <td>...</td>\n",
       "      <td>0</td>\n",
       "      <td>0</td>\n",
       "      <td>0</td>\n",
       "      <td>0</td>\n",
       "      <td>0</td>\n",
       "      <td>0</td>\n",
       "      <td>1</td>\n",
       "      <td>0</td>\n",
       "      <td>0</td>\n",
       "      <td>0</td>\n",
       "    </tr>\n",
       "    <tr>\n",
       "      <th>4</th>\n",
       "      <td>0.0</td>\n",
       "      <td>0.02</td>\n",
       "      <td>0.00</td>\n",
       "      <td>0</td>\n",
       "      <td>0</td>\n",
       "      <td>1</td>\n",
       "      <td>0</td>\n",
       "      <td>0</td>\n",
       "      <td>0</td>\n",
       "      <td>0</td>\n",
       "      <td>...</td>\n",
       "      <td>0</td>\n",
       "      <td>0</td>\n",
       "      <td>0</td>\n",
       "      <td>0</td>\n",
       "      <td>0</td>\n",
       "      <td>0</td>\n",
       "      <td>0</td>\n",
       "      <td>0</td>\n",
       "      <td>0</td>\n",
       "      <td>0</td>\n",
       "    </tr>\n",
       "  </tbody>\n",
       "</table>\n",
       "<p>5 rows × 44 columns</p>\n",
       "</div>"
      ],
      "text/plain": [
       "   EU_Sales_gt_0.11  NA_Sales  JP_Sales  Platform_2600  Platform_3DO  \\\n",
       "0               0.0      0.00      0.29              0             0   \n",
       "1               1.0      0.06      0.00              0             0   \n",
       "2               0.0      0.05      0.00              0             0   \n",
       "3               0.0      0.13      0.00              0             0   \n",
       "4               0.0      0.02      0.00              0             0   \n",
       "\n",
       "   Platform_3DS  Platform_DC  Platform_DS  Platform_GB  Platform_GBA  ...  \\\n",
       "0             0            0            0            0             0  ...   \n",
       "1             0            0            0            0             0  ...   \n",
       "2             0            0            0            0             0  ...   \n",
       "3             0            0            0            0             1  ...   \n",
       "4             1            0            0            0             0  ...   \n",
       "\n",
       "   Genre_Fighting  Genre_Misc  Genre_Platform  Genre_Puzzle  Genre_Racing  \\\n",
       "0               0           0               0             0             0   \n",
       "1               0           0               0             0             0   \n",
       "2               0           0               0             0             1   \n",
       "3               0           0               0             0             0   \n",
       "4               0           0               0             0             0   \n",
       "\n",
       "   Genre_Role-Playing  Genre_Shooter  Genre_Simulation  Genre_Sports  \\\n",
       "0                   0              0                 0             1   \n",
       "1                   0              0                 0             0   \n",
       "2                   0              0                 0             0   \n",
       "3                   0              1                 0             0   \n",
       "4                   0              0                 0             0   \n",
       "\n",
       "   Genre_Strategy  \n",
       "0               0  \n",
       "1               0  \n",
       "2               0  \n",
       "3               0  \n",
       "4               0  \n",
       "\n",
       "[5 rows x 44 columns]"
      ]
     },
     "execution_count": 24,
     "metadata": {},
     "output_type": "execute_result"
    }
   ],
   "source": [
    "# Combine dataframes to create sales_df_encoded\n",
    "sales_df_encoded = categorize_eu_sales.join(sales_data, how='outer').\\\n",
    "    join(platform_encoded_df, how='outer').join(genre_encoded_df, how='outer')\n",
    "sales_df_encoded.head()"
   ]
  },
  {
   "cell_type": "code",
   "execution_count": 25,
   "id": "c4251fb1",
   "metadata": {
    "scrolled": true
   },
   "outputs": [
    {
     "data": {
      "text/html": [
       "<div>\n",
       "<style scoped>\n",
       "    .dataframe tbody tr th:only-of-type {\n",
       "        vertical-align: middle;\n",
       "    }\n",
       "\n",
       "    .dataframe tbody tr th {\n",
       "        vertical-align: top;\n",
       "    }\n",
       "\n",
       "    .dataframe thead th {\n",
       "        text-align: right;\n",
       "    }\n",
       "</style>\n",
       "<table border=\"1\" class=\"dataframe\">\n",
       "  <thead>\n",
       "    <tr style=\"text-align: right;\">\n",
       "      <th></th>\n",
       "      <th>EU_Sales_gt_0.11</th>\n",
       "      <th>NA_Sales</th>\n",
       "      <th>JP_Sales</th>\n",
       "      <th>Platform_2600</th>\n",
       "      <th>Platform_3DO</th>\n",
       "      <th>Platform_3DS</th>\n",
       "      <th>Platform_DC</th>\n",
       "      <th>Platform_DS</th>\n",
       "      <th>Platform_GB</th>\n",
       "      <th>Platform_GBA</th>\n",
       "      <th>...</th>\n",
       "      <th>Genre_Fighting</th>\n",
       "      <th>Genre_Misc</th>\n",
       "      <th>Genre_Platform</th>\n",
       "      <th>Genre_Puzzle</th>\n",
       "      <th>Genre_Racing</th>\n",
       "      <th>Genre_Role-Playing</th>\n",
       "      <th>Genre_Shooter</th>\n",
       "      <th>Genre_Simulation</th>\n",
       "      <th>Genre_Sports</th>\n",
       "      <th>Genre_Strategy</th>\n",
       "    </tr>\n",
       "  </thead>\n",
       "  <tbody>\n",
       "    <tr>\n",
       "      <th>1233</th>\n",
       "      <td>0.0</td>\n",
       "      <td>0.03</td>\n",
       "      <td>0.0</td>\n",
       "      <td>0</td>\n",
       "      <td>0</td>\n",
       "      <td>0</td>\n",
       "      <td>0</td>\n",
       "      <td>0</td>\n",
       "      <td>0</td>\n",
       "      <td>0</td>\n",
       "      <td>...</td>\n",
       "      <td>1</td>\n",
       "      <td>0</td>\n",
       "      <td>0</td>\n",
       "      <td>0</td>\n",
       "      <td>0</td>\n",
       "      <td>0</td>\n",
       "      <td>0</td>\n",
       "      <td>0</td>\n",
       "      <td>0</td>\n",
       "      <td>0</td>\n",
       "    </tr>\n",
       "    <tr>\n",
       "      <th>2792</th>\n",
       "      <td>0.0</td>\n",
       "      <td>0.02</td>\n",
       "      <td>0.0</td>\n",
       "      <td>0</td>\n",
       "      <td>0</td>\n",
       "      <td>0</td>\n",
       "      <td>0</td>\n",
       "      <td>0</td>\n",
       "      <td>0</td>\n",
       "      <td>0</td>\n",
       "      <td>...</td>\n",
       "      <td>0</td>\n",
       "      <td>0</td>\n",
       "      <td>1</td>\n",
       "      <td>0</td>\n",
       "      <td>0</td>\n",
       "      <td>0</td>\n",
       "      <td>0</td>\n",
       "      <td>0</td>\n",
       "      <td>0</td>\n",
       "      <td>0</td>\n",
       "    </tr>\n",
       "    <tr>\n",
       "      <th>6693</th>\n",
       "      <td>0.0</td>\n",
       "      <td>0.00</td>\n",
       "      <td>0.0</td>\n",
       "      <td>0</td>\n",
       "      <td>0</td>\n",
       "      <td>0</td>\n",
       "      <td>0</td>\n",
       "      <td>0</td>\n",
       "      <td>0</td>\n",
       "      <td>0</td>\n",
       "      <td>...</td>\n",
       "      <td>0</td>\n",
       "      <td>0</td>\n",
       "      <td>0</td>\n",
       "      <td>0</td>\n",
       "      <td>1</td>\n",
       "      <td>0</td>\n",
       "      <td>0</td>\n",
       "      <td>0</td>\n",
       "      <td>0</td>\n",
       "      <td>0</td>\n",
       "    </tr>\n",
       "    <tr>\n",
       "      <th>7481</th>\n",
       "      <td>1.0</td>\n",
       "      <td>0.63</td>\n",
       "      <td>0.0</td>\n",
       "      <td>0</td>\n",
       "      <td>0</td>\n",
       "      <td>1</td>\n",
       "      <td>0</td>\n",
       "      <td>0</td>\n",
       "      <td>0</td>\n",
       "      <td>0</td>\n",
       "      <td>...</td>\n",
       "      <td>0</td>\n",
       "      <td>0</td>\n",
       "      <td>0</td>\n",
       "      <td>0</td>\n",
       "      <td>0</td>\n",
       "      <td>0</td>\n",
       "      <td>0</td>\n",
       "      <td>0</td>\n",
       "      <td>0</td>\n",
       "      <td>0</td>\n",
       "    </tr>\n",
       "    <tr>\n",
       "      <th>2418</th>\n",
       "      <td>1.0</td>\n",
       "      <td>0.40</td>\n",
       "      <td>0.0</td>\n",
       "      <td>0</td>\n",
       "      <td>0</td>\n",
       "      <td>0</td>\n",
       "      <td>0</td>\n",
       "      <td>0</td>\n",
       "      <td>0</td>\n",
       "      <td>1</td>\n",
       "      <td>...</td>\n",
       "      <td>1</td>\n",
       "      <td>0</td>\n",
       "      <td>0</td>\n",
       "      <td>0</td>\n",
       "      <td>0</td>\n",
       "      <td>0</td>\n",
       "      <td>0</td>\n",
       "      <td>0</td>\n",
       "      <td>0</td>\n",
       "      <td>0</td>\n",
       "    </tr>\n",
       "  </tbody>\n",
       "</table>\n",
       "<p>5 rows × 44 columns</p>\n",
       "</div>"
      ],
      "text/plain": [
       "      EU_Sales_gt_0.11  NA_Sales  JP_Sales  Platform_2600  Platform_3DO  \\\n",
       "1233               0.0      0.03       0.0              0             0   \n",
       "2792               0.0      0.02       0.0              0             0   \n",
       "6693               0.0      0.00       0.0              0             0   \n",
       "7481               1.0      0.63       0.0              0             0   \n",
       "2418               1.0      0.40       0.0              0             0   \n",
       "\n",
       "      Platform_3DS  Platform_DC  Platform_DS  Platform_GB  Platform_GBA  ...  \\\n",
       "1233             0            0            0            0             0  ...   \n",
       "2792             0            0            0            0             0  ...   \n",
       "6693             0            0            0            0             0  ...   \n",
       "7481             1            0            0            0             0  ...   \n",
       "2418             0            0            0            0             1  ...   \n",
       "\n",
       "      Genre_Fighting  Genre_Misc  Genre_Platform  Genre_Puzzle  Genre_Racing  \\\n",
       "1233               1           0               0             0             0   \n",
       "2792               0           0               1             0             0   \n",
       "6693               0           0               0             0             1   \n",
       "7481               0           0               0             0             0   \n",
       "2418               1           0               0             0             0   \n",
       "\n",
       "      Genre_Role-Playing  Genre_Shooter  Genre_Simulation  Genre_Sports  \\\n",
       "1233                   0              0                 0             0   \n",
       "2792                   0              0                 0             0   \n",
       "6693                   0              0                 0             0   \n",
       "7481                   0              0                 0             0   \n",
       "2418                   0              0                 0             0   \n",
       "\n",
       "      Genre_Strategy  \n",
       "1233               0  \n",
       "2792               0  \n",
       "6693               0  \n",
       "7481               0  \n",
       "2418               0  \n",
       "\n",
       "[5 rows x 44 columns]"
      ]
     },
     "execution_count": 25,
     "metadata": {},
     "output_type": "execute_result"
    }
   ],
   "source": [
    "# Create smaller df of 100 rows selected randomly from larger dataset\n",
    "sales_reduced = sales_df_encoded.sample(n=9800)\n",
    "sales_reduced.head()"
   ]
  },
  {
   "cell_type": "code",
   "execution_count": 26,
   "id": "fa1616a6",
   "metadata": {},
   "outputs": [
    {
     "data": {
      "text/html": [
       "<div>\n",
       "<style scoped>\n",
       "    .dataframe tbody tr th:only-of-type {\n",
       "        vertical-align: middle;\n",
       "    }\n",
       "\n",
       "    .dataframe tbody tr th {\n",
       "        vertical-align: top;\n",
       "    }\n",
       "\n",
       "    .dataframe thead th {\n",
       "        text-align: right;\n",
       "    }\n",
       "</style>\n",
       "<table border=\"1\" class=\"dataframe\">\n",
       "  <thead>\n",
       "    <tr style=\"text-align: right;\">\n",
       "      <th></th>\n",
       "      <th>EU_Sales_gt_0.11</th>\n",
       "      <th>NA_Sales</th>\n",
       "      <th>JP_Sales</th>\n",
       "      <th>Platform_2600</th>\n",
       "      <th>Platform_3DO</th>\n",
       "      <th>Platform_3DS</th>\n",
       "      <th>Platform_DC</th>\n",
       "      <th>Platform_DS</th>\n",
       "      <th>Platform_GB</th>\n",
       "      <th>Platform_GBA</th>\n",
       "      <th>...</th>\n",
       "      <th>Genre_Fighting</th>\n",
       "      <th>Genre_Misc</th>\n",
       "      <th>Genre_Platform</th>\n",
       "      <th>Genre_Puzzle</th>\n",
       "      <th>Genre_Racing</th>\n",
       "      <th>Genre_Role-Playing</th>\n",
       "      <th>Genre_Shooter</th>\n",
       "      <th>Genre_Simulation</th>\n",
       "      <th>Genre_Sports</th>\n",
       "      <th>Genre_Strategy</th>\n",
       "    </tr>\n",
       "  </thead>\n",
       "  <tbody>\n",
       "    <tr>\n",
       "      <th>0</th>\n",
       "      <td>0.0</td>\n",
       "      <td>0.03</td>\n",
       "      <td>0.0</td>\n",
       "      <td>0</td>\n",
       "      <td>0</td>\n",
       "      <td>0</td>\n",
       "      <td>0</td>\n",
       "      <td>0</td>\n",
       "      <td>0</td>\n",
       "      <td>0</td>\n",
       "      <td>...</td>\n",
       "      <td>1</td>\n",
       "      <td>0</td>\n",
       "      <td>0</td>\n",
       "      <td>0</td>\n",
       "      <td>0</td>\n",
       "      <td>0</td>\n",
       "      <td>0</td>\n",
       "      <td>0</td>\n",
       "      <td>0</td>\n",
       "      <td>0</td>\n",
       "    </tr>\n",
       "    <tr>\n",
       "      <th>1</th>\n",
       "      <td>0.0</td>\n",
       "      <td>0.02</td>\n",
       "      <td>0.0</td>\n",
       "      <td>0</td>\n",
       "      <td>0</td>\n",
       "      <td>0</td>\n",
       "      <td>0</td>\n",
       "      <td>0</td>\n",
       "      <td>0</td>\n",
       "      <td>0</td>\n",
       "      <td>...</td>\n",
       "      <td>0</td>\n",
       "      <td>0</td>\n",
       "      <td>1</td>\n",
       "      <td>0</td>\n",
       "      <td>0</td>\n",
       "      <td>0</td>\n",
       "      <td>0</td>\n",
       "      <td>0</td>\n",
       "      <td>0</td>\n",
       "      <td>0</td>\n",
       "    </tr>\n",
       "    <tr>\n",
       "      <th>2</th>\n",
       "      <td>0.0</td>\n",
       "      <td>0.00</td>\n",
       "      <td>0.0</td>\n",
       "      <td>0</td>\n",
       "      <td>0</td>\n",
       "      <td>0</td>\n",
       "      <td>0</td>\n",
       "      <td>0</td>\n",
       "      <td>0</td>\n",
       "      <td>0</td>\n",
       "      <td>...</td>\n",
       "      <td>0</td>\n",
       "      <td>0</td>\n",
       "      <td>0</td>\n",
       "      <td>0</td>\n",
       "      <td>1</td>\n",
       "      <td>0</td>\n",
       "      <td>0</td>\n",
       "      <td>0</td>\n",
       "      <td>0</td>\n",
       "      <td>0</td>\n",
       "    </tr>\n",
       "    <tr>\n",
       "      <th>3</th>\n",
       "      <td>1.0</td>\n",
       "      <td>0.63</td>\n",
       "      <td>0.0</td>\n",
       "      <td>0</td>\n",
       "      <td>0</td>\n",
       "      <td>1</td>\n",
       "      <td>0</td>\n",
       "      <td>0</td>\n",
       "      <td>0</td>\n",
       "      <td>0</td>\n",
       "      <td>...</td>\n",
       "      <td>0</td>\n",
       "      <td>0</td>\n",
       "      <td>0</td>\n",
       "      <td>0</td>\n",
       "      <td>0</td>\n",
       "      <td>0</td>\n",
       "      <td>0</td>\n",
       "      <td>0</td>\n",
       "      <td>0</td>\n",
       "      <td>0</td>\n",
       "    </tr>\n",
       "    <tr>\n",
       "      <th>4</th>\n",
       "      <td>1.0</td>\n",
       "      <td>0.40</td>\n",
       "      <td>0.0</td>\n",
       "      <td>0</td>\n",
       "      <td>0</td>\n",
       "      <td>0</td>\n",
       "      <td>0</td>\n",
       "      <td>0</td>\n",
       "      <td>0</td>\n",
       "      <td>1</td>\n",
       "      <td>...</td>\n",
       "      <td>1</td>\n",
       "      <td>0</td>\n",
       "      <td>0</td>\n",
       "      <td>0</td>\n",
       "      <td>0</td>\n",
       "      <td>0</td>\n",
       "      <td>0</td>\n",
       "      <td>0</td>\n",
       "      <td>0</td>\n",
       "      <td>0</td>\n",
       "    </tr>\n",
       "  </tbody>\n",
       "</table>\n",
       "<p>5 rows × 44 columns</p>\n",
       "</div>"
      ],
      "text/plain": [
       "   EU_Sales_gt_0.11  NA_Sales  JP_Sales  Platform_2600  Platform_3DO  \\\n",
       "0               0.0      0.03       0.0              0             0   \n",
       "1               0.0      0.02       0.0              0             0   \n",
       "2               0.0      0.00       0.0              0             0   \n",
       "3               1.0      0.63       0.0              0             0   \n",
       "4               1.0      0.40       0.0              0             0   \n",
       "\n",
       "   Platform_3DS  Platform_DC  Platform_DS  Platform_GB  Platform_GBA  ...  \\\n",
       "0             0            0            0            0             0  ...   \n",
       "1             0            0            0            0             0  ...   \n",
       "2             0            0            0            0             0  ...   \n",
       "3             1            0            0            0             0  ...   \n",
       "4             0            0            0            0             1  ...   \n",
       "\n",
       "   Genre_Fighting  Genre_Misc  Genre_Platform  Genre_Puzzle  Genre_Racing  \\\n",
       "0               1           0               0             0             0   \n",
       "1               0           0               1             0             0   \n",
       "2               0           0               0             0             1   \n",
       "3               0           0               0             0             0   \n",
       "4               1           0               0             0             0   \n",
       "\n",
       "   Genre_Role-Playing  Genre_Shooter  Genre_Simulation  Genre_Sports  \\\n",
       "0                   0              0                 0             0   \n",
       "1                   0              0                 0             0   \n",
       "2                   0              0                 0             0   \n",
       "3                   0              0                 0             0   \n",
       "4                   0              0                 0             0   \n",
       "\n",
       "   Genre_Strategy  \n",
       "0               0  \n",
       "1               0  \n",
       "2               0  \n",
       "3               0  \n",
       "4               0  \n",
       "\n",
       "[5 rows x 44 columns]"
      ]
     },
     "execution_count": 26,
     "metadata": {},
     "output_type": "execute_result"
    }
   ],
   "source": [
    "# Drop the index\n",
    "sales_reduced_no_idx = sales_reduced.reset_index(drop=True)\n",
    "sales_reduced_no_idx.head()"
   ]
  },
  {
   "cell_type": "markdown",
   "id": "d87ca4a9",
   "metadata": {},
   "source": [
    "## Perform ML with Logistic Regression"
   ]
  },
  {
   "cell_type": "code",
   "execution_count": 27,
   "id": "49d2f856",
   "metadata": {
    "scrolled": false
   },
   "outputs": [
    {
     "data": {
      "text/plain": [
       "0.0    7426\n",
       "1.0    2374\n",
       "Name: EU_Sales_gt_0.11, dtype: int64"
      ]
     },
     "execution_count": 27,
     "metadata": {},
     "output_type": "execute_result"
    }
   ],
   "source": [
    "# Count True/False NA_Sales numbers\n",
    "sales_reduced_no_idx[eu_sales_col_name].value_counts()"
   ]
  },
  {
   "cell_type": "code",
   "execution_count": 28,
   "id": "1b280f70",
   "metadata": {},
   "outputs": [],
   "source": [
    "# Set X and y data\n",
    "y = sales_reduced_no_idx[eu_sales_col_name]\n",
    "X = sales_reduced_no_idx.drop(columns=eu_sales_col_name)"
   ]
  },
  {
   "cell_type": "code",
   "execution_count": 29,
   "id": "b65d3c6a",
   "metadata": {},
   "outputs": [
    {
     "data": {
      "text/plain": [
       "Counter({0.0: 5570, 1.0: 1780})"
      ]
     },
     "execution_count": 29,
     "metadata": {},
     "output_type": "execute_result"
    }
   ],
   "source": [
    "# Split data into training and testing data\n",
    "from collections import Counter\n",
    "from sklearn.model_selection import train_test_split\n",
    "\n",
    "X_train1, X_test1, y_train, y_test = train_test_split(X, \n",
    "                                                    y, \n",
    "                                                    random_state=1, \n",
    "                                                    stratify=y)\n",
    "# X_train.shape\n",
    "Counter(y_train)"
   ]
  },
  {
   "cell_type": "code",
   "execution_count": 30,
   "id": "45fe1610",
   "metadata": {},
   "outputs": [],
   "source": [
    "# Import MinMaxScaler\n",
    "# from sklearn.preprocessing import MinMaxScaler\n",
    "\n",
    "# # Create a StandardScaler instance\n",
    "# scaler = MinMaxScaler(feature_range=(0,1))\n",
    "\n",
    "# # # Fit the Standard scaler with the training data\n",
    "# X_scaler = scaler.fit(X_train1)\n",
    "\n",
    "# # # Scale the data\n",
    "# X_train = X_scaler.transform(X_train1)\n",
    "# X_test = X_scaler.transform(X_test1)"
   ]
  },
  {
   "cell_type": "code",
   "execution_count": 31,
   "id": "cceb7c7d",
   "metadata": {},
   "outputs": [],
   "source": [
    "# Import MinMaxScaler\n",
    "from sklearn.preprocessing import StandardScaler\n",
    "\n",
    "# Create a StandardScaler instance\n",
    "scaler = StandardScaler()\n",
    "\n",
    "# # Fit the Standard scaler with the training data\n",
    "X_scaler = scaler.fit(X_train1)\n",
    "\n",
    "# # Scale the data\n",
    "X_train = X_scaler.transform(X_train1)\n",
    "X_test = X_scaler.transform(X_test1)"
   ]
  },
  {
   "cell_type": "markdown",
   "id": "dae4f8e7",
   "metadata": {},
   "source": [
    "### Oversample data"
   ]
  },
  {
   "cell_type": "markdown",
   "id": "5ef00359",
   "metadata": {},
   "source": [
    "Random Oversampling"
   ]
  },
  {
   "cell_type": "code",
   "execution_count": 32,
   "id": "37b003e5",
   "metadata": {},
   "outputs": [
    {
     "data": {
      "text/plain": [
       "Counter({0.0: 5570, 1.0: 5570})"
      ]
     },
     "execution_count": 32,
     "metadata": {},
     "output_type": "execute_result"
    }
   ],
   "source": [
    "# implement random oversampling\n",
    "from imblearn.over_sampling import RandomOverSampler\n",
    "ros = RandomOverSampler(random_state=1)\n",
    "X_resampled, y_resampled = ros.fit_resample(X_train, y_train)\n",
    "\n",
    "Counter(y_resampled)"
   ]
  },
  {
   "cell_type": "markdown",
   "id": "aba2167d",
   "metadata": {},
   "source": [
    "### ML Analysis"
   ]
  },
  {
   "cell_type": "markdown",
   "id": "918696cf",
   "metadata": {},
   "source": [
    "Logistic Regression"
   ]
  },
  {
   "cell_type": "code",
   "execution_count": 33,
   "id": "48260d30",
   "metadata": {},
   "outputs": [],
   "source": [
    "# Create a logistic regression model\n",
    "from sklearn.linear_model import LogisticRegression\n",
    "classifier = LogisticRegression(solver='lbfgs',\n",
    "                                max_iter=200,\n",
    "                                random_state=1)"
   ]
  },
  {
   "cell_type": "code",
   "execution_count": 34,
   "id": "d71f99ff",
   "metadata": {},
   "outputs": [
    {
     "data": {
      "text/plain": [
       "LogisticRegression(max_iter=200, random_state=1)"
      ]
     },
     "execution_count": 34,
     "metadata": {},
     "output_type": "execute_result"
    }
   ],
   "source": [
    "# Train the model\n",
    "# classifier.fit(X_train, y_train)\n",
    "classifier.fit(X_resampled, y_resampled)"
   ]
  },
  {
   "cell_type": "code",
   "execution_count": 35,
   "id": "35778fa2",
   "metadata": {},
   "outputs": [
    {
     "data": {
      "text/html": [
       "<div>\n",
       "<style scoped>\n",
       "    .dataframe tbody tr th:only-of-type {\n",
       "        vertical-align: middle;\n",
       "    }\n",
       "\n",
       "    .dataframe tbody tr th {\n",
       "        vertical-align: top;\n",
       "    }\n",
       "\n",
       "    .dataframe thead th {\n",
       "        text-align: right;\n",
       "    }\n",
       "</style>\n",
       "<table border=\"1\" class=\"dataframe\">\n",
       "  <thead>\n",
       "    <tr style=\"text-align: right;\">\n",
       "      <th></th>\n",
       "      <th>Prediction</th>\n",
       "      <th>Actual</th>\n",
       "    </tr>\n",
       "  </thead>\n",
       "  <tbody>\n",
       "    <tr>\n",
       "      <th>0</th>\n",
       "      <td>0.0</td>\n",
       "      <td>0.0</td>\n",
       "    </tr>\n",
       "    <tr>\n",
       "      <th>1</th>\n",
       "      <td>1.0</td>\n",
       "      <td>0.0</td>\n",
       "    </tr>\n",
       "    <tr>\n",
       "      <th>2</th>\n",
       "      <td>0.0</td>\n",
       "      <td>0.0</td>\n",
       "    </tr>\n",
       "    <tr>\n",
       "      <th>3</th>\n",
       "      <td>0.0</td>\n",
       "      <td>1.0</td>\n",
       "    </tr>\n",
       "    <tr>\n",
       "      <th>4</th>\n",
       "      <td>0.0</td>\n",
       "      <td>0.0</td>\n",
       "    </tr>\n",
       "    <tr>\n",
       "      <th>5</th>\n",
       "      <td>0.0</td>\n",
       "      <td>0.0</td>\n",
       "    </tr>\n",
       "    <tr>\n",
       "      <th>6</th>\n",
       "      <td>0.0</td>\n",
       "      <td>0.0</td>\n",
       "    </tr>\n",
       "    <tr>\n",
       "      <th>7</th>\n",
       "      <td>1.0</td>\n",
       "      <td>1.0</td>\n",
       "    </tr>\n",
       "    <tr>\n",
       "      <th>8</th>\n",
       "      <td>0.0</td>\n",
       "      <td>0.0</td>\n",
       "    </tr>\n",
       "    <tr>\n",
       "      <th>9</th>\n",
       "      <td>0.0</td>\n",
       "      <td>0.0</td>\n",
       "    </tr>\n",
       "  </tbody>\n",
       "</table>\n",
       "</div>"
      ],
      "text/plain": [
       "   Prediction  Actual\n",
       "0         0.0     0.0\n",
       "1         1.0     0.0\n",
       "2         0.0     0.0\n",
       "3         0.0     1.0\n",
       "4         0.0     0.0\n",
       "5         0.0     0.0\n",
       "6         0.0     0.0\n",
       "7         1.0     1.0\n",
       "8         0.0     0.0\n",
       "9         0.0     0.0"
      ]
     },
     "execution_count": 35,
     "metadata": {},
     "output_type": "execute_result"
    }
   ],
   "source": [
    "y_pred = classifier.predict(X_test)\n",
    "results = pd.DataFrame({\"Prediction\": y_pred, \"Actual\": y_test}).reset_index(drop=True)\n",
    "results.head(10)"
   ]
  },
  {
   "cell_type": "code",
   "execution_count": 36,
   "id": "e83767f3",
   "metadata": {},
   "outputs": [
    {
     "name": "stdout",
     "output_type": "stream",
     "text": [
      "0.8755102040816326\n"
     ]
    }
   ],
   "source": [
    "# Assess accuracy\n",
    "from sklearn.metrics import accuracy_score\n",
    "print(accuracy_score(y_test, y_pred))"
   ]
  },
  {
   "cell_type": "code",
   "execution_count": 37,
   "id": "7852856a",
   "metadata": {},
   "outputs": [
    {
     "data": {
      "text/plain": [
       "0.8565921426912806"
      ]
     },
     "execution_count": 37,
     "metadata": {},
     "output_type": "execute_result"
    }
   ],
   "source": [
    "from sklearn.metrics import balanced_accuracy_score\n",
    "\n",
    "balanced_accuracy_score(y_test, y_pred)"
   ]
  },
  {
   "cell_type": "code",
   "execution_count": 38,
   "id": "88f6e7b5",
   "metadata": {},
   "outputs": [
    {
     "data": {
      "text/html": [
       "<div>\n",
       "<style scoped>\n",
       "    .dataframe tbody tr th:only-of-type {\n",
       "        vertical-align: middle;\n",
       "    }\n",
       "\n",
       "    .dataframe tbody tr th {\n",
       "        vertical-align: top;\n",
       "    }\n",
       "\n",
       "    .dataframe thead th {\n",
       "        text-align: right;\n",
       "    }\n",
       "</style>\n",
       "<table border=\"1\" class=\"dataframe\">\n",
       "  <thead>\n",
       "    <tr style=\"text-align: right;\">\n",
       "      <th></th>\n",
       "      <th>Predicted &lt; threshold</th>\n",
       "      <th>Predicted &gt; threshold</th>\n",
       "    </tr>\n",
       "  </thead>\n",
       "  <tbody>\n",
       "    <tr>\n",
       "      <th>Actual &lt; threshold</th>\n",
       "      <td>1658</td>\n",
       "      <td>198</td>\n",
       "    </tr>\n",
       "    <tr>\n",
       "      <th>Actual &gt; threshold</th>\n",
       "      <td>107</td>\n",
       "      <td>487</td>\n",
       "    </tr>\n",
       "  </tbody>\n",
       "</table>\n",
       "</div>"
      ],
      "text/plain": [
       "                    Predicted < threshold  Predicted > threshold\n",
       "Actual < threshold                   1658                    198\n",
       "Actual > threshold                    107                    487"
      ]
     },
     "execution_count": 38,
     "metadata": {},
     "output_type": "execute_result"
    }
   ],
   "source": [
    "# # Print confusion matrix\n",
    "# from sklearn.metrics import confusion_matrix, classification_report\n",
    "# matrix = confusion_matrix(y_test, y_pred)\n",
    "# print(matrix)\n",
    "\n",
    "# Display the confusion matrix\n",
    "from sklearn.metrics import confusion_matrix, classification_report\n",
    "\n",
    "# Calculating the confusion matrix\n",
    "cm = confusion_matrix(y_test, y_pred)\n",
    "\n",
    "# Create a DataFrame from the confusion matrix.\n",
    "cm_df = pd.DataFrame(\n",
    "    cm, index=[\"Actual < threshold\", \"Actual > threshold\"], \n",
    "        columns=[\"Predicted < threshold\", \"Predicted > threshold\"])\n",
    "\n",
    "cm_df"
   ]
  },
  {
   "cell_type": "code",
   "execution_count": 39,
   "id": "bbf50cc4",
   "metadata": {},
   "outputs": [
    {
     "name": "stdout",
     "output_type": "stream",
     "text": [
      "              precision    recall  f1-score   support\n",
      "\n",
      "         0.0       0.94      0.89      0.92      1856\n",
      "         1.0       0.71      0.82      0.76       594\n",
      "\n",
      "    accuracy                           0.88      2450\n",
      "   macro avg       0.83      0.86      0.84      2450\n",
      "weighted avg       0.88      0.88      0.88      2450\n",
      "\n"
     ]
    }
   ],
   "source": [
    "# Print classification report\n",
    "report = classification_report(y_test, y_pred)\n",
    "print(report)"
   ]
  },
  {
   "cell_type": "markdown",
   "id": "f2fe1575",
   "metadata": {},
   "source": [
    "SVM"
   ]
  },
  {
   "cell_type": "markdown",
   "id": "2b753bc4",
   "metadata": {},
   "source": [
    "------------------------------"
   ]
  },
  {
   "cell_type": "code",
   "execution_count": 40,
   "id": "974b6457",
   "metadata": {},
   "outputs": [],
   "source": [
    "from sklearn.svm import SVC\n",
    "model = SVC(kernel='linear', probability=True)\n",
    "# model = SVC(kernel='rbf',gamma=0.01,C=10)"
   ]
  },
  {
   "cell_type": "code",
   "execution_count": 41,
   "id": "0771bcea",
   "metadata": {},
   "outputs": [
    {
     "data": {
      "text/plain": [
       "SVC(kernel='linear', probability=True)"
      ]
     },
     "execution_count": 41,
     "metadata": {},
     "output_type": "execute_result"
    }
   ],
   "source": [
    "model.fit(X_resampled, y_resampled)"
   ]
  },
  {
   "cell_type": "code",
   "execution_count": 42,
   "id": "eec44f4b",
   "metadata": {},
   "outputs": [
    {
     "data": {
      "text/html": [
       "<div>\n",
       "<style scoped>\n",
       "    .dataframe tbody tr th:only-of-type {\n",
       "        vertical-align: middle;\n",
       "    }\n",
       "\n",
       "    .dataframe tbody tr th {\n",
       "        vertical-align: top;\n",
       "    }\n",
       "\n",
       "    .dataframe thead th {\n",
       "        text-align: right;\n",
       "    }\n",
       "</style>\n",
       "<table border=\"1\" class=\"dataframe\">\n",
       "  <thead>\n",
       "    <tr style=\"text-align: right;\">\n",
       "      <th></th>\n",
       "      <th>Prediction</th>\n",
       "      <th>Actual</th>\n",
       "    </tr>\n",
       "  </thead>\n",
       "  <tbody>\n",
       "    <tr>\n",
       "      <th>0</th>\n",
       "      <td>0.0</td>\n",
       "      <td>0.0</td>\n",
       "    </tr>\n",
       "    <tr>\n",
       "      <th>1</th>\n",
       "      <td>1.0</td>\n",
       "      <td>0.0</td>\n",
       "    </tr>\n",
       "    <tr>\n",
       "      <th>2</th>\n",
       "      <td>0.0</td>\n",
       "      <td>0.0</td>\n",
       "    </tr>\n",
       "    <tr>\n",
       "      <th>3</th>\n",
       "      <td>0.0</td>\n",
       "      <td>1.0</td>\n",
       "    </tr>\n",
       "    <tr>\n",
       "      <th>4</th>\n",
       "      <td>0.0</td>\n",
       "      <td>0.0</td>\n",
       "    </tr>\n",
       "    <tr>\n",
       "      <th>5</th>\n",
       "      <td>0.0</td>\n",
       "      <td>0.0</td>\n",
       "    </tr>\n",
       "    <tr>\n",
       "      <th>6</th>\n",
       "      <td>0.0</td>\n",
       "      <td>0.0</td>\n",
       "    </tr>\n",
       "    <tr>\n",
       "      <th>7</th>\n",
       "      <td>1.0</td>\n",
       "      <td>1.0</td>\n",
       "    </tr>\n",
       "    <tr>\n",
       "      <th>8</th>\n",
       "      <td>0.0</td>\n",
       "      <td>0.0</td>\n",
       "    </tr>\n",
       "    <tr>\n",
       "      <th>9</th>\n",
       "      <td>0.0</td>\n",
       "      <td>0.0</td>\n",
       "    </tr>\n",
       "  </tbody>\n",
       "</table>\n",
       "</div>"
      ],
      "text/plain": [
       "   Prediction  Actual\n",
       "0         0.0     0.0\n",
       "1         1.0     0.0\n",
       "2         0.0     0.0\n",
       "3         0.0     1.0\n",
       "4         0.0     0.0\n",
       "5         0.0     0.0\n",
       "6         0.0     0.0\n",
       "7         1.0     1.0\n",
       "8         0.0     0.0\n",
       "9         0.0     0.0"
      ]
     },
     "execution_count": 42,
     "metadata": {},
     "output_type": "execute_result"
    }
   ],
   "source": [
    "y_pred = model.predict(X_test)\n",
    "results = pd.DataFrame({\"Prediction\": y_pred, \"Actual\": y_test}).reset_index(drop=True)\n",
    "results.head(10)"
   ]
  },
  {
   "cell_type": "code",
   "execution_count": 43,
   "id": "150c16f9",
   "metadata": {},
   "outputs": [
    {
     "name": "stdout",
     "output_type": "stream",
     "text": [
      "0.88\n"
     ]
    }
   ],
   "source": [
    "# Assess accuracy\n",
    "from sklearn.metrics import accuracy_score\n",
    "print(accuracy_score(y_test, y_pred))"
   ]
  },
  {
   "cell_type": "code",
   "execution_count": 44,
   "id": "10be7e6b",
   "metadata": {},
   "outputs": [
    {
     "data": {
      "text/plain": [
       "0.8629896305004063"
      ]
     },
     "execution_count": 44,
     "metadata": {},
     "output_type": "execute_result"
    }
   ],
   "source": [
    "from sklearn.metrics import balanced_accuracy_score\n",
    "\n",
    "balanced_accuracy_score(y_test, y_pred)"
   ]
  },
  {
   "cell_type": "code",
   "execution_count": 45,
   "id": "9b1bd7ee",
   "metadata": {},
   "outputs": [
    {
     "data": {
      "text/html": [
       "<div>\n",
       "<style scoped>\n",
       "    .dataframe tbody tr th:only-of-type {\n",
       "        vertical-align: middle;\n",
       "    }\n",
       "\n",
       "    .dataframe tbody tr th {\n",
       "        vertical-align: top;\n",
       "    }\n",
       "\n",
       "    .dataframe thead th {\n",
       "        text-align: right;\n",
       "    }\n",
       "</style>\n",
       "<table border=\"1\" class=\"dataframe\">\n",
       "  <thead>\n",
       "    <tr style=\"text-align: right;\">\n",
       "      <th></th>\n",
       "      <th>Predicted &lt; threshold</th>\n",
       "      <th>Predicted &gt; threshold</th>\n",
       "    </tr>\n",
       "  </thead>\n",
       "  <tbody>\n",
       "    <tr>\n",
       "      <th>Actual &lt; threshold</th>\n",
       "      <td>1663</td>\n",
       "      <td>193</td>\n",
       "    </tr>\n",
       "    <tr>\n",
       "      <th>Actual &gt; threshold</th>\n",
       "      <td>101</td>\n",
       "      <td>493</td>\n",
       "    </tr>\n",
       "  </tbody>\n",
       "</table>\n",
       "</div>"
      ],
      "text/plain": [
       "                    Predicted < threshold  Predicted > threshold\n",
       "Actual < threshold                   1663                    193\n",
       "Actual > threshold                    101                    493"
      ]
     },
     "execution_count": 45,
     "metadata": {},
     "output_type": "execute_result"
    }
   ],
   "source": [
    "# # Print confusion matrix\n",
    "# from sklearn.metrics import confusion_matrix, classification_report\n",
    "# matrix = confusion_matrix(y_test, y_pred)\n",
    "# print(matrix)\n",
    "\n",
    "# Display the confusion matrix\n",
    "from sklearn.metrics import confusion_matrix, classification_report\n",
    "\n",
    "# Calculating the confusion matrix\n",
    "cm = confusion_matrix(y_test, y_pred)\n",
    "\n",
    "# Create a DataFrame from the confusion matrix.\n",
    "cm_df = pd.DataFrame(\n",
    "    cm, index=[\"Actual < threshold\", \"Actual > threshold\"], \n",
    "        columns=[\"Predicted < threshold\", \"Predicted > threshold\"])\n",
    "\n",
    "cm_df"
   ]
  },
  {
   "cell_type": "code",
   "execution_count": 46,
   "id": "5f90a891",
   "metadata": {},
   "outputs": [
    {
     "name": "stdout",
     "output_type": "stream",
     "text": [
      "              precision    recall  f1-score   support\n",
      "\n",
      "         0.0       0.94      0.90      0.92      1856\n",
      "         1.0       0.72      0.83      0.77       594\n",
      "\n",
      "    accuracy                           0.88      2450\n",
      "   macro avg       0.83      0.86      0.84      2450\n",
      "weighted avg       0.89      0.88      0.88      2450\n",
      "\n"
     ]
    }
   ],
   "source": [
    "# Print classification report\n",
    "report = classification_report(y_test, y_pred)\n",
    "print(report)"
   ]
  },
  {
   "cell_type": "code",
   "execution_count": 47,
   "id": "04fae70d",
   "metadata": {
    "scrolled": true
   },
   "outputs": [
    {
     "name": "stdout",
     "output_type": "stream",
     "text": [
      "Train Score:  0.8589766606822262\n",
      "Test Score:  0.88\n"
     ]
    }
   ],
   "source": [
    "print('Train Score: ', model.score(X_resampled, y_resampled))  \n",
    "print('Test Score: ', model.score(X_test, y_test))"
   ]
  },
  {
   "cell_type": "markdown",
   "id": "f8abcefa",
   "metadata": {},
   "source": [
    "Investigate Probabilities"
   ]
  },
  {
   "cell_type": "code",
   "execution_count": 48,
   "id": "c774c01e",
   "metadata": {},
   "outputs": [],
   "source": [
    "# Find probabilities\n",
    "probs_0 = model.predict_proba(X_test)[:,0]\n",
    "probs_1 = model.predict_proba(X_test)[:,1]\n",
    "\n",
    "# Create dataframe with predictions and probabilities\n",
    "pred_df = pd.DataFrame({\n",
    "    \"Validation\":y_test,\n",
    "    \"Prediction\":y_pred,\n",
    "    \"0_Probability\":probs_0,\n",
    "    \"1_Probability\":probs_1\n",
    "})\n",
    "\n",
    "# Create dataframe for 0 class, then create histograms to display probabilities\n",
    "probs_0_df = pred_df.loc[pred_df[\"Prediction\"] == 0]\n",
    "\n",
    "# Create dataframe for 1 class, then create histograms to display probabilities\n",
    "probs_1_df = pred_df.loc[pred_df[\"Prediction\"] == 1]"
   ]
  },
  {
   "cell_type": "markdown",
   "id": "7654eb36",
   "metadata": {},
   "source": [
    "Plot probability histograms"
   ]
  },
  {
   "cell_type": "code",
   "execution_count": 49,
   "id": "81841b3c",
   "metadata": {},
   "outputs": [
    {
     "data": {
      "image/png": "[encoded data removed]",
      "text/plain": [
       "<Figure size 432x288 with 1 Axes>"
      ]
     },
     "metadata": {
      "needs_background": "light"
     },
     "output_type": "display_data"
    }
   ],
   "source": [
    "plt.hist(probs_0_df[\"0_Probability\"], color = 'green', edgecolor = 'black',\n",
    "         bins = 20)\n",
    "plt.xlim(left=0.5, right=1)\n",
    "plt.xlabel(\"0 Probability\")\n",
    "plt.ylabel(\"Count\")\n",
    "# plt.savefig('SVM_0_probability_hist.png')\n",
    "plt.show()"
   ]
  },
  {
   "cell_type": "code",
   "execution_count": 50,
   "id": "249121d6",
   "metadata": {},
   "outputs": [
    {
     "data": {
      "image/png": "[encoded data removed]",
      "text/plain": [
       "<Figure size 432x288 with 1 Axes>"
      ]
     },
     "metadata": {
      "needs_background": "light"
     },
     "output_type": "display_data"
    }
   ],
   "source": [
    "plt.hist(probs_1_df[\"1_Probability\"], color = 'green', edgecolor = 'black',\n",
    "         bins = 20)\n",
    "plt.xlim(left=0.5, right=1)\n",
    "plt.xlabel(\"1 Probability\")\n",
    "plt.ylabel(\"Count\")\n",
    "# plt.savefig('SVM_1_probability_hist.png')\n",
    "plt.show()"
   ]
  },
  {
   "cell_type": "code",
   "execution_count": null,
   "id": "2a5dd857",
   "metadata": {},
   "outputs": [],
   "source": []
  }
 ],
 "metadata": {
  "kernelspec": {
   "display_name": "mlenv",
   "language": "python",
   "name": "mlenv"
  },
  "language_info": {
   "codemirror_mode": {
    "name": "ipython",
    "version": 3
   },
   "file_extension": ".py",
   "mimetype": "text/x-python",
   "name": "python",
   "nbconvert_exporter": "python",
   "pygments_lexer": "ipython3",
   "version": "3.8.8"
  }
 },
 "nbformat": 4,
 "nbformat_minor": 5
}
