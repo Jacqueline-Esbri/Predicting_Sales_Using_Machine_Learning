{
 "cells": [
  {
   "cell_type": "markdown",
   "id": "09222f29",
   "metadata": {},
   "source": [
    "# Video game Logistic Regression - resample - EU from NA and JP\n",
    "This notebook uses a Logistic Regression ML model to predict EU Sales based on Platform, Genre, NA_Sales, and JP_Sales. The notebook sets the threshold for EU_Sales to some value independent of the median value of EU_Sales and investigates oversampling, undersampling, and combination sampling to balance the yes/no values for EU_Sales. "
   ]
  },
  {
   "cell_type": "code",
   "execution_count": 1,
   "id": "391f8ebc",
   "metadata": {},
   "outputs": [],
   "source": [
    "# Import dependencies\n",
    "from sklearn.model_selection import train_test_split\n",
    "from sklearn.preprocessing import StandardScaler\n",
    "from sklearn.linear_model import LogisticRegression\n",
    "from sklearn.metrics import accuracy_score\n",
    "import pandas as pd\n",
    "import numpy as np\n",
    "\n",
    "%matplotlib inline\n",
    "import matplotlib.pyplot as plt"
   ]
  },
  {
   "cell_type": "markdown",
   "id": "e2e7a857",
   "metadata": {},
   "source": [
    "## Read in data and remove unnecessary columns"
   ]
  },
  {
   "cell_type": "code",
   "execution_count": 2,
   "id": "01705b50",
   "metadata": {},
   "outputs": [
    {
     "data": {
      "text/html": [
       "<div>\n",
       "<style scoped>\n",
       "    .dataframe tbody tr th:only-of-type {\n",
       "        vertical-align: middle;\n",
       "    }\n",
       "\n",
       "    .dataframe tbody tr th {\n",
       "        vertical-align: top;\n",
       "    }\n",
       "\n",
       "    .dataframe thead th {\n",
       "        text-align: right;\n",
       "    }\n",
       "</style>\n",
       "<table border=\"1\" class=\"dataframe\">\n",
       "  <thead>\n",
       "    <tr style=\"text-align: right;\">\n",
       "      <th></th>\n",
       "      <th>Rank</th>\n",
       "      <th>Name</th>\n",
       "      <th>Platform</th>\n",
       "      <th>Year</th>\n",
       "      <th>Genre</th>\n",
       "      <th>Publisher</th>\n",
       "      <th>NA_Sales</th>\n",
       "      <th>EU_Sales</th>\n",
       "      <th>JP_Sales</th>\n",
       "      <th>Other_Sales</th>\n",
       "      <th>Global_Sales</th>\n",
       "    </tr>\n",
       "  </thead>\n",
       "  <tbody>\n",
       "    <tr>\n",
       "      <th>0</th>\n",
       "      <td>1</td>\n",
       "      <td>Wii Sports</td>\n",
       "      <td>Wii</td>\n",
       "      <td>2006.0</td>\n",
       "      <td>Sports</td>\n",
       "      <td>Nintendo</td>\n",
       "      <td>41.49</td>\n",
       "      <td>29.02</td>\n",
       "      <td>3.77</td>\n",
       "      <td>8.46</td>\n",
       "      <td>82.74</td>\n",
       "    </tr>\n",
       "    <tr>\n",
       "      <th>1</th>\n",
       "      <td>2</td>\n",
       "      <td>Super Mario Bros.</td>\n",
       "      <td>NES</td>\n",
       "      <td>1985.0</td>\n",
       "      <td>Platform</td>\n",
       "      <td>Nintendo</td>\n",
       "      <td>29.08</td>\n",
       "      <td>3.58</td>\n",
       "      <td>6.81</td>\n",
       "      <td>0.77</td>\n",
       "      <td>40.24</td>\n",
       "    </tr>\n",
       "    <tr>\n",
       "      <th>2</th>\n",
       "      <td>3</td>\n",
       "      <td>Mario Kart Wii</td>\n",
       "      <td>Wii</td>\n",
       "      <td>2008.0</td>\n",
       "      <td>Racing</td>\n",
       "      <td>Nintendo</td>\n",
       "      <td>15.85</td>\n",
       "      <td>12.88</td>\n",
       "      <td>3.79</td>\n",
       "      <td>3.31</td>\n",
       "      <td>35.82</td>\n",
       "    </tr>\n",
       "    <tr>\n",
       "      <th>3</th>\n",
       "      <td>4</td>\n",
       "      <td>Wii Sports Resort</td>\n",
       "      <td>Wii</td>\n",
       "      <td>2009.0</td>\n",
       "      <td>Sports</td>\n",
       "      <td>Nintendo</td>\n",
       "      <td>15.75</td>\n",
       "      <td>11.01</td>\n",
       "      <td>3.28</td>\n",
       "      <td>2.96</td>\n",
       "      <td>33.00</td>\n",
       "    </tr>\n",
       "    <tr>\n",
       "      <th>4</th>\n",
       "      <td>5</td>\n",
       "      <td>Pokemon Red/Pokemon Blue</td>\n",
       "      <td>GB</td>\n",
       "      <td>1996.0</td>\n",
       "      <td>Role-Playing</td>\n",
       "      <td>Nintendo</td>\n",
       "      <td>11.27</td>\n",
       "      <td>8.89</td>\n",
       "      <td>10.22</td>\n",
       "      <td>1.00</td>\n",
       "      <td>31.37</td>\n",
       "    </tr>\n",
       "  </tbody>\n",
       "</table>\n",
       "</div>"
      ],
      "text/plain": [
       "   Rank                      Name Platform    Year         Genre Publisher  \\\n",
       "0     1                Wii Sports      Wii  2006.0        Sports  Nintendo   \n",
       "1     2         Super Mario Bros.      NES  1985.0      Platform  Nintendo   \n",
       "2     3            Mario Kart Wii      Wii  2008.0        Racing  Nintendo   \n",
       "3     4         Wii Sports Resort      Wii  2009.0        Sports  Nintendo   \n",
       "4     5  Pokemon Red/Pokemon Blue       GB  1996.0  Role-Playing  Nintendo   \n",
       "\n",
       "   NA_Sales  EU_Sales  JP_Sales  Other_Sales  Global_Sales  \n",
       "0     41.49     29.02      3.77         8.46         82.74  \n",
       "1     29.08      3.58      6.81         0.77         40.24  \n",
       "2     15.85     12.88      3.79         3.31         35.82  \n",
       "3     15.75     11.01      3.28         2.96         33.00  \n",
       "4     11.27      8.89     10.22         1.00         31.37  "
      ]
     },
     "execution_count": 2,
     "metadata": {},
     "output_type": "execute_result"
    }
   ],
   "source": [
    "# Import data\n",
    "path = \"resources/vgsales.csv\"\n",
    "vg_sales_df = pd.read_csv(path)\n",
    "vg_sales_df.head()"
   ]
  },
  {
   "cell_type": "code",
   "execution_count": 3,
   "id": "b7abf6ec",
   "metadata": {},
   "outputs": [],
   "source": [
    "# vg_sales_df[vg_sales_df[\"Global_Sales\"] < 0.13].count()"
   ]
  },
  {
   "cell_type": "code",
   "execution_count": 4,
   "id": "b75ba231",
   "metadata": {
    "scrolled": false
   },
   "outputs": [
    {
     "data": {
      "text/html": [
       "<div>\n",
       "<style scoped>\n",
       "    .dataframe tbody tr th:only-of-type {\n",
       "        vertical-align: middle;\n",
       "    }\n",
       "\n",
       "    .dataframe tbody tr th {\n",
       "        vertical-align: top;\n",
       "    }\n",
       "\n",
       "    .dataframe thead th {\n",
       "        text-align: right;\n",
       "    }\n",
       "</style>\n",
       "<table border=\"1\" class=\"dataframe\">\n",
       "  <thead>\n",
       "    <tr style=\"text-align: right;\">\n",
       "      <th></th>\n",
       "      <th>Platform</th>\n",
       "      <th>Genre</th>\n",
       "      <th>NA_Sales</th>\n",
       "      <th>EU_Sales</th>\n",
       "      <th>JP_Sales</th>\n",
       "    </tr>\n",
       "    <tr>\n",
       "      <th>Rank</th>\n",
       "      <th></th>\n",
       "      <th></th>\n",
       "      <th></th>\n",
       "      <th></th>\n",
       "      <th></th>\n",
       "    </tr>\n",
       "  </thead>\n",
       "  <tbody>\n",
       "    <tr>\n",
       "      <th>1</th>\n",
       "      <td>Wii</td>\n",
       "      <td>Sports</td>\n",
       "      <td>41.49</td>\n",
       "      <td>29.02</td>\n",
       "      <td>3.77</td>\n",
       "    </tr>\n",
       "    <tr>\n",
       "      <th>2</th>\n",
       "      <td>NES</td>\n",
       "      <td>Platform</td>\n",
       "      <td>29.08</td>\n",
       "      <td>3.58</td>\n",
       "      <td>6.81</td>\n",
       "    </tr>\n",
       "    <tr>\n",
       "      <th>3</th>\n",
       "      <td>Wii</td>\n",
       "      <td>Racing</td>\n",
       "      <td>15.85</td>\n",
       "      <td>12.88</td>\n",
       "      <td>3.79</td>\n",
       "    </tr>\n",
       "    <tr>\n",
       "      <th>4</th>\n",
       "      <td>Wii</td>\n",
       "      <td>Sports</td>\n",
       "      <td>15.75</td>\n",
       "      <td>11.01</td>\n",
       "      <td>3.28</td>\n",
       "    </tr>\n",
       "    <tr>\n",
       "      <th>5</th>\n",
       "      <td>GB</td>\n",
       "      <td>Role-Playing</td>\n",
       "      <td>11.27</td>\n",
       "      <td>8.89</td>\n",
       "      <td>10.22</td>\n",
       "    </tr>\n",
       "  </tbody>\n",
       "</table>\n",
       "</div>"
      ],
      "text/plain": [
       "     Platform         Genre  NA_Sales  EU_Sales  JP_Sales\n",
       "Rank                                                     \n",
       "1         Wii        Sports     41.49     29.02      3.77\n",
       "2         NES      Platform     29.08      3.58      6.81\n",
       "3         Wii        Racing     15.85     12.88      3.79\n",
       "4         Wii        Sports     15.75     11.01      3.28\n",
       "5          GB  Role-Playing     11.27      8.89     10.22"
      ]
     },
     "execution_count": 4,
     "metadata": {},
     "output_type": "execute_result"
    }
   ],
   "source": [
    "# Drop columns\n",
    "vg_sales_df.drop([\"Name\", \"Year\", \"Publisher\", \"Other_Sales\", \"Global_Sales\"], axis=1, inplace=True)\n",
    "vg_sales_df.set_index(\"Rank\", inplace=True)\n",
    "vg_sales_df.head()"
   ]
  },
  {
   "cell_type": "code",
   "execution_count": 5,
   "id": "9736f46d",
   "metadata": {},
   "outputs": [
    {
     "data": {
      "text/plain": [
       "array(['Wii', 'NES', 'GB', 'DS', 'X360', 'PS3', 'PS2', 'SNES', 'GBA',\n",
       "       '3DS', 'PS4', 'N64', 'PS', 'XB', 'PC', '2600', 'PSP', 'XOne', 'GC',\n",
       "       'WiiU', 'GEN', 'DC', 'PSV', 'SAT', 'SCD', 'WS', 'NG', 'TG16',\n",
       "       '3DO', 'GG', 'PCFX'], dtype=object)"
      ]
     },
     "execution_count": 5,
     "metadata": {},
     "output_type": "execute_result"
    }
   ],
   "source": [
    "# Get unique Platform values\n",
    "vg_sales_df[\"Platform\"].unique()"
   ]
  },
  {
   "cell_type": "code",
   "execution_count": 6,
   "id": "9bb8c51d",
   "metadata": {},
   "outputs": [
    {
     "data": {
      "text/plain": [
       "0"
      ]
     },
     "execution_count": 6,
     "metadata": {},
     "output_type": "execute_result"
    }
   ],
   "source": [
    "# Make sure there are no null values\n",
    "vg_sales_df[\"Platform\"].isnull().sum()"
   ]
  },
  {
   "cell_type": "code",
   "execution_count": 7,
   "id": "18611170",
   "metadata": {},
   "outputs": [
    {
     "data": {
      "text/plain": [
       "array(['Sports', 'Platform', 'Racing', 'Role-Playing', 'Puzzle', 'Misc',\n",
       "       'Shooter', 'Simulation', 'Action', 'Fighting', 'Adventure',\n",
       "       'Strategy'], dtype=object)"
      ]
     },
     "execution_count": 7,
     "metadata": {},
     "output_type": "execute_result"
    }
   ],
   "source": [
    "# Get unique Genre values\n",
    "vg_sales_df[\"Genre\"].unique()"
   ]
  },
  {
   "cell_type": "code",
   "execution_count": 8,
   "id": "ac43b996",
   "metadata": {},
   "outputs": [
    {
     "data": {
      "text/plain": [
       "0"
      ]
     },
     "execution_count": 8,
     "metadata": {},
     "output_type": "execute_result"
    }
   ],
   "source": [
    "# Make sure there are no null values\n",
    "vg_sales_df[\"Genre\"].isnull().sum()"
   ]
  },
  {
   "cell_type": "code",
   "execution_count": 9,
   "id": "06e9c0a4",
   "metadata": {},
   "outputs": [
    {
     "name": "stdout",
     "output_type": "stream",
     "text": [
      "NA_Sales has 0 null values.\n",
      "EU_Sales has 0 null values.\n",
      "JP_Sales has 0 null values.\n"
     ]
    }
   ],
   "source": [
    "# Make sure sales columns do not have null values\n",
    "print(f\"NA_Sales has {vg_sales_df['NA_Sales'].isnull().sum()} null values.\")\n",
    "print(f\"EU_Sales has {vg_sales_df['EU_Sales'].isnull().sum()} null values.\")\n",
    "print(f\"JP_Sales has {vg_sales_df['JP_Sales'].isnull().sum()} null values.\")"
   ]
  },
  {
   "cell_type": "code",
   "execution_count": 10,
   "id": "13bc7d88",
   "metadata": {},
   "outputs": [],
   "source": [
    "# Write reduced df to csv\n",
    "# vg_sales_df.to_csv('resources/vgsales_reduced_NA_and_EU.csv')"
   ]
  },
  {
   "cell_type": "markdown",
   "id": "cffb7677",
   "metadata": {},
   "source": [
    "## Histogram of Sales Data"
   ]
  },
  {
   "cell_type": "code",
   "execution_count": 11,
   "id": "c3c7078b",
   "metadata": {},
   "outputs": [
    {
     "data": {
      "image/png": "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\n",
      "text/plain": [
       "<Figure size 432x288 with 1 Axes>"
      ]
     },
     "metadata": {
      "needs_background": "light"
     },
     "output_type": "display_data"
    },
    {
     "name": "stdout",
     "output_type": "stream",
     "text": [
      "The median sales for EU is $0.02 Million\n"
     ]
    }
   ],
   "source": [
    "# Create Histogram to view NA Sales distribution\n",
    "plt.hist(vg_sales_df['EU_Sales'], color = 'blue', edgecolor = 'black',\n",
    "         bins = 800)\n",
    "plt.title('Histogram of EU Sales')\n",
    "plt.xlabel('Sales ($ Millions)')\n",
    "plt.ylabel('Number of Games')\n",
    "plt.xlim(left=0, right=1)\n",
    "plt.axvline(vg_sales_df['EU_Sales'].median(),label=\"Median\",color='red')\n",
    "plt.axvline(vg_sales_df['EU_Sales'].mean(),label=\"Mean\",color='green')\n",
    "plt.legend()\n",
    "plt.show()\n",
    "\n",
    "print(f\"The median sales for EU is ${round(vg_sales_df['EU_Sales'].median(),3)} Million\")"
   ]
  },
  {
   "cell_type": "markdown",
   "id": "7a0d9df9",
   "metadata": {},
   "source": [
    "## Categorize Other_Sales Column"
   ]
  },
  {
   "cell_type": "code",
   "execution_count": 12,
   "id": "79f7b5a4",
   "metadata": {
    "scrolled": false
   },
   "outputs": [
    {
     "data": {
      "text/html": [
       "<div>\n",
       "<style scoped>\n",
       "    .dataframe tbody tr th:only-of-type {\n",
       "        vertical-align: middle;\n",
       "    }\n",
       "\n",
       "    .dataframe tbody tr th {\n",
       "        vertical-align: top;\n",
       "    }\n",
       "\n",
       "    .dataframe thead th {\n",
       "        text-align: right;\n",
       "    }\n",
       "</style>\n",
       "<table border=\"1\" class=\"dataframe\">\n",
       "  <thead>\n",
       "    <tr style=\"text-align: right;\">\n",
       "      <th></th>\n",
       "      <th>EU_Sales</th>\n",
       "    </tr>\n",
       "    <tr>\n",
       "      <th>Rank</th>\n",
       "      <th></th>\n",
       "    </tr>\n",
       "  </thead>\n",
       "  <tbody>\n",
       "    <tr>\n",
       "      <th>1</th>\n",
       "      <td>29.02</td>\n",
       "    </tr>\n",
       "    <tr>\n",
       "      <th>2</th>\n",
       "      <td>3.58</td>\n",
       "    </tr>\n",
       "    <tr>\n",
       "      <th>3</th>\n",
       "      <td>12.88</td>\n",
       "    </tr>\n",
       "    <tr>\n",
       "      <th>4</th>\n",
       "      <td>11.01</td>\n",
       "    </tr>\n",
       "    <tr>\n",
       "      <th>5</th>\n",
       "      <td>8.89</td>\n",
       "    </tr>\n",
       "    <tr>\n",
       "      <th>...</th>\n",
       "      <td>...</td>\n",
       "    </tr>\n",
       "    <tr>\n",
       "      <th>16596</th>\n",
       "      <td>0.00</td>\n",
       "    </tr>\n",
       "    <tr>\n",
       "      <th>16597</th>\n",
       "      <td>0.00</td>\n",
       "    </tr>\n",
       "    <tr>\n",
       "      <th>16598</th>\n",
       "      <td>0.00</td>\n",
       "    </tr>\n",
       "    <tr>\n",
       "      <th>16599</th>\n",
       "      <td>0.01</td>\n",
       "    </tr>\n",
       "    <tr>\n",
       "      <th>16600</th>\n",
       "      <td>0.00</td>\n",
       "    </tr>\n",
       "  </tbody>\n",
       "</table>\n",
       "<p>16598 rows × 1 columns</p>\n",
       "</div>"
      ],
      "text/plain": [
       "       EU_Sales\n",
       "Rank           \n",
       "1         29.02\n",
       "2          3.58\n",
       "3         12.88\n",
       "4         11.01\n",
       "5          8.89\n",
       "...         ...\n",
       "16596      0.00\n",
       "16597      0.00\n",
       "16598      0.00\n",
       "16599      0.01\n",
       "16600      0.00\n",
       "\n",
       "[16598 rows x 1 columns]"
      ]
     },
     "execution_count": 12,
     "metadata": {},
     "output_type": "execute_result"
    }
   ],
   "source": [
    "# Copy vg_sales_df\n",
    "categorize_eu_sales = vg_sales_df.filter([\"EU_Sales\"], axis=1)\n",
    "categorize_eu_sales"
   ]
  },
  {
   "cell_type": "markdown",
   "id": "d56f21de",
   "metadata": {},
   "source": [
    "## Calculate statistics for EU Sales"
   ]
  },
  {
   "cell_type": "code",
   "execution_count": 13,
   "id": "d4bace07",
   "metadata": {},
   "outputs": [],
   "source": [
    "eu_sales_stats = vg_sales_df.filter([\"EU_Sales\"], axis=1)\n",
    "# eu_sales_stats.quantile(q=0.75)"
   ]
  },
  {
   "cell_type": "markdown",
   "id": "0b6868fa",
   "metadata": {},
   "source": [
    "## Set Threshold Sales Number"
   ]
  },
  {
   "cell_type": "code",
   "execution_count": 14,
   "id": "d54b44c3",
   "metadata": {},
   "outputs": [
    {
     "data": {
      "text/plain": [
       "0.11"
      ]
     },
     "execution_count": 14,
     "metadata": {},
     "output_type": "execute_result"
    }
   ],
   "source": [
    "# Set threshold sales number\n",
    "# na_sales_threshold = round(sales_data_nrm['NA_Sales'].median(),3)\n",
    "# eu_sales_threshold = 0.2\n",
    "# eu_sales_threshold = eu_sales_stats.quantile(q=0.75)[0]\n",
    "eu_sales_threshold = vg_sales_df.filter([\"EU_Sales\"], axis=1).quantile(q=0.75)[0]\n",
    "eu_sales_threshold"
   ]
  },
  {
   "cell_type": "code",
   "execution_count": 15,
   "id": "6c262912",
   "metadata": {},
   "outputs": [
    {
     "data": {
      "text/html": [
       "<div>\n",
       "<style scoped>\n",
       "    .dataframe tbody tr th:only-of-type {\n",
       "        vertical-align: middle;\n",
       "    }\n",
       "\n",
       "    .dataframe tbody tr th {\n",
       "        vertical-align: top;\n",
       "    }\n",
       "\n",
       "    .dataframe thead th {\n",
       "        text-align: right;\n",
       "    }\n",
       "</style>\n",
       "<table border=\"1\" class=\"dataframe\">\n",
       "  <thead>\n",
       "    <tr style=\"text-align: right;\">\n",
       "      <th></th>\n",
       "      <th>EU_Sales</th>\n",
       "    </tr>\n",
       "  </thead>\n",
       "  <tbody>\n",
       "    <tr>\n",
       "      <th>count</th>\n",
       "      <td>16598.000000</td>\n",
       "    </tr>\n",
       "    <tr>\n",
       "      <th>mean</th>\n",
       "      <td>0.146652</td>\n",
       "    </tr>\n",
       "    <tr>\n",
       "      <th>std</th>\n",
       "      <td>0.505351</td>\n",
       "    </tr>\n",
       "    <tr>\n",
       "      <th>min</th>\n",
       "      <td>0.000000</td>\n",
       "    </tr>\n",
       "    <tr>\n",
       "      <th>25%</th>\n",
       "      <td>0.000000</td>\n",
       "    </tr>\n",
       "    <tr>\n",
       "      <th>50%</th>\n",
       "      <td>0.020000</td>\n",
       "    </tr>\n",
       "    <tr>\n",
       "      <th>75%</th>\n",
       "      <td>0.110000</td>\n",
       "    </tr>\n",
       "    <tr>\n",
       "      <th>max</th>\n",
       "      <td>29.020000</td>\n",
       "    </tr>\n",
       "  </tbody>\n",
       "</table>\n",
       "</div>"
      ],
      "text/plain": [
       "           EU_Sales\n",
       "count  16598.000000\n",
       "mean       0.146652\n",
       "std        0.505351\n",
       "min        0.000000\n",
       "25%        0.000000\n",
       "50%        0.020000\n",
       "75%        0.110000\n",
       "max       29.020000"
      ]
     },
     "execution_count": 15,
     "metadata": {},
     "output_type": "execute_result"
    }
   ],
   "source": [
    "eu_sales_stats.describe()"
   ]
  },
  {
   "cell_type": "code",
   "execution_count": 16,
   "id": "ce7bbd28",
   "metadata": {
    "scrolled": false
   },
   "outputs": [
    {
     "data": {
      "text/html": [
       "<div>\n",
       "<style scoped>\n",
       "    .dataframe tbody tr th:only-of-type {\n",
       "        vertical-align: middle;\n",
       "    }\n",
       "\n",
       "    .dataframe tbody tr th {\n",
       "        vertical-align: top;\n",
       "    }\n",
       "\n",
       "    .dataframe thead th {\n",
       "        text-align: right;\n",
       "    }\n",
       "</style>\n",
       "<table border=\"1\" class=\"dataframe\">\n",
       "  <thead>\n",
       "    <tr style=\"text-align: right;\">\n",
       "      <th></th>\n",
       "      <th>EU_Sales_gt_0.11</th>\n",
       "    </tr>\n",
       "    <tr>\n",
       "      <th>Rank</th>\n",
       "      <th></th>\n",
       "    </tr>\n",
       "  </thead>\n",
       "  <tbody>\n",
       "    <tr>\n",
       "      <th>1</th>\n",
       "      <td>1.0</td>\n",
       "    </tr>\n",
       "    <tr>\n",
       "      <th>2</th>\n",
       "      <td>1.0</td>\n",
       "    </tr>\n",
       "    <tr>\n",
       "      <th>3</th>\n",
       "      <td>1.0</td>\n",
       "    </tr>\n",
       "    <tr>\n",
       "      <th>4</th>\n",
       "      <td>1.0</td>\n",
       "    </tr>\n",
       "    <tr>\n",
       "      <th>5</th>\n",
       "      <td>1.0</td>\n",
       "    </tr>\n",
       "  </tbody>\n",
       "</table>\n",
       "</div>"
      ],
      "text/plain": [
       "      EU_Sales_gt_0.11\n",
       "Rank                  \n",
       "1                  1.0\n",
       "2                  1.0\n",
       "3                  1.0\n",
       "4                  1.0\n",
       "5                  1.0"
      ]
     },
     "execution_count": 16,
     "metadata": {},
     "output_type": "execute_result"
    }
   ],
   "source": [
    "# Reassign NA_sales value\n",
    "for index,row in categorize_eu_sales.iterrows():\n",
    "    \n",
    "    # NA Sales\n",
    "    if row.EU_Sales > eu_sales_threshold:\n",
    "        categorize_eu_sales.loc[index] = 1\n",
    "    else:\n",
    "        categorize_eu_sales.loc[index] = 0\n",
    "\n",
    "eu_sales_col_name = \"EU_Sales_gt_\" + str(eu_sales_threshold)\n",
    "categorize_eu_sales.\\\n",
    "    rename(columns={\"EU_Sales\": eu_sales_col_name}, inplace=True)\n",
    "\n",
    "categorize_eu_sales.head()"
   ]
  },
  {
   "cell_type": "code",
   "execution_count": 17,
   "id": "35911fc0",
   "metadata": {},
   "outputs": [],
   "source": [
    "# Write categorized df to csv file\n",
    "# output_file_str = \"EU_Sales_nrm_thresh_\" + \\\n",
    "#     str(eu_sales_threshold).split(\".\")[0] + \"p\" + str(eu_sales_threshold).split(\".\")[1] + \".csv\"\n",
    "# categorize_eu_sales.to_csv('resources/' + output_file_str)"
   ]
  },
  {
   "cell_type": "markdown",
   "id": "55174c74",
   "metadata": {},
   "source": [
    "## Separate Sales Data for NA and JP"
   ]
  },
  {
   "cell_type": "code",
   "execution_count": 18,
   "id": "813cf191",
   "metadata": {
    "scrolled": true
   },
   "outputs": [
    {
     "data": {
      "text/html": [
       "<div>\n",
       "<style scoped>\n",
       "    .dataframe tbody tr th:only-of-type {\n",
       "        vertical-align: middle;\n",
       "    }\n",
       "\n",
       "    .dataframe tbody tr th {\n",
       "        vertical-align: top;\n",
       "    }\n",
       "\n",
       "    .dataframe thead th {\n",
       "        text-align: right;\n",
       "    }\n",
       "</style>\n",
       "<table border=\"1\" class=\"dataframe\">\n",
       "  <thead>\n",
       "    <tr style=\"text-align: right;\">\n",
       "      <th></th>\n",
       "      <th>NA_Sales</th>\n",
       "      <th>JP_Sales</th>\n",
       "    </tr>\n",
       "    <tr>\n",
       "      <th>Rank</th>\n",
       "      <th></th>\n",
       "      <th></th>\n",
       "    </tr>\n",
       "  </thead>\n",
       "  <tbody>\n",
       "    <tr>\n",
       "      <th>1</th>\n",
       "      <td>41.49</td>\n",
       "      <td>3.77</td>\n",
       "    </tr>\n",
       "    <tr>\n",
       "      <th>2</th>\n",
       "      <td>29.08</td>\n",
       "      <td>6.81</td>\n",
       "    </tr>\n",
       "    <tr>\n",
       "      <th>3</th>\n",
       "      <td>15.85</td>\n",
       "      <td>3.79</td>\n",
       "    </tr>\n",
       "    <tr>\n",
       "      <th>4</th>\n",
       "      <td>15.75</td>\n",
       "      <td>3.28</td>\n",
       "    </tr>\n",
       "    <tr>\n",
       "      <th>5</th>\n",
       "      <td>11.27</td>\n",
       "      <td>10.22</td>\n",
       "    </tr>\n",
       "  </tbody>\n",
       "</table>\n",
       "</div>"
      ],
      "text/plain": [
       "      NA_Sales  JP_Sales\n",
       "Rank                    \n",
       "1        41.49      3.77\n",
       "2        29.08      6.81\n",
       "3        15.85      3.79\n",
       "4        15.75      3.28\n",
       "5        11.27     10.22"
      ]
     },
     "execution_count": 18,
     "metadata": {},
     "output_type": "execute_result"
    }
   ],
   "source": [
    "sales_data = vg_sales_df.filter([\"NA_Sales\", \"JP_Sales\"], axis=1)\n",
    "sales_data.head()"
   ]
  },
  {
   "cell_type": "code",
   "execution_count": 19,
   "id": "fb2c7e0b",
   "metadata": {
    "scrolled": false
   },
   "outputs": [
    {
     "data": {
      "text/html": [
       "<div>\n",
       "<style scoped>\n",
       "    .dataframe tbody tr th:only-of-type {\n",
       "        vertical-align: middle;\n",
       "    }\n",
       "\n",
       "    .dataframe tbody tr th {\n",
       "        vertical-align: top;\n",
       "    }\n",
       "\n",
       "    .dataframe thead th {\n",
       "        text-align: right;\n",
       "    }\n",
       "</style>\n",
       "<table border=\"1\" class=\"dataframe\">\n",
       "  <thead>\n",
       "    <tr style=\"text-align: right;\">\n",
       "      <th></th>\n",
       "      <th>Platform</th>\n",
       "    </tr>\n",
       "    <tr>\n",
       "      <th>Rank</th>\n",
       "      <th></th>\n",
       "    </tr>\n",
       "  </thead>\n",
       "  <tbody>\n",
       "    <tr>\n",
       "      <th>1</th>\n",
       "      <td>Wii</td>\n",
       "    </tr>\n",
       "    <tr>\n",
       "      <th>2</th>\n",
       "      <td>NES</td>\n",
       "    </tr>\n",
       "    <tr>\n",
       "      <th>3</th>\n",
       "      <td>Wii</td>\n",
       "    </tr>\n",
       "    <tr>\n",
       "      <th>4</th>\n",
       "      <td>Wii</td>\n",
       "    </tr>\n",
       "    <tr>\n",
       "      <th>5</th>\n",
       "      <td>GB</td>\n",
       "    </tr>\n",
       "  </tbody>\n",
       "</table>\n",
       "</div>"
      ],
      "text/plain": [
       "     Platform\n",
       "Rank         \n",
       "1         Wii\n",
       "2         NES\n",
       "3         Wii\n",
       "4         Wii\n",
       "5          GB"
      ]
     },
     "execution_count": 19,
     "metadata": {},
     "output_type": "execute_result"
    }
   ],
   "source": [
    "# Create platform df\n",
    "platform_df = vg_sales_df.filter([\"Platform\"], axis=1)\n",
    "platform_df.head()"
   ]
  },
  {
   "cell_type": "markdown",
   "id": "b63d9037",
   "metadata": {},
   "source": [
    "## Encode Platform data"
   ]
  },
  {
   "cell_type": "code",
   "execution_count": 20,
   "id": "60fbfb88",
   "metadata": {
    "scrolled": false
   },
   "outputs": [
    {
     "data": {
      "text/html": [
       "<div>\n",
       "<style scoped>\n",
       "    .dataframe tbody tr th:only-of-type {\n",
       "        vertical-align: middle;\n",
       "    }\n",
       "\n",
       "    .dataframe tbody tr th {\n",
       "        vertical-align: top;\n",
       "    }\n",
       "\n",
       "    .dataframe thead th {\n",
       "        text-align: right;\n",
       "    }\n",
       "</style>\n",
       "<table border=\"1\" class=\"dataframe\">\n",
       "  <thead>\n",
       "    <tr style=\"text-align: right;\">\n",
       "      <th></th>\n",
       "      <th>Platform_2600</th>\n",
       "      <th>Platform_3DO</th>\n",
       "      <th>Platform_3DS</th>\n",
       "      <th>Platform_DC</th>\n",
       "      <th>Platform_DS</th>\n",
       "      <th>Platform_GB</th>\n",
       "      <th>Platform_GBA</th>\n",
       "      <th>Platform_GC</th>\n",
       "      <th>Platform_GEN</th>\n",
       "      <th>Platform_GG</th>\n",
       "      <th>...</th>\n",
       "      <th>Platform_SAT</th>\n",
       "      <th>Platform_SCD</th>\n",
       "      <th>Platform_SNES</th>\n",
       "      <th>Platform_TG16</th>\n",
       "      <th>Platform_WS</th>\n",
       "      <th>Platform_Wii</th>\n",
       "      <th>Platform_WiiU</th>\n",
       "      <th>Platform_X360</th>\n",
       "      <th>Platform_XB</th>\n",
       "      <th>Platform_XOne</th>\n",
       "    </tr>\n",
       "    <tr>\n",
       "      <th>Rank</th>\n",
       "      <th></th>\n",
       "      <th></th>\n",
       "      <th></th>\n",
       "      <th></th>\n",
       "      <th></th>\n",
       "      <th></th>\n",
       "      <th></th>\n",
       "      <th></th>\n",
       "      <th></th>\n",
       "      <th></th>\n",
       "      <th></th>\n",
       "      <th></th>\n",
       "      <th></th>\n",
       "      <th></th>\n",
       "      <th></th>\n",
       "      <th></th>\n",
       "      <th></th>\n",
       "      <th></th>\n",
       "      <th></th>\n",
       "      <th></th>\n",
       "      <th></th>\n",
       "    </tr>\n",
       "  </thead>\n",
       "  <tbody>\n",
       "    <tr>\n",
       "      <th>1</th>\n",
       "      <td>0</td>\n",
       "      <td>0</td>\n",
       "      <td>0</td>\n",
       "      <td>0</td>\n",
       "      <td>0</td>\n",
       "      <td>0</td>\n",
       "      <td>0</td>\n",
       "      <td>0</td>\n",
       "      <td>0</td>\n",
       "      <td>0</td>\n",
       "      <td>...</td>\n",
       "      <td>0</td>\n",
       "      <td>0</td>\n",
       "      <td>0</td>\n",
       "      <td>0</td>\n",
       "      <td>0</td>\n",
       "      <td>1</td>\n",
       "      <td>0</td>\n",
       "      <td>0</td>\n",
       "      <td>0</td>\n",
       "      <td>0</td>\n",
       "    </tr>\n",
       "    <tr>\n",
       "      <th>2</th>\n",
       "      <td>0</td>\n",
       "      <td>0</td>\n",
       "      <td>0</td>\n",
       "      <td>0</td>\n",
       "      <td>0</td>\n",
       "      <td>0</td>\n",
       "      <td>0</td>\n",
       "      <td>0</td>\n",
       "      <td>0</td>\n",
       "      <td>0</td>\n",
       "      <td>...</td>\n",
       "      <td>0</td>\n",
       "      <td>0</td>\n",
       "      <td>0</td>\n",
       "      <td>0</td>\n",
       "      <td>0</td>\n",
       "      <td>0</td>\n",
       "      <td>0</td>\n",
       "      <td>0</td>\n",
       "      <td>0</td>\n",
       "      <td>0</td>\n",
       "    </tr>\n",
       "    <tr>\n",
       "      <th>3</th>\n",
       "      <td>0</td>\n",
       "      <td>0</td>\n",
       "      <td>0</td>\n",
       "      <td>0</td>\n",
       "      <td>0</td>\n",
       "      <td>0</td>\n",
       "      <td>0</td>\n",
       "      <td>0</td>\n",
       "      <td>0</td>\n",
       "      <td>0</td>\n",
       "      <td>...</td>\n",
       "      <td>0</td>\n",
       "      <td>0</td>\n",
       "      <td>0</td>\n",
       "      <td>0</td>\n",
       "      <td>0</td>\n",
       "      <td>1</td>\n",
       "      <td>0</td>\n",
       "      <td>0</td>\n",
       "      <td>0</td>\n",
       "      <td>0</td>\n",
       "    </tr>\n",
       "    <tr>\n",
       "      <th>4</th>\n",
       "      <td>0</td>\n",
       "      <td>0</td>\n",
       "      <td>0</td>\n",
       "      <td>0</td>\n",
       "      <td>0</td>\n",
       "      <td>0</td>\n",
       "      <td>0</td>\n",
       "      <td>0</td>\n",
       "      <td>0</td>\n",
       "      <td>0</td>\n",
       "      <td>...</td>\n",
       "      <td>0</td>\n",
       "      <td>0</td>\n",
       "      <td>0</td>\n",
       "      <td>0</td>\n",
       "      <td>0</td>\n",
       "      <td>1</td>\n",
       "      <td>0</td>\n",
       "      <td>0</td>\n",
       "      <td>0</td>\n",
       "      <td>0</td>\n",
       "    </tr>\n",
       "    <tr>\n",
       "      <th>5</th>\n",
       "      <td>0</td>\n",
       "      <td>0</td>\n",
       "      <td>0</td>\n",
       "      <td>0</td>\n",
       "      <td>0</td>\n",
       "      <td>1</td>\n",
       "      <td>0</td>\n",
       "      <td>0</td>\n",
       "      <td>0</td>\n",
       "      <td>0</td>\n",
       "      <td>...</td>\n",
       "      <td>0</td>\n",
       "      <td>0</td>\n",
       "      <td>0</td>\n",
       "      <td>0</td>\n",
       "      <td>0</td>\n",
       "      <td>0</td>\n",
       "      <td>0</td>\n",
       "      <td>0</td>\n",
       "      <td>0</td>\n",
       "      <td>0</td>\n",
       "    </tr>\n",
       "  </tbody>\n",
       "</table>\n",
       "<p>5 rows × 31 columns</p>\n",
       "</div>"
      ],
      "text/plain": [
       "      Platform_2600  Platform_3DO  Platform_3DS  Platform_DC  Platform_DS  \\\n",
       "Rank                                                                        \n",
       "1                 0             0             0            0            0   \n",
       "2                 0             0             0            0            0   \n",
       "3                 0             0             0            0            0   \n",
       "4                 0             0             0            0            0   \n",
       "5                 0             0             0            0            0   \n",
       "\n",
       "      Platform_GB  Platform_GBA  Platform_GC  Platform_GEN  Platform_GG  ...  \\\n",
       "Rank                                                                     ...   \n",
       "1               0             0            0             0            0  ...   \n",
       "2               0             0            0             0            0  ...   \n",
       "3               0             0            0             0            0  ...   \n",
       "4               0             0            0             0            0  ...   \n",
       "5               1             0            0             0            0  ...   \n",
       "\n",
       "      Platform_SAT  Platform_SCD  Platform_SNES  Platform_TG16  Platform_WS  \\\n",
       "Rank                                                                          \n",
       "1                0             0              0              0            0   \n",
       "2                0             0              0              0            0   \n",
       "3                0             0              0              0            0   \n",
       "4                0             0              0              0            0   \n",
       "5                0             0              0              0            0   \n",
       "\n",
       "      Platform_Wii  Platform_WiiU  Platform_X360  Platform_XB  Platform_XOne  \n",
       "Rank                                                                          \n",
       "1                1              0              0            0              0  \n",
       "2                0              0              0            0              0  \n",
       "3                1              0              0            0              0  \n",
       "4                1              0              0            0              0  \n",
       "5                0              0              0            0              0  \n",
       "\n",
       "[5 rows x 31 columns]"
      ]
     },
     "execution_count": 20,
     "metadata": {},
     "output_type": "execute_result"
    }
   ],
   "source": [
    "# Encode platform df\n",
    "platform_encoded_df = pd.get_dummies(platform_df)\n",
    "platform_encoded_df.head()"
   ]
  },
  {
   "cell_type": "code",
   "execution_count": 21,
   "id": "2ff351b0",
   "metadata": {},
   "outputs": [
    {
     "data": {
      "text/plain": [
       "(16598, 31)"
      ]
     },
     "execution_count": 21,
     "metadata": {},
     "output_type": "execute_result"
    }
   ],
   "source": [
    "# Get shape of platform_encoded_df\n",
    "platform_encoded_df.shape"
   ]
  },
  {
   "cell_type": "code",
   "execution_count": 22,
<<<<<<< HEAD
=======
   "id": "120746bd",
   "metadata": {},
   "outputs": [
    {
     "data": {
      "text/plain": [
       "Index(['Platform_2600', 'Platform_3DO', 'Platform_3DS', 'Platform_DC',\n",
       "       'Platform_DS', 'Platform_GB', 'Platform_GBA', 'Platform_GC',\n",
       "       'Platform_GEN', 'Platform_GG', 'Platform_N64', 'Platform_NES',\n",
       "       'Platform_NG', 'Platform_PC', 'Platform_PCFX', 'Platform_PS',\n",
       "       'Platform_PS2', 'Platform_PS3', 'Platform_PS4', 'Platform_PSP',\n",
       "       'Platform_PSV', 'Platform_SAT', 'Platform_SCD', 'Platform_SNES',\n",
       "       'Platform_TG16', 'Platform_WS', 'Platform_Wii', 'Platform_WiiU',\n",
       "       'Platform_X360', 'Platform_XB', 'Platform_XOne'],\n",
       "      dtype='object')"
      ]
     },
     "execution_count": 22,
     "metadata": {},
     "output_type": "execute_result"
    }
   ],
   "source": [
    "platform_encoded_df.columns"
   ]
  },
  {
   "cell_type": "code",
   "execution_count": 23,
>>>>>>> database_files
   "id": "dc35912f",
   "metadata": {},
   "outputs": [],
   "source": [
    "# Write encoded platform data to CSV\n",
    "# platform_encoded_df.to_csv('resources/encoded_platform.csv')"
   ]
  },
  {
   "cell_type": "markdown",
   "id": "5bc980eb",
   "metadata": {},
   "source": [
    "## Encode Genre data"
   ]
  },
  {
   "cell_type": "code",
<<<<<<< HEAD
   "execution_count": 23,
=======
   "execution_count": 24,
>>>>>>> database_files
   "id": "c3d2bace",
   "metadata": {},
   "outputs": [
    {
     "data": {
      "text/html": [
       "<div>\n",
       "<style scoped>\n",
       "    .dataframe tbody tr th:only-of-type {\n",
       "        vertical-align: middle;\n",
       "    }\n",
       "\n",
       "    .dataframe tbody tr th {\n",
       "        vertical-align: top;\n",
       "    }\n",
       "\n",
       "    .dataframe thead th {\n",
       "        text-align: right;\n",
       "    }\n",
       "</style>\n",
       "<table border=\"1\" class=\"dataframe\">\n",
       "  <thead>\n",
       "    <tr style=\"text-align: right;\">\n",
       "      <th></th>\n",
       "      <th>Genre</th>\n",
       "    </tr>\n",
       "    <tr>\n",
       "      <th>Rank</th>\n",
       "      <th></th>\n",
       "    </tr>\n",
       "  </thead>\n",
       "  <tbody>\n",
       "    <tr>\n",
       "      <th>1</th>\n",
       "      <td>Sports</td>\n",
       "    </tr>\n",
       "    <tr>\n",
       "      <th>2</th>\n",
       "      <td>Platform</td>\n",
       "    </tr>\n",
       "    <tr>\n",
       "      <th>3</th>\n",
       "      <td>Racing</td>\n",
       "    </tr>\n",
       "    <tr>\n",
       "      <th>4</th>\n",
       "      <td>Sports</td>\n",
       "    </tr>\n",
       "    <tr>\n",
       "      <th>5</th>\n",
       "      <td>Role-Playing</td>\n",
       "    </tr>\n",
       "  </tbody>\n",
       "</table>\n",
       "</div>"
      ],
      "text/plain": [
       "             Genre\n",
       "Rank              \n",
       "1           Sports\n",
       "2         Platform\n",
       "3           Racing\n",
       "4           Sports\n",
       "5     Role-Playing"
      ]
     },
<<<<<<< HEAD
     "execution_count": 23,
=======
     "execution_count": 24,
>>>>>>> database_files
     "metadata": {},
     "output_type": "execute_result"
    }
   ],
   "source": [
    "# Create genre df\n",
    "genre_df = vg_sales_df.filter([\"Genre\"], axis=1)\n",
    "genre_df.head()"
   ]
  },
  {
   "cell_type": "code",
<<<<<<< HEAD
   "execution_count": 24,
=======
   "execution_count": 25,
>>>>>>> database_files
   "id": "5199a45e",
   "metadata": {
    "scrolled": true
   },
   "outputs": [
    {
     "data": {
      "text/html": [
       "<div>\n",
       "<style scoped>\n",
       "    .dataframe tbody tr th:only-of-type {\n",
       "        vertical-align: middle;\n",
       "    }\n",
       "\n",
       "    .dataframe tbody tr th {\n",
       "        vertical-align: top;\n",
       "    }\n",
       "\n",
       "    .dataframe thead th {\n",
       "        text-align: right;\n",
       "    }\n",
       "</style>\n",
       "<table border=\"1\" class=\"dataframe\">\n",
       "  <thead>\n",
       "    <tr style=\"text-align: right;\">\n",
       "      <th></th>\n",
       "      <th>Genre_Action</th>\n",
       "      <th>Genre_Adventure</th>\n",
       "      <th>Genre_Fighting</th>\n",
       "      <th>Genre_Misc</th>\n",
       "      <th>Genre_Platform</th>\n",
       "      <th>Genre_Puzzle</th>\n",
       "      <th>Genre_Racing</th>\n",
       "      <th>Genre_Role-Playing</th>\n",
       "      <th>Genre_Shooter</th>\n",
       "      <th>Genre_Simulation</th>\n",
       "      <th>Genre_Sports</th>\n",
       "      <th>Genre_Strategy</th>\n",
       "    </tr>\n",
       "    <tr>\n",
       "      <th>Rank</th>\n",
       "      <th></th>\n",
       "      <th></th>\n",
       "      <th></th>\n",
       "      <th></th>\n",
       "      <th></th>\n",
       "      <th></th>\n",
       "      <th></th>\n",
       "      <th></th>\n",
       "      <th></th>\n",
       "      <th></th>\n",
       "      <th></th>\n",
       "      <th></th>\n",
       "    </tr>\n",
       "  </thead>\n",
       "  <tbody>\n",
       "    <tr>\n",
       "      <th>1</th>\n",
       "      <td>0</td>\n",
       "      <td>0</td>\n",
       "      <td>0</td>\n",
       "      <td>0</td>\n",
       "      <td>0</td>\n",
       "      <td>0</td>\n",
       "      <td>0</td>\n",
       "      <td>0</td>\n",
       "      <td>0</td>\n",
       "      <td>0</td>\n",
       "      <td>1</td>\n",
       "      <td>0</td>\n",
       "    </tr>\n",
       "    <tr>\n",
       "      <th>2</th>\n",
       "      <td>0</td>\n",
       "      <td>0</td>\n",
       "      <td>0</td>\n",
       "      <td>0</td>\n",
       "      <td>1</td>\n",
       "      <td>0</td>\n",
       "      <td>0</td>\n",
       "      <td>0</td>\n",
       "      <td>0</td>\n",
       "      <td>0</td>\n",
       "      <td>0</td>\n",
       "      <td>0</td>\n",
       "    </tr>\n",
       "    <tr>\n",
       "      <th>3</th>\n",
       "      <td>0</td>\n",
       "      <td>0</td>\n",
       "      <td>0</td>\n",
       "      <td>0</td>\n",
       "      <td>0</td>\n",
       "      <td>0</td>\n",
       "      <td>1</td>\n",
       "      <td>0</td>\n",
       "      <td>0</td>\n",
       "      <td>0</td>\n",
       "      <td>0</td>\n",
       "      <td>0</td>\n",
       "    </tr>\n",
       "    <tr>\n",
       "      <th>4</th>\n",
       "      <td>0</td>\n",
       "      <td>0</td>\n",
       "      <td>0</td>\n",
       "      <td>0</td>\n",
       "      <td>0</td>\n",
       "      <td>0</td>\n",
       "      <td>0</td>\n",
       "      <td>0</td>\n",
       "      <td>0</td>\n",
       "      <td>0</td>\n",
       "      <td>1</td>\n",
       "      <td>0</td>\n",
       "    </tr>\n",
       "    <tr>\n",
       "      <th>5</th>\n",
       "      <td>0</td>\n",
       "      <td>0</td>\n",
       "      <td>0</td>\n",
       "      <td>0</td>\n",
       "      <td>0</td>\n",
       "      <td>0</td>\n",
       "      <td>0</td>\n",
       "      <td>1</td>\n",
       "      <td>0</td>\n",
       "      <td>0</td>\n",
       "      <td>0</td>\n",
       "      <td>0</td>\n",
       "    </tr>\n",
       "  </tbody>\n",
       "</table>\n",
       "</div>"
      ],
      "text/plain": [
       "      Genre_Action  Genre_Adventure  Genre_Fighting  Genre_Misc  \\\n",
       "Rank                                                              \n",
       "1                0                0               0           0   \n",
       "2                0                0               0           0   \n",
       "3                0                0               0           0   \n",
       "4                0                0               0           0   \n",
       "5                0                0               0           0   \n",
       "\n",
       "      Genre_Platform  Genre_Puzzle  Genre_Racing  Genre_Role-Playing  \\\n",
       "Rank                                                                   \n",
       "1                  0             0             0                   0   \n",
       "2                  1             0             0                   0   \n",
       "3                  0             0             1                   0   \n",
       "4                  0             0             0                   0   \n",
       "5                  0             0             0                   1   \n",
       "\n",
       "      Genre_Shooter  Genre_Simulation  Genre_Sports  Genre_Strategy  \n",
       "Rank                                                                 \n",
       "1                 0                 0             1               0  \n",
       "2                 0                 0             0               0  \n",
       "3                 0                 0             0               0  \n",
       "4                 0                 0             1               0  \n",
       "5                 0                 0             0               0  "
      ]
     },
<<<<<<< HEAD
     "execution_count": 24,
=======
     "execution_count": 25,
>>>>>>> database_files
     "metadata": {},
     "output_type": "execute_result"
    }
   ],
   "source": [
    "# Encode genre df\n",
    "genre_encoded_df = pd.get_dummies(genre_df)\n",
    "genre_encoded_df.head()"
   ]
  },
  {
   "cell_type": "code",
<<<<<<< HEAD
   "execution_count": 25,
=======
   "execution_count": 26,
>>>>>>> database_files
   "id": "1e9ca6bb",
   "metadata": {
    "scrolled": true
   },
   "outputs": [
    {
     "data": {
      "text/plain": [
       "(16598, 12)"
      ]
     },
<<<<<<< HEAD
     "execution_count": 25,
=======
     "execution_count": 26,
>>>>>>> database_files
     "metadata": {},
     "output_type": "execute_result"
    }
   ],
   "source": [
    "# Get shape of genre_encoded_df\n",
    "genre_encoded_df.shape"
   ]
  },
  {
   "cell_type": "code",
<<<<<<< HEAD
   "execution_count": 26,
=======
   "execution_count": 27,
>>>>>>> database_files
   "id": "cd7522ee",
   "metadata": {},
   "outputs": [],
   "source": [
    "# Write encoded genre data to CSV\n",
    "# genre_encoded_df.to_csv('resources/encoded_genre.csv')"
   ]
  },
  {
   "cell_type": "markdown",
   "id": "0ffdcc27",
   "metadata": {},
   "source": [
    "## Combine dataframes for analysis"
   ]
  },
  {
   "cell_type": "code",
<<<<<<< HEAD
   "execution_count": 27,
=======
   "execution_count": 28,
>>>>>>> database_files
   "id": "bf8bd281",
   "metadata": {
    "scrolled": true
   },
   "outputs": [
    {
     "data": {
      "text/html": [
       "<div>\n",
       "<style scoped>\n",
       "    .dataframe tbody tr th:only-of-type {\n",
       "        vertical-align: middle;\n",
       "    }\n",
       "\n",
       "    .dataframe tbody tr th {\n",
       "        vertical-align: top;\n",
       "    }\n",
       "\n",
       "    .dataframe thead th {\n",
       "        text-align: right;\n",
       "    }\n",
       "</style>\n",
       "<table border=\"1\" class=\"dataframe\">\n",
       "  <thead>\n",
       "    <tr style=\"text-align: right;\">\n",
       "      <th></th>\n",
       "      <th>EU_Sales_gt_0.11</th>\n",
       "      <th>NA_Sales</th>\n",
       "      <th>JP_Sales</th>\n",
       "      <th>Platform_2600</th>\n",
       "      <th>Platform_3DO</th>\n",
       "      <th>Platform_3DS</th>\n",
       "      <th>Platform_DC</th>\n",
       "      <th>Platform_DS</th>\n",
       "      <th>Platform_GB</th>\n",
       "      <th>Platform_GBA</th>\n",
       "      <th>...</th>\n",
       "      <th>Genre_Fighting</th>\n",
       "      <th>Genre_Misc</th>\n",
       "      <th>Genre_Platform</th>\n",
       "      <th>Genre_Puzzle</th>\n",
       "      <th>Genre_Racing</th>\n",
       "      <th>Genre_Role-Playing</th>\n",
       "      <th>Genre_Shooter</th>\n",
       "      <th>Genre_Simulation</th>\n",
       "      <th>Genre_Sports</th>\n",
       "      <th>Genre_Strategy</th>\n",
       "    </tr>\n",
       "    <tr>\n",
       "      <th>Rank</th>\n",
       "      <th></th>\n",
       "      <th></th>\n",
       "      <th></th>\n",
       "      <th></th>\n",
       "      <th></th>\n",
       "      <th></th>\n",
       "      <th></th>\n",
       "      <th></th>\n",
       "      <th></th>\n",
       "      <th></th>\n",
       "      <th></th>\n",
       "      <th></th>\n",
       "      <th></th>\n",
       "      <th></th>\n",
       "      <th></th>\n",
       "      <th></th>\n",
       "      <th></th>\n",
       "      <th></th>\n",
       "      <th></th>\n",
       "      <th></th>\n",
       "      <th></th>\n",
       "    </tr>\n",
       "  </thead>\n",
       "  <tbody>\n",
       "    <tr>\n",
       "      <th>1</th>\n",
       "      <td>1.0</td>\n",
       "      <td>41.49</td>\n",
       "      <td>3.77</td>\n",
       "      <td>0</td>\n",
       "      <td>0</td>\n",
       "      <td>0</td>\n",
       "      <td>0</td>\n",
       "      <td>0</td>\n",
       "      <td>0</td>\n",
       "      <td>0</td>\n",
       "      <td>...</td>\n",
       "      <td>0</td>\n",
       "      <td>0</td>\n",
       "      <td>0</td>\n",
       "      <td>0</td>\n",
       "      <td>0</td>\n",
       "      <td>0</td>\n",
       "      <td>0</td>\n",
       "      <td>0</td>\n",
       "      <td>1</td>\n",
       "      <td>0</td>\n",
       "    </tr>\n",
       "    <tr>\n",
       "      <th>2</th>\n",
       "      <td>1.0</td>\n",
       "      <td>29.08</td>\n",
       "      <td>6.81</td>\n",
       "      <td>0</td>\n",
       "      <td>0</td>\n",
       "      <td>0</td>\n",
       "      <td>0</td>\n",
       "      <td>0</td>\n",
       "      <td>0</td>\n",
       "      <td>0</td>\n",
       "      <td>...</td>\n",
       "      <td>0</td>\n",
       "      <td>0</td>\n",
       "      <td>1</td>\n",
       "      <td>0</td>\n",
       "      <td>0</td>\n",
       "      <td>0</td>\n",
       "      <td>0</td>\n",
       "      <td>0</td>\n",
       "      <td>0</td>\n",
       "      <td>0</td>\n",
       "    </tr>\n",
       "    <tr>\n",
       "      <th>3</th>\n",
       "      <td>1.0</td>\n",
       "      <td>15.85</td>\n",
       "      <td>3.79</td>\n",
       "      <td>0</td>\n",
       "      <td>0</td>\n",
       "      <td>0</td>\n",
       "      <td>0</td>\n",
       "      <td>0</td>\n",
       "      <td>0</td>\n",
       "      <td>0</td>\n",
       "      <td>...</td>\n",
       "      <td>0</td>\n",
       "      <td>0</td>\n",
       "      <td>0</td>\n",
       "      <td>0</td>\n",
       "      <td>1</td>\n",
       "      <td>0</td>\n",
       "      <td>0</td>\n",
       "      <td>0</td>\n",
       "      <td>0</td>\n",
       "      <td>0</td>\n",
       "    </tr>\n",
       "    <tr>\n",
       "      <th>4</th>\n",
       "      <td>1.0</td>\n",
       "      <td>15.75</td>\n",
       "      <td>3.28</td>\n",
       "      <td>0</td>\n",
       "      <td>0</td>\n",
       "      <td>0</td>\n",
       "      <td>0</td>\n",
       "      <td>0</td>\n",
       "      <td>0</td>\n",
       "      <td>0</td>\n",
       "      <td>...</td>\n",
       "      <td>0</td>\n",
       "      <td>0</td>\n",
       "      <td>0</td>\n",
       "      <td>0</td>\n",
       "      <td>0</td>\n",
       "      <td>0</td>\n",
       "      <td>0</td>\n",
       "      <td>0</td>\n",
       "      <td>1</td>\n",
       "      <td>0</td>\n",
       "    </tr>\n",
       "    <tr>\n",
       "      <th>5</th>\n",
       "      <td>1.0</td>\n",
       "      <td>11.27</td>\n",
       "      <td>10.22</td>\n",
       "      <td>0</td>\n",
       "      <td>0</td>\n",
       "      <td>0</td>\n",
       "      <td>0</td>\n",
       "      <td>0</td>\n",
       "      <td>1</td>\n",
       "      <td>0</td>\n",
       "      <td>...</td>\n",
       "      <td>0</td>\n",
       "      <td>0</td>\n",
       "      <td>0</td>\n",
       "      <td>0</td>\n",
       "      <td>0</td>\n",
       "      <td>1</td>\n",
       "      <td>0</td>\n",
       "      <td>0</td>\n",
       "      <td>0</td>\n",
       "      <td>0</td>\n",
       "    </tr>\n",
       "  </tbody>\n",
       "</table>\n",
       "<p>5 rows × 46 columns</p>\n",
       "</div>"
      ],
      "text/plain": [
       "      EU_Sales_gt_0.11  NA_Sales  JP_Sales  Platform_2600  Platform_3DO  \\\n",
       "Rank                                                                      \n",
       "1                  1.0     41.49      3.77              0             0   \n",
       "2                  1.0     29.08      6.81              0             0   \n",
       "3                  1.0     15.85      3.79              0             0   \n",
       "4                  1.0     15.75      3.28              0             0   \n",
       "5                  1.0     11.27     10.22              0             0   \n",
       "\n",
       "      Platform_3DS  Platform_DC  Platform_DS  Platform_GB  Platform_GBA  ...  \\\n",
       "Rank                                                                     ...   \n",
       "1                0            0            0            0             0  ...   \n",
       "2                0            0            0            0             0  ...   \n",
       "3                0            0            0            0             0  ...   \n",
       "4                0            0            0            0             0  ...   \n",
       "5                0            0            0            1             0  ...   \n",
       "\n",
       "      Genre_Fighting  Genre_Misc  Genre_Platform  Genre_Puzzle  Genre_Racing  \\\n",
       "Rank                                                                           \n",
       "1                  0           0               0             0             0   \n",
       "2                  0           0               1             0             0   \n",
       "3                  0           0               0             0             1   \n",
       "4                  0           0               0             0             0   \n",
       "5                  0           0               0             0             0   \n",
       "\n",
       "      Genre_Role-Playing  Genre_Shooter  Genre_Simulation  Genre_Sports  \\\n",
       "Rank                                                                      \n",
       "1                      0              0                 0             1   \n",
       "2                      0              0                 0             0   \n",
       "3                      0              0                 0             0   \n",
       "4                      0              0                 0             1   \n",
       "5                      1              0                 0             0   \n",
       "\n",
       "      Genre_Strategy  \n",
       "Rank                  \n",
       "1                  0  \n",
       "2                  0  \n",
       "3                  0  \n",
       "4                  0  \n",
       "5                  0  \n",
       "\n",
       "[5 rows x 46 columns]"
      ]
     },
<<<<<<< HEAD
     "execution_count": 27,
=======
     "execution_count": 28,
>>>>>>> database_files
     "metadata": {},
     "output_type": "execute_result"
    }
   ],
   "source": [
    "# Combine dataframes to create sales_df_encoded\n",
    "sales_df_encoded = categorize_eu_sales.join(sales_data, how='outer').\\\n",
    "    join(platform_encoded_df, how='outer').join(genre_encoded_df, how='outer')\n",
    "sales_df_encoded.head()"
   ]
  },
  {
   "cell_type": "code",
<<<<<<< HEAD
   "execution_count": 28,
=======
   "execution_count": 29,
>>>>>>> database_files
   "id": "c4251fb1",
   "metadata": {
    "scrolled": true
   },
   "outputs": [
    {
     "data": {
      "text/html": [
       "<div>\n",
       "<style scoped>\n",
       "    .dataframe tbody tr th:only-of-type {\n",
       "        vertical-align: middle;\n",
       "    }\n",
       "\n",
       "    .dataframe tbody tr th {\n",
       "        vertical-align: top;\n",
       "    }\n",
       "\n",
       "    .dataframe thead th {\n",
       "        text-align: right;\n",
       "    }\n",
       "</style>\n",
       "<table border=\"1\" class=\"dataframe\">\n",
       "  <thead>\n",
       "    <tr style=\"text-align: right;\">\n",
       "      <th></th>\n",
       "      <th>EU_Sales_gt_0.11</th>\n",
       "      <th>NA_Sales</th>\n",
       "      <th>JP_Sales</th>\n",
       "      <th>Platform_2600</th>\n",
       "      <th>Platform_3DO</th>\n",
       "      <th>Platform_3DS</th>\n",
       "      <th>Platform_DC</th>\n",
       "      <th>Platform_DS</th>\n",
       "      <th>Platform_GB</th>\n",
       "      <th>Platform_GBA</th>\n",
       "      <th>...</th>\n",
       "      <th>Genre_Fighting</th>\n",
       "      <th>Genre_Misc</th>\n",
       "      <th>Genre_Platform</th>\n",
       "      <th>Genre_Puzzle</th>\n",
       "      <th>Genre_Racing</th>\n",
       "      <th>Genre_Role-Playing</th>\n",
       "      <th>Genre_Shooter</th>\n",
       "      <th>Genre_Simulation</th>\n",
       "      <th>Genre_Sports</th>\n",
       "      <th>Genre_Strategy</th>\n",
       "    </tr>\n",
       "    <tr>\n",
       "      <th>Rank</th>\n",
       "      <th></th>\n",
       "      <th></th>\n",
       "      <th></th>\n",
       "      <th></th>\n",
       "      <th></th>\n",
       "      <th></th>\n",
       "      <th></th>\n",
       "      <th></th>\n",
       "      <th></th>\n",
       "      <th></th>\n",
       "      <th></th>\n",
       "      <th></th>\n",
       "      <th></th>\n",
       "      <th></th>\n",
       "      <th></th>\n",
       "      <th></th>\n",
       "      <th></th>\n",
       "      <th></th>\n",
       "      <th></th>\n",
       "      <th></th>\n",
       "      <th></th>\n",
       "    </tr>\n",
       "  </thead>\n",
       "  <tbody>\n",
       "    <tr>\n",
<<<<<<< HEAD
       "      <th>14144</th>\n",
       "      <td>0.0</td>\n",
       "      <td>0.00</td>\n",
=======
       "      <th>11658</th>\n",
       "      <td>0.0</td>\n",
       "      <td>0.07</td>\n",
>>>>>>> database_files
       "      <td>0.00</td>\n",
       "      <td>0</td>\n",
       "      <td>0</td>\n",
       "      <td>0</td>\n",
       "      <td>0</td>\n",
       "      <td>0</td>\n",
       "      <td>0</td>\n",
       "      <td>0</td>\n",
       "      <td>...</td>\n",
       "      <td>0</td>\n",
       "      <td>0</td>\n",
       "      <td>0</td>\n",
       "      <td>0</td>\n",
       "      <td>0</td>\n",
       "      <td>0</td>\n",
       "      <td>0</td>\n",
       "      <td>0</td>\n",
<<<<<<< HEAD
       "      <td>1</td>\n",
       "      <td>0</td>\n",
       "    </tr>\n",
       "    <tr>\n",
       "      <th>10278</th>\n",
       "      <td>0.0</td>\n",
       "      <td>0.08</td>\n",
=======
       "      <td>0</td>\n",
       "      <td>0</td>\n",
       "    </tr>\n",
       "    <tr>\n",
       "      <th>3880</th>\n",
       "      <td>1.0</td>\n",
       "      <td>0.00</td>\n",
>>>>>>> database_files
       "      <td>0.00</td>\n",
       "      <td>0</td>\n",
       "      <td>0</td>\n",
       "      <td>0</td>\n",
       "      <td>0</td>\n",
       "      <td>0</td>\n",
       "      <td>0</td>\n",
       "      <td>0</td>\n",
       "      <td>...</td>\n",
       "      <td>0</td>\n",
       "      <td>0</td>\n",
       "      <td>0</td>\n",
       "      <td>0</td>\n",
       "      <td>0</td>\n",
<<<<<<< HEAD
       "      <td>0</td>\n",
=======
       "      <td>1</td>\n",
>>>>>>> database_files
       "      <td>0</td>\n",
       "      <td>0</td>\n",
       "      <td>0</td>\n",
       "      <td>0</td>\n",
       "    </tr>\n",
       "    <tr>\n",
<<<<<<< HEAD
       "      <th>16258</th>\n",
       "      <td>0.0</td>\n",
       "      <td>0.00</td>\n",
=======
       "      <th>10601</th>\n",
       "      <td>0.0</td>\n",
       "      <td>0.04</td>\n",
>>>>>>> database_files
       "      <td>0.01</td>\n",
       "      <td>0</td>\n",
       "      <td>0</td>\n",
       "      <td>0</td>\n",
       "      <td>0</td>\n",
       "      <td>0</td>\n",
       "      <td>0</td>\n",
       "      <td>0</td>\n",
       "      <td>...</td>\n",
       "      <td>0</td>\n",
       "      <td>0</td>\n",
       "      <td>0</td>\n",
       "      <td>0</td>\n",
       "      <td>0</td>\n",
       "      <td>0</td>\n",
       "      <td>0</td>\n",
       "      <td>0</td>\n",
       "      <td>0</td>\n",
       "      <td>0</td>\n",
       "    </tr>\n",
       "    <tr>\n",
<<<<<<< HEAD
       "      <th>11470</th>\n",
       "      <td>0.0</td>\n",
       "      <td>0.06</td>\n",
       "      <td>0.00</td>\n",
=======
       "      <th>14600</th>\n",
       "      <td>0.0</td>\n",
       "      <td>0.00</td>\n",
       "      <td>0.03</td>\n",
>>>>>>> database_files
       "      <td>0</td>\n",
       "      <td>0</td>\n",
       "      <td>0</td>\n",
       "      <td>0</td>\n",
       "      <td>1</td>\n",
       "      <td>0</td>\n",
       "      <td>0</td>\n",
       "      <td>...</td>\n",
       "      <td>0</td>\n",
<<<<<<< HEAD
       "      <td>1</td>\n",
=======
       "      <td>0</td>\n",
>>>>>>> database_files
       "      <td>0</td>\n",
       "      <td>0</td>\n",
       "      <td>0</td>\n",
       "      <td>0</td>\n",
       "      <td>0</td>\n",
       "      <td>0</td>\n",
       "      <td>0</td>\n",
       "      <td>0</td>\n",
       "    </tr>\n",
       "    <tr>\n",
<<<<<<< HEAD
       "      <th>14805</th>\n",
       "      <td>0.0</td>\n",
       "      <td>0.00</td>\n",
       "      <td>0.03</td>\n",
       "      <td>0</td>\n",
       "      <td>0</td>\n",
       "      <td>0</td>\n",
=======
       "      <th>16531</th>\n",
       "      <td>0.0</td>\n",
       "      <td>0.00</td>\n",
       "      <td>0.01</td>\n",
       "      <td>0</td>\n",
       "      <td>0</td>\n",
       "      <td>1</td>\n",
>>>>>>> database_files
       "      <td>0</td>\n",
       "      <td>0</td>\n",
       "      <td>0</td>\n",
       "      <td>0</td>\n",
       "      <td>...</td>\n",
       "      <td>0</td>\n",
       "      <td>0</td>\n",
       "      <td>0</td>\n",
       "      <td>0</td>\n",
       "      <td>0</td>\n",
       "      <td>0</td>\n",
<<<<<<< HEAD
       "      <td>1</td>\n",
=======
       "      <td>0</td>\n",
>>>>>>> database_files
       "      <td>0</td>\n",
       "      <td>0</td>\n",
       "      <td>0</td>\n",
       "    </tr>\n",
       "  </tbody>\n",
       "</table>\n",
       "<p>5 rows × 46 columns</p>\n",
       "</div>"
      ],
      "text/plain": [
       "       EU_Sales_gt_0.11  NA_Sales  JP_Sales  Platform_2600  Platform_3DO  \\\n",
       "Rank                                                                       \n",
<<<<<<< HEAD
       "14144               0.0      0.00      0.00              0             0   \n",
       "10278               0.0      0.08      0.00              0             0   \n",
       "16258               0.0      0.00      0.01              0             0   \n",
       "11470               0.0      0.06      0.00              0             0   \n",
       "14805               0.0      0.00      0.03              0             0   \n",
       "\n",
       "       Platform_3DS  Platform_DC  Platform_DS  Platform_GB  Platform_GBA  ...  \\\n",
       "Rank                                                                      ...   \n",
       "14144             0            0            0            0             0  ...   \n",
       "10278             0            0            0            0             0  ...   \n",
       "16258             0            0            0            0             0  ...   \n",
       "11470             0            0            1            0             0  ...   \n",
       "14805             0            0            0            0             0  ...   \n",
       "\n",
       "       Genre_Fighting  Genre_Misc  Genre_Platform  Genre_Puzzle  Genre_Racing  \\\n",
       "Rank                                                                            \n",
       "14144               0           0               0             0             0   \n",
       "10278               0           0               0             0             0   \n",
       "16258               0           0               0             0             0   \n",
       "11470               0           1               0             0             0   \n",
       "14805               0           0               0             0             0   \n",
       "\n",
       "       Genre_Role-Playing  Genre_Shooter  Genre_Simulation  Genre_Sports  \\\n",
       "Rank                                                                       \n",
       "14144                   0              0                 0             1   \n",
       "10278                   0              0                 0             0   \n",
       "16258                   0              0                 0             0   \n",
       "11470                   0              0                 0             0   \n",
       "14805                   0              1                 0             0   \n",
       "\n",
       "       Genre_Strategy  \n",
       "Rank                   \n",
       "14144               0  \n",
       "10278               0  \n",
       "16258               0  \n",
       "11470               0  \n",
       "14805               0  \n",
=======
       "11658               0.0      0.07      0.00              0             0   \n",
       "3880                1.0      0.00      0.00              0             0   \n",
       "10601               0.0      0.04      0.01              0             0   \n",
       "14600               0.0      0.00      0.03              0             0   \n",
       "16531               0.0      0.00      0.01              0             0   \n",
       "\n",
       "       Platform_3DS  Platform_DC  Platform_DS  Platform_GB  Platform_GBA  ...  \\\n",
       "Rank                                                                      ...   \n",
       "11658             0            0            0            0             0  ...   \n",
       "3880              0            0            0            0             0  ...   \n",
       "10601             0            0            0            0             0  ...   \n",
       "14600             0            0            1            0             0  ...   \n",
       "16531             1            0            0            0             0  ...   \n",
       "\n",
       "       Genre_Fighting  Genre_Misc  Genre_Platform  Genre_Puzzle  Genre_Racing  \\\n",
       "Rank                                                                            \n",
       "11658               0           0               0             0             0   \n",
       "3880                0           0               0             0             0   \n",
       "10601               0           0               0             0             0   \n",
       "14600               0           0               0             0             0   \n",
       "16531               0           0               0             0             0   \n",
       "\n",
       "       Genre_Role-Playing  Genre_Shooter  Genre_Simulation  Genre_Sports  \\\n",
       "Rank                                                                       \n",
       "11658                   0              0                 0             0   \n",
       "3880                    1              0                 0             0   \n",
       "10601                   0              0                 0             0   \n",
       "14600                   0              0                 0             0   \n",
       "16531                   0              0                 0             0   \n",
       "\n",
       "       Genre_Strategy  \n",
       "Rank                   \n",
       "11658               0  \n",
       "3880                0  \n",
       "10601               0  \n",
       "14600               0  \n",
       "16531               0  \n",
>>>>>>> database_files
       "\n",
       "[5 rows x 46 columns]"
      ]
     },
<<<<<<< HEAD
     "execution_count": 28,
=======
     "execution_count": 29,
>>>>>>> database_files
     "metadata": {},
     "output_type": "execute_result"
    }
   ],
   "source": [
    "# Create smaller df of 100 rows selected randomly from larger dataset\n",
<<<<<<< HEAD
    "sales_reduced = sales_df_encoded.sample(n=9000)\n",
=======
    "sales_reduced = sales_df_encoded.sample(n=9800)\n",
>>>>>>> database_files
    "sales_reduced.head()"
   ]
  },
  {
   "cell_type": "code",
<<<<<<< HEAD
   "execution_count": 29,
=======
   "execution_count": 30,
>>>>>>> database_files
   "id": "fa1616a6",
   "metadata": {},
   "outputs": [
    {
     "data": {
      "text/html": [
       "<div>\n",
       "<style scoped>\n",
       "    .dataframe tbody tr th:only-of-type {\n",
       "        vertical-align: middle;\n",
       "    }\n",
       "\n",
       "    .dataframe tbody tr th {\n",
       "        vertical-align: top;\n",
       "    }\n",
       "\n",
       "    .dataframe thead th {\n",
       "        text-align: right;\n",
       "    }\n",
       "</style>\n",
       "<table border=\"1\" class=\"dataframe\">\n",
       "  <thead>\n",
       "    <tr style=\"text-align: right;\">\n",
       "      <th></th>\n",
       "      <th>EU_Sales_gt_0.11</th>\n",
       "      <th>NA_Sales</th>\n",
       "      <th>JP_Sales</th>\n",
       "      <th>Platform_2600</th>\n",
       "      <th>Platform_3DO</th>\n",
       "      <th>Platform_3DS</th>\n",
       "      <th>Platform_DC</th>\n",
       "      <th>Platform_DS</th>\n",
       "      <th>Platform_GB</th>\n",
       "      <th>Platform_GBA</th>\n",
       "      <th>...</th>\n",
       "      <th>Genre_Fighting</th>\n",
       "      <th>Genre_Misc</th>\n",
       "      <th>Genre_Platform</th>\n",
       "      <th>Genre_Puzzle</th>\n",
       "      <th>Genre_Racing</th>\n",
       "      <th>Genre_Role-Playing</th>\n",
       "      <th>Genre_Shooter</th>\n",
       "      <th>Genre_Simulation</th>\n",
       "      <th>Genre_Sports</th>\n",
       "      <th>Genre_Strategy</th>\n",
       "    </tr>\n",
       "  </thead>\n",
       "  <tbody>\n",
       "    <tr>\n",
       "      <th>0</th>\n",
       "      <td>0.0</td>\n",
<<<<<<< HEAD
       "      <td>0.00</td>\n",
=======
       "      <td>0.07</td>\n",
>>>>>>> database_files
       "      <td>0.00</td>\n",
       "      <td>0</td>\n",
       "      <td>0</td>\n",
       "      <td>0</td>\n",
       "      <td>0</td>\n",
       "      <td>0</td>\n",
       "      <td>0</td>\n",
       "      <td>0</td>\n",
       "      <td>...</td>\n",
       "      <td>0</td>\n",
       "      <td>0</td>\n",
       "      <td>0</td>\n",
       "      <td>0</td>\n",
       "      <td>0</td>\n",
       "      <td>0</td>\n",
       "      <td>0</td>\n",
       "      <td>0</td>\n",
<<<<<<< HEAD
       "      <td>1</td>\n",
=======
       "      <td>0</td>\n",
>>>>>>> database_files
       "      <td>0</td>\n",
       "    </tr>\n",
       "    <tr>\n",
       "      <th>1</th>\n",
<<<<<<< HEAD
       "      <td>0.0</td>\n",
       "      <td>0.08</td>\n",
=======
       "      <td>1.0</td>\n",
       "      <td>0.00</td>\n",
>>>>>>> database_files
       "      <td>0.00</td>\n",
       "      <td>0</td>\n",
       "      <td>0</td>\n",
       "      <td>0</td>\n",
       "      <td>0</td>\n",
       "      <td>0</td>\n",
       "      <td>0</td>\n",
       "      <td>0</td>\n",
       "      <td>...</td>\n",
       "      <td>0</td>\n",
       "      <td>0</td>\n",
       "      <td>0</td>\n",
       "      <td>0</td>\n",
       "      <td>0</td>\n",
<<<<<<< HEAD
       "      <td>0</td>\n",
=======
       "      <td>1</td>\n",
>>>>>>> database_files
       "      <td>0</td>\n",
       "      <td>0</td>\n",
       "      <td>0</td>\n",
       "      <td>0</td>\n",
       "    </tr>\n",
       "    <tr>\n",
       "      <th>2</th>\n",
       "      <td>0.0</td>\n",
<<<<<<< HEAD
       "      <td>0.00</td>\n",
=======
       "      <td>0.04</td>\n",
>>>>>>> database_files
       "      <td>0.01</td>\n",
       "      <td>0</td>\n",
       "      <td>0</td>\n",
       "      <td>0</td>\n",
       "      <td>0</td>\n",
       "      <td>0</td>\n",
       "      <td>0</td>\n",
       "      <td>0</td>\n",
       "      <td>...</td>\n",
       "      <td>0</td>\n",
       "      <td>0</td>\n",
       "      <td>0</td>\n",
       "      <td>0</td>\n",
       "      <td>0</td>\n",
       "      <td>0</td>\n",
       "      <td>0</td>\n",
       "      <td>0</td>\n",
       "      <td>0</td>\n",
       "      <td>0</td>\n",
       "    </tr>\n",
       "    <tr>\n",
       "      <th>3</th>\n",
       "      <td>0.0</td>\n",
<<<<<<< HEAD
       "      <td>0.06</td>\n",
       "      <td>0.00</td>\n",
=======
       "      <td>0.00</td>\n",
       "      <td>0.03</td>\n",
>>>>>>> database_files
       "      <td>0</td>\n",
       "      <td>0</td>\n",
       "      <td>0</td>\n",
       "      <td>0</td>\n",
       "      <td>1</td>\n",
       "      <td>0</td>\n",
       "      <td>0</td>\n",
       "      <td>...</td>\n",
       "      <td>0</td>\n",
<<<<<<< HEAD
       "      <td>1</td>\n",
=======
       "      <td>0</td>\n",
>>>>>>> database_files
       "      <td>0</td>\n",
       "      <td>0</td>\n",
       "      <td>0</td>\n",
       "      <td>0</td>\n",
       "      <td>0</td>\n",
       "      <td>0</td>\n",
       "      <td>0</td>\n",
       "      <td>0</td>\n",
       "    </tr>\n",
       "    <tr>\n",
       "      <th>4</th>\n",
       "      <td>0.0</td>\n",
       "      <td>0.00</td>\n",
<<<<<<< HEAD
       "      <td>0.03</td>\n",
       "      <td>0</td>\n",
       "      <td>0</td>\n",
       "      <td>0</td>\n",
=======
       "      <td>0.01</td>\n",
       "      <td>0</td>\n",
       "      <td>0</td>\n",
       "      <td>1</td>\n",
>>>>>>> database_files
       "      <td>0</td>\n",
       "      <td>0</td>\n",
       "      <td>0</td>\n",
       "      <td>0</td>\n",
       "      <td>...</td>\n",
       "      <td>0</td>\n",
       "      <td>0</td>\n",
       "      <td>0</td>\n",
       "      <td>0</td>\n",
       "      <td>0</td>\n",
       "      <td>0</td>\n",
<<<<<<< HEAD
       "      <td>1</td>\n",
=======
       "      <td>0</td>\n",
>>>>>>> database_files
       "      <td>0</td>\n",
       "      <td>0</td>\n",
       "      <td>0</td>\n",
       "    </tr>\n",
       "  </tbody>\n",
       "</table>\n",
       "<p>5 rows × 46 columns</p>\n",
       "</div>"
      ],
      "text/plain": [
       "   EU_Sales_gt_0.11  NA_Sales  JP_Sales  Platform_2600  Platform_3DO  \\\n",
<<<<<<< HEAD
       "0               0.0      0.00      0.00              0             0   \n",
       "1               0.0      0.08      0.00              0             0   \n",
       "2               0.0      0.00      0.01              0             0   \n",
       "3               0.0      0.06      0.00              0             0   \n",
       "4               0.0      0.00      0.03              0             0   \n",
=======
       "0               0.0      0.07      0.00              0             0   \n",
       "1               1.0      0.00      0.00              0             0   \n",
       "2               0.0      0.04      0.01              0             0   \n",
       "3               0.0      0.00      0.03              0             0   \n",
       "4               0.0      0.00      0.01              0             0   \n",
>>>>>>> database_files
       "\n",
       "   Platform_3DS  Platform_DC  Platform_DS  Platform_GB  Platform_GBA  ...  \\\n",
       "0             0            0            0            0             0  ...   \n",
       "1             0            0            0            0             0  ...   \n",
       "2             0            0            0            0             0  ...   \n",
       "3             0            0            1            0             0  ...   \n",
<<<<<<< HEAD
       "4             0            0            0            0             0  ...   \n",
=======
       "4             1            0            0            0             0  ...   \n",
>>>>>>> database_files
       "\n",
       "   Genre_Fighting  Genre_Misc  Genre_Platform  Genre_Puzzle  Genre_Racing  \\\n",
       "0               0           0               0             0             0   \n",
       "1               0           0               0             0             0   \n",
       "2               0           0               0             0             0   \n",
<<<<<<< HEAD
       "3               0           1               0             0             0   \n",
       "4               0           0               0             0             0   \n",
       "\n",
       "   Genre_Role-Playing  Genre_Shooter  Genre_Simulation  Genre_Sports  \\\n",
       "0                   0              0                 0             1   \n",
       "1                   0              0                 0             0   \n",
       "2                   0              0                 0             0   \n",
       "3                   0              0                 0             0   \n",
       "4                   0              1                 0             0   \n",
=======
       "3               0           0               0             0             0   \n",
       "4               0           0               0             0             0   \n",
       "\n",
       "   Genre_Role-Playing  Genre_Shooter  Genre_Simulation  Genre_Sports  \\\n",
       "0                   0              0                 0             0   \n",
       "1                   1              0                 0             0   \n",
       "2                   0              0                 0             0   \n",
       "3                   0              0                 0             0   \n",
       "4                   0              0                 0             0   \n",
>>>>>>> database_files
       "\n",
       "   Genre_Strategy  \n",
       "0               0  \n",
       "1               0  \n",
       "2               0  \n",
       "3               0  \n",
       "4               0  \n",
       "\n",
       "[5 rows x 46 columns]"
      ]
     },
<<<<<<< HEAD
     "execution_count": 29,
=======
     "execution_count": 30,
>>>>>>> database_files
     "metadata": {},
     "output_type": "execute_result"
    }
   ],
   "source": [
    "# Drop the index\n",
    "sales_reduced_no_idx = sales_reduced.reset_index(drop=True)\n",
    "sales_reduced_no_idx.head()"
   ]
  },
  {
   "cell_type": "markdown",
   "id": "d87ca4a9",
   "metadata": {},
   "source": [
    "## Perform ML with Logistic Regression"
   ]
  },
  {
   "cell_type": "code",
<<<<<<< HEAD
   "execution_count": 30,
=======
   "execution_count": 31,
>>>>>>> database_files
   "id": "49d2f856",
   "metadata": {
    "scrolled": false
   },
   "outputs": [
    {
     "data": {
      "text/plain": [
<<<<<<< HEAD
       "0.0    6813\n",
       "1.0    2187\n",
       "Name: EU_Sales_gt_0.11, dtype: int64"
      ]
     },
     "execution_count": 30,
=======
       "0.0    6807\n",
       "1.0    2193\n",
       "Name: EU_Sales_gt_0.11, dtype: int64"
      ]
     },
     "execution_count": 31,
>>>>>>> database_files
     "metadata": {},
     "output_type": "execute_result"
    }
   ],
   "source": [
    "# Count True/False NA_Sales numbers\n",
    "sales_reduced_no_idx[eu_sales_col_name].value_counts()"
   ]
  },
  {
   "cell_type": "code",
<<<<<<< HEAD
   "execution_count": 31,
=======
   "execution_count": 32,
>>>>>>> database_files
   "id": "1b280f70",
   "metadata": {},
   "outputs": [],
   "source": [
    "# Set X and y data\n",
    "y = sales_reduced_no_idx[eu_sales_col_name]\n",
    "X = sales_reduced_no_idx.drop(columns=eu_sales_col_name)"
   ]
  },
  {
   "cell_type": "code",
<<<<<<< HEAD
   "execution_count": 32,
=======
   "execution_count": 33,
>>>>>>> database_files
   "id": "b65d3c6a",
   "metadata": {},
   "outputs": [
    {
     "data": {
      "text/plain": [
<<<<<<< HEAD
       "Counter({1.0: 1640, 0.0: 5110})"
      ]
     },
     "execution_count": 32,
=======
       "Counter({1.0: 1645, 0.0: 5105})"
      ]
     },
     "execution_count": 33,
>>>>>>> database_files
     "metadata": {},
     "output_type": "execute_result"
    }
   ],
   "source": [
    "# Split data into training and testing data\n",
    "from collections import Counter\n",
    "from sklearn.model_selection import train_test_split\n",
    "\n",
    "X_train, X_test, y_train, y_test = train_test_split(X, \n",
    "                                                    y, \n",
    "                                                    random_state=1, \n",
    "                                                    stratify=y)\n",
    "# X_train.shape\n",
    "Counter(y_train)"
   ]
  },
  {
   "cell_type": "markdown",
   "id": "dae4f8e7",
   "metadata": {},
   "source": [
    "### Oversample data"
   ]
  },
  {
   "cell_type": "markdown",
   "id": "5ef00359",
   "metadata": {},
   "source": [
    "Random Oversampling"
   ]
  },
  {
   "cell_type": "code",
<<<<<<< HEAD
   "execution_count": 33,
=======
   "execution_count": 34,
>>>>>>> database_files
   "id": "37b003e5",
   "metadata": {},
   "outputs": [
    {
     "data": {
      "text/plain": [
<<<<<<< HEAD
       "Counter({1.0: 5110, 0.0: 5110})"
      ]
     },
     "execution_count": 33,
=======
       "Counter({1.0: 5105, 0.0: 5105})"
      ]
     },
     "execution_count": 34,
>>>>>>> database_files
     "metadata": {},
     "output_type": "execute_result"
    }
   ],
   "source": [
    "# implement random oversampling\n",
    "from imblearn.over_sampling import RandomOverSampler\n",
    "ros = RandomOverSampler(random_state=1)\n",
    "X_resampled, y_resampled = ros.fit_resample(X_train, y_train)\n",
    "\n",
    "Counter(y_resampled)"
   ]
  },
  {
   "cell_type": "code",
<<<<<<< HEAD
   "execution_count": 34,
=======
   "execution_count": 35,
>>>>>>> database_files
   "id": "48260d30",
   "metadata": {},
   "outputs": [],
   "source": [
    "# Create a logistic regression model\n",
    "from sklearn.linear_model import LogisticRegression\n",
    "classifier = LogisticRegression(solver='lbfgs',\n",
    "                                max_iter=200,\n",
    "                                random_state=1)"
   ]
  },
  {
   "cell_type": "code",
<<<<<<< HEAD
   "execution_count": 35,
=======
   "execution_count": 36,
>>>>>>> database_files
   "id": "d71f99ff",
   "metadata": {},
   "outputs": [
    {
     "data": {
      "text/plain": [
       "LogisticRegression(max_iter=200, random_state=1)"
      ]
     },
<<<<<<< HEAD
     "execution_count": 35,
=======
     "execution_count": 36,
>>>>>>> database_files
     "metadata": {},
     "output_type": "execute_result"
    }
   ],
   "source": [
    "# Train the model\n",
    "classifier.fit(X_resampled, y_resampled)"
   ]
  },
  {
   "cell_type": "code",
<<<<<<< HEAD
   "execution_count": 36,
=======
   "execution_count": 37,
>>>>>>> database_files
   "id": "35778fa2",
   "metadata": {},
   "outputs": [
    {
     "data": {
      "text/html": [
       "<div>\n",
       "<style scoped>\n",
       "    .dataframe tbody tr th:only-of-type {\n",
       "        vertical-align: middle;\n",
       "    }\n",
       "\n",
       "    .dataframe tbody tr th {\n",
       "        vertical-align: top;\n",
       "    }\n",
       "\n",
       "    .dataframe thead th {\n",
       "        text-align: right;\n",
       "    }\n",
       "</style>\n",
       "<table border=\"1\" class=\"dataframe\">\n",
       "  <thead>\n",
       "    <tr style=\"text-align: right;\">\n",
       "      <th></th>\n",
       "      <th>Prediction</th>\n",
       "      <th>Actual</th>\n",
       "    </tr>\n",
       "  </thead>\n",
       "  <tbody>\n",
       "    <tr>\n",
       "      <th>0</th>\n",
<<<<<<< HEAD
       "      <td>0.0</td>\n",
=======
       "      <td>1.0</td>\n",
>>>>>>> database_files
       "      <td>0.0</td>\n",
       "    </tr>\n",
       "    <tr>\n",
       "      <th>1</th>\n",
       "      <td>0.0</td>\n",
       "      <td>0.0</td>\n",
       "    </tr>\n",
       "    <tr>\n",
       "      <th>2</th>\n",
       "      <td>0.0</td>\n",
       "      <td>0.0</td>\n",
       "    </tr>\n",
       "    <tr>\n",
       "      <th>3</th>\n",
       "      <td>1.0</td>\n",
       "      <td>1.0</td>\n",
       "    </tr>\n",
       "    <tr>\n",
       "      <th>4</th>\n",
       "      <td>0.0</td>\n",
       "      <td>0.0</td>\n",
       "    </tr>\n",
       "    <tr>\n",
       "      <th>5</th>\n",
<<<<<<< HEAD
       "      <td>0.0</td>\n",
       "      <td>0.0</td>\n",
=======
       "      <td>1.0</td>\n",
       "      <td>1.0</td>\n",
>>>>>>> database_files
       "    </tr>\n",
       "    <tr>\n",
       "      <th>6</th>\n",
       "      <td>0.0</td>\n",
       "      <td>0.0</td>\n",
       "    </tr>\n",
       "    <tr>\n",
       "      <th>7</th>\n",
<<<<<<< HEAD
       "      <td>0.0</td>\n",
=======
       "      <td>1.0</td>\n",
>>>>>>> database_files
       "      <td>0.0</td>\n",
       "    </tr>\n",
       "    <tr>\n",
       "      <th>8</th>\n",
       "      <td>0.0</td>\n",
       "      <td>0.0</td>\n",
       "    </tr>\n",
       "    <tr>\n",
       "      <th>9</th>\n",
<<<<<<< HEAD
       "      <td>1.0</td>\n",
=======
       "      <td>0.0</td>\n",
>>>>>>> database_files
       "      <td>0.0</td>\n",
       "    </tr>\n",
       "  </tbody>\n",
       "</table>\n",
       "</div>"
      ],
      "text/plain": [
       "   Prediction  Actual\n",
<<<<<<< HEAD
       "0         0.0     0.0\n",
=======
       "0         1.0     0.0\n",
>>>>>>> database_files
       "1         0.0     0.0\n",
       "2         0.0     0.0\n",
       "3         1.0     1.0\n",
       "4         0.0     0.0\n",
<<<<<<< HEAD
       "5         0.0     0.0\n",
       "6         0.0     0.0\n",
       "7         0.0     0.0\n",
       "8         0.0     0.0\n",
       "9         1.0     0.0"
      ]
     },
     "execution_count": 36,
=======
       "5         1.0     1.0\n",
       "6         0.0     0.0\n",
       "7         1.0     0.0\n",
       "8         0.0     0.0\n",
       "9         0.0     0.0"
      ]
     },
     "execution_count": 37,
>>>>>>> database_files
     "metadata": {},
     "output_type": "execute_result"
    }
   ],
   "source": [
    "y_pred = classifier.predict(X_test)\n",
    "results = pd.DataFrame({\"Prediction\": y_pred, \"Actual\": y_test}).reset_index(drop=True)\n",
    "results.head(10)"
   ]
  },
  {
   "cell_type": "code",
<<<<<<< HEAD
   "execution_count": 37,
=======
   "execution_count": 38,
>>>>>>> database_files
   "id": "e83767f3",
   "metadata": {},
   "outputs": [
    {
     "name": "stdout",
     "output_type": "stream",
     "text": [
<<<<<<< HEAD
      "0.8746666666666667\n"
=======
      "0.8688888888888889\n"
>>>>>>> database_files
     ]
    }
   ],
   "source": [
    "# Assess accuracy\n",
    "from sklearn.metrics import accuracy_score\n",
    "print(accuracy_score(y_test, y_pred))"
   ]
  },
  {
   "cell_type": "code",
<<<<<<< HEAD
   "execution_count": 38,
=======
   "execution_count": 39,
>>>>>>> database_files
   "id": "7852856a",
   "metadata": {},
   "outputs": [
    {
     "data": {
      "text/plain": [
<<<<<<< HEAD
       "0.8508138664857479"
      ]
     },
     "execution_count": 38,
=======
       "0.8341517493374047"
      ]
     },
     "execution_count": 39,
>>>>>>> database_files
     "metadata": {},
     "output_type": "execute_result"
    }
   ],
   "source": [
    "from sklearn.metrics import balanced_accuracy_score\n",
    "\n",
    "balanced_accuracy_score(y_test, y_pred)"
   ]
  },
  {
   "cell_type": "code",
<<<<<<< HEAD
   "execution_count": 39,
=======
   "execution_count": 40,
>>>>>>> database_files
   "id": "88f6e7b5",
   "metadata": {},
   "outputs": [
    {
     "data": {
      "text/html": [
       "<div>\n",
       "<style scoped>\n",
       "    .dataframe tbody tr th:only-of-type {\n",
       "        vertical-align: middle;\n",
       "    }\n",
       "\n",
       "    .dataframe tbody tr th {\n",
       "        vertical-align: top;\n",
       "    }\n",
       "\n",
       "    .dataframe thead th {\n",
       "        text-align: right;\n",
       "    }\n",
       "</style>\n",
       "<table border=\"1\" class=\"dataframe\">\n",
       "  <thead>\n",
       "    <tr style=\"text-align: right;\">\n",
       "      <th></th>\n",
       "      <th>Predicted &lt; threshold</th>\n",
       "      <th>Predicted &gt; threshold</th>\n",
       "    </tr>\n",
       "  </thead>\n",
       "  <tbody>\n",
       "    <tr>\n",
       "      <th>Actual &lt; threshold</th>\n",
<<<<<<< HEAD
       "      <td>1528</td>\n",
       "      <td>175</td>\n",
       "    </tr>\n",
       "    <tr>\n",
       "      <th>Actual &gt; threshold</th>\n",
       "      <td>107</td>\n",
       "      <td>440</td>\n",
=======
       "      <td>1535</td>\n",
       "      <td>167</td>\n",
       "    </tr>\n",
       "    <tr>\n",
       "      <th>Actual &gt; threshold</th>\n",
       "      <td>128</td>\n",
       "      <td>420</td>\n",
>>>>>>> database_files
       "    </tr>\n",
       "  </tbody>\n",
       "</table>\n",
       "</div>"
      ],
      "text/plain": [
       "                    Predicted < threshold  Predicted > threshold\n",
<<<<<<< HEAD
       "Actual < threshold                   1528                    175\n",
       "Actual > threshold                    107                    440"
      ]
     },
     "execution_count": 39,
=======
       "Actual < threshold                   1535                    167\n",
       "Actual > threshold                    128                    420"
      ]
     },
     "execution_count": 40,
>>>>>>> database_files
     "metadata": {},
     "output_type": "execute_result"
    }
   ],
   "source": [
    "# # Print confusion matrix\n",
    "# from sklearn.metrics import confusion_matrix, classification_report\n",
    "# matrix = confusion_matrix(y_test, y_pred)\n",
    "# print(matrix)\n",
    "\n",
    "# Display the confusion matrix\n",
    "from sklearn.metrics import confusion_matrix, classification_report\n",
    "\n",
    "# Calculating the confusion matrix\n",
    "cm = confusion_matrix(y_test, y_pred)\n",
    "\n",
    "# Create a DataFrame from the confusion matrix.\n",
    "cm_df = pd.DataFrame(\n",
    "    cm, index=[\"Actual < threshold\", \"Actual > threshold\"], \n",
    "        columns=[\"Predicted < threshold\", \"Predicted > threshold\"])\n",
    "\n",
    "cm_df"
   ]
  },
  {
   "cell_type": "code",
<<<<<<< HEAD
   "execution_count": 40,
=======
   "execution_count": 41,
>>>>>>> database_files
   "id": "bbf50cc4",
   "metadata": {},
   "outputs": [
    {
     "name": "stdout",
     "output_type": "stream",
     "text": [
      "              precision    recall  f1-score   support\n",
      "\n",
<<<<<<< HEAD
      "         0.0       0.93      0.90      0.92      1703\n",
      "         1.0       0.72      0.80      0.76       547\n",
      "\n",
      "    accuracy                           0.87      2250\n",
      "   macro avg       0.83      0.85      0.84      2250\n",
      "weighted avg       0.88      0.87      0.88      2250\n",
=======
      "         0.0       0.92      0.90      0.91      1702\n",
      "         1.0       0.72      0.77      0.74       548\n",
      "\n",
      "    accuracy                           0.87      2250\n",
      "   macro avg       0.82      0.83      0.83      2250\n",
      "weighted avg       0.87      0.87      0.87      2250\n",
>>>>>>> database_files
      "\n"
     ]
    }
   ],
   "source": [
    "# Print classification report\n",
    "report = classification_report(y_test, y_pred)\n",
    "print(report)"
   ]
  },
  {
   "cell_type": "code",
<<<<<<< HEAD
   "execution_count": 41,
=======
   "execution_count": 42,
>>>>>>> database_files
   "id": "04fae70d",
   "metadata": {},
   "outputs": [
    {
     "name": "stdout",
     "output_type": "stream",
     "text": [
<<<<<<< HEAD
      "Train Score:  84.4\n",
      "Test Score:  87.5\n"
=======
      "Train Score:  85.1\n",
      "Test Score:  86.9\n"
>>>>>>> database_files
     ]
    }
   ],
   "source": [
    "print('Train Score: ', round(classifier.score(X_resampled, y_resampled)*100,1))\n",
    "print('Test Score: ', round(classifier.score(X_test, y_test)*100,1))"
   ]
  },
  {
   "cell_type": "code",
<<<<<<< HEAD
   "execution_count": 42,
=======
   "execution_count": 43,
>>>>>>> database_files
   "id": "d6dce355",
   "metadata": {},
   "outputs": [
    {
     "data": {
      "text/plain": [
<<<<<<< HEAD
       "[7.2293105102050275,\n",
       " 0.5092575888386605,\n",
       " -5.67803270705217,\n",
       " -0.06422310400264385,\n",
       " 0.8255816742503213]"
      ]
     },
     "execution_count": 42,
=======
       "[6.931499442914389,\n",
       " 0.6242415800907595,\n",
       " -4.890273661360354,\n",
       " -0.1363703871913361,\n",
       " 0.6919070792166918]"
      ]
     },
     "execution_count": 43,
>>>>>>> database_files
     "metadata": {},
     "output_type": "execute_result"
    }
   ],
   "source": [
    "# Look at feature importance\n",
    "coefficients = classifier.coef_[0].tolist()\n",
    "coefficients[:5]"
   ]
  },
  {
   "cell_type": "code",
<<<<<<< HEAD
   "execution_count": 43,
=======
   "execution_count": 44,
>>>>>>> database_files
   "id": "51ceb64f",
   "metadata": {},
   "outputs": [
    {
     "data": {
      "text/plain": [
       "45"
      ]
     },
<<<<<<< HEAD
     "execution_count": 43,
=======
     "execution_count": 44,
>>>>>>> database_files
     "metadata": {},
     "output_type": "execute_result"
    }
   ],
   "source": [
    "len(coefficients)"
   ]
  },
  {
   "cell_type": "code",
<<<<<<< HEAD
   "execution_count": 44,
=======
   "execution_count": 45,
>>>>>>> database_files
   "id": "e0c00d6d",
   "metadata": {},
   "outputs": [
    {
     "data": {
      "text/plain": [
       "45"
      ]
     },
<<<<<<< HEAD
     "execution_count": 44,
=======
     "execution_count": 45,
>>>>>>> database_files
     "metadata": {},
     "output_type": "execute_result"
    }
   ],
   "source": [
    "len(X.columns)"
   ]
  },
  {
   "cell_type": "code",
<<<<<<< HEAD
   "execution_count": 45,
=======
   "execution_count": 46,
>>>>>>> database_files
   "id": "b7d22f1b",
   "metadata": {},
   "outputs": [
    {
     "data": {
      "text/html": [
       "<div>\n",
       "<style scoped>\n",
       "    .dataframe tbody tr th:only-of-type {\n",
       "        vertical-align: middle;\n",
       "    }\n",
       "\n",
       "    .dataframe tbody tr th {\n",
       "        vertical-align: top;\n",
       "    }\n",
       "\n",
       "    .dataframe thead th {\n",
       "        text-align: right;\n",
       "    }\n",
       "</style>\n",
       "<table border=\"1\" class=\"dataframe\">\n",
       "  <thead>\n",
       "    <tr style=\"text-align: right;\">\n",
       "      <th></th>\n",
       "      <th>Feature</th>\n",
       "      <th>Coefficient</th>\n",
       "    </tr>\n",
       "  </thead>\n",
       "  <tbody>\n",
       "    <tr>\n",
       "      <th>0</th>\n",
       "      <td>NA_Sales</td>\n",
<<<<<<< HEAD
       "      <td>7.229311</td>\n",
=======
       "      <td>6.931499</td>\n",
>>>>>>> database_files
       "    </tr>\n",
       "    <tr>\n",
       "      <th>1</th>\n",
       "      <td>JP_Sales</td>\n",
<<<<<<< HEAD
       "      <td>0.509258</td>\n",
=======
       "      <td>0.624242</td>\n",
>>>>>>> database_files
       "    </tr>\n",
       "    <tr>\n",
       "      <th>2</th>\n",
       "      <td>Platform_2600</td>\n",
<<<<<<< HEAD
       "      <td>-5.678033</td>\n",
=======
       "      <td>-4.890274</td>\n",
>>>>>>> database_files
       "    </tr>\n",
       "    <tr>\n",
       "      <th>3</th>\n",
       "      <td>Platform_3DO</td>\n",
<<<<<<< HEAD
       "      <td>-0.064223</td>\n",
=======
       "      <td>-0.136370</td>\n",
>>>>>>> database_files
       "    </tr>\n",
       "    <tr>\n",
       "      <th>4</th>\n",
       "      <td>Platform_3DS</td>\n",
<<<<<<< HEAD
       "      <td>0.825582</td>\n",
=======
       "      <td>0.691907</td>\n",
>>>>>>> database_files
       "    </tr>\n",
       "  </tbody>\n",
       "</table>\n",
       "</div>"
      ],
      "text/plain": [
       "         Feature  Coefficient\n",
<<<<<<< HEAD
       "0       NA_Sales     7.229311\n",
       "1       JP_Sales     0.509258\n",
       "2  Platform_2600    -5.678033\n",
       "3   Platform_3DO    -0.064223\n",
       "4   Platform_3DS     0.825582"
      ]
     },
     "execution_count": 45,
=======
       "0       NA_Sales     6.931499\n",
       "1       JP_Sales     0.624242\n",
       "2  Platform_2600    -4.890274\n",
       "3   Platform_3DO    -0.136370\n",
       "4   Platform_3DS     0.691907"
      ]
     },
     "execution_count": 46,
>>>>>>> database_files
     "metadata": {},
     "output_type": "execute_result"
    }
   ],
   "source": [
    "feature_coefficients = pd.DataFrame({\n",
    "    \"Feature\":X.columns,\n",
    "    \"Coefficient\":coefficients\n",
    "})\n",
    "feature_coefficients.head()"
   ]
  },
  {
   "cell_type": "code",
<<<<<<< HEAD
   "execution_count": 46,
=======
   "execution_count": 47,
>>>>>>> database_files
   "id": "fb54219c",
   "metadata": {},
   "outputs": [
    {
     "data": {
      "text/html": [
       "<div>\n",
       "<style scoped>\n",
       "    .dataframe tbody tr th:only-of-type {\n",
       "        vertical-align: middle;\n",
       "    }\n",
       "\n",
       "    .dataframe tbody tr th {\n",
       "        vertical-align: top;\n",
       "    }\n",
       "\n",
       "    .dataframe thead th {\n",
       "        text-align: right;\n",
       "    }\n",
       "</style>\n",
       "<table border=\"1\" class=\"dataframe\">\n",
       "  <thead>\n",
       "    <tr style=\"text-align: right;\">\n",
       "      <th></th>\n",
       "      <th>Feature</th>\n",
       "      <th>Coefficient</th>\n",
       "    </tr>\n",
       "  </thead>\n",
       "  <tbody>\n",
       "    <tr>\n",
       "      <th>0</th>\n",
       "      <td>NA_Sales</td>\n",
<<<<<<< HEAD
       "      <td>7.229311</td>\n",
=======
       "      <td>6.931499</td>\n",
>>>>>>> database_files
       "    </tr>\n",
       "    <tr>\n",
       "      <th>1</th>\n",
       "      <td>Platform_2600</td>\n",
<<<<<<< HEAD
       "      <td>-5.678033</td>\n",
=======
       "      <td>-4.890274</td>\n",
>>>>>>> database_files
       "    </tr>\n",
       "    <tr>\n",
       "      <th>2</th>\n",
       "      <td>Platform_PS4</td>\n",
<<<<<<< HEAD
       "      <td>1.832768</td>\n",
=======
       "      <td>2.106572</td>\n",
>>>>>>> database_files
       "    </tr>\n",
       "    <tr>\n",
       "      <th>3</th>\n",
       "      <td>Platform_PC</td>\n",
<<<<<<< HEAD
       "      <td>1.703465</td>\n",
       "    </tr>\n",
       "    <tr>\n",
       "      <th>4</th>\n",
       "      <td>Platform_PS3</td>\n",
       "      <td>1.556173</td>\n",
       "    </tr>\n",
       "    <tr>\n",
       "      <th>5</th>\n",
       "      <td>Platform_SNES</td>\n",
       "      <td>-1.530746</td>\n",
=======
       "      <td>1.797721</td>\n",
       "    </tr>\n",
       "    <tr>\n",
       "      <th>4</th>\n",
       "      <td>Platform_SNES</td>\n",
       "      <td>-1.613880</td>\n",
       "    </tr>\n",
       "    <tr>\n",
       "      <th>5</th>\n",
       "      <td>Platform_PS3</td>\n",
       "      <td>1.567617</td>\n",
>>>>>>> database_files
       "    </tr>\n",
       "    <tr>\n",
       "      <th>6</th>\n",
       "      <td>Platform_SAT</td>\n",
<<<<<<< HEAD
       "      <td>-1.112331</td>\n",
       "    </tr>\n",
       "    <tr>\n",
       "      <th>7</th>\n",
       "      <td>Platform_PS</td>\n",
       "      <td>1.101650</td>\n",
       "    </tr>\n",
       "    <tr>\n",
       "      <th>8</th>\n",
       "      <td>Platform_PS2</td>\n",
       "      <td>1.019376</td>\n",
       "    </tr>\n",
       "    <tr>\n",
       "      <th>9</th>\n",
       "      <td>Platform_N64</td>\n",
       "      <td>-1.010370</td>\n",
=======
       "      <td>-1.483861</td>\n",
       "    </tr>\n",
       "    <tr>\n",
       "      <th>7</th>\n",
       "      <td>Platform_PS2</td>\n",
       "      <td>1.268323</td>\n",
       "    </tr>\n",
       "    <tr>\n",
       "      <th>8</th>\n",
       "      <td>Platform_N64</td>\n",
       "      <td>-1.266085</td>\n",
       "    </tr>\n",
       "    <tr>\n",
       "      <th>9</th>\n",
       "      <td>Platform_PS</td>\n",
       "      <td>1.187565</td>\n",
>>>>>>> database_files
       "    </tr>\n",
       "  </tbody>\n",
       "</table>\n",
       "</div>"
      ],
      "text/plain": [
       "         Feature  Coefficient\n",
<<<<<<< HEAD
       "0       NA_Sales     7.229311\n",
       "1  Platform_2600    -5.678033\n",
       "2   Platform_PS4     1.832768\n",
       "3    Platform_PC     1.703465\n",
       "4   Platform_PS3     1.556173\n",
       "5  Platform_SNES    -1.530746\n",
       "6   Platform_SAT    -1.112331\n",
       "7    Platform_PS     1.101650\n",
       "8   Platform_PS2     1.019376\n",
       "9   Platform_N64    -1.010370"
      ]
     },
     "execution_count": 46,
=======
       "0       NA_Sales     6.931499\n",
       "1  Platform_2600    -4.890274\n",
       "2   Platform_PS4     2.106572\n",
       "3    Platform_PC     1.797721\n",
       "4  Platform_SNES    -1.613880\n",
       "5   Platform_PS3     1.567617\n",
       "6   Platform_SAT    -1.483861\n",
       "7   Platform_PS2     1.268323\n",
       "8   Platform_N64    -1.266085\n",
       "9    Platform_PS     1.187565"
      ]
     },
     "execution_count": 47,
>>>>>>> database_files
     "metadata": {},
     "output_type": "execute_result"
    }
   ],
   "source": [
    "feature_coefficients_sorted = feature_coefficients.iloc[feature_coefficients['Coefficient'].abs().argsort()]\\\n",
    "    [::-1][:len(feature_coefficients)].reset_index(drop=True)\n",
    "feature_coefficients_sorted.head(10)"
   ]
  },
  {
   "cell_type": "code",
<<<<<<< HEAD
   "execution_count": 47,
=======
   "execution_count": 48,
>>>>>>> database_files
   "id": "39785302",
   "metadata": {},
   "outputs": [
    {
     "data": {
<<<<<<< HEAD
      "image/png": "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\n",
=======
      "image/png": "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\n",
>>>>>>> database_files
      "text/plain": [
       "<Figure size 504x360 with 1 Axes>"
      ]
     },
     "metadata": {
      "needs_background": "light"
     },
     "output_type": "display_data"
    }
   ],
   "source": [
    "feature_coefficients_sorted_for_plot = feature_coefficients_sorted.head(10)\n",
    "\n",
    "import matplotlib.colors\n",
    "from matplotlib.colors import LinearSegmentedColormap\n",
    "cmap = matplotlib.cm.get_cmap('cubehelix')\n",
    "colors = cmap(np.arange(cmap.N))\n",
    "\n",
    "colors = ['#636FA0','#EE415A','#6ABA9B','#C8AD45','#F2BC91','#48B949',\n",
    "         '#F7F56D','#B9F0EF','#FF8704','#C5D2FF']\n",
    "\n",
    "# feature_coefficients_sorted_for_plot.plot.bar(x=\"Feature\", y=\"Coefficient\")\n",
    "plt.bar(feature_coefficients_sorted_for_plot[\"Feature\"],\n",
    "        feature_coefficients_sorted_for_plot[\"Coefficient\"],\n",
    "        color=colors)\n",
    "plt.xticks(rotation=90, size=11, weight=\"bold\")\n",
    "plt.yticks(size=11, weight=\"bold\")\n",
    "plt.title(\"Logistic Regression Coefficients\", size=14, weight=\"bold\")\n",
    "plt.ylabel(\"Coefficient\", size=11, weight=\"bold\")\n",
    "plt.xlabel(\"Feature\", size=11, weight=\"bold\")\n",
    "fig = plt.gcf()\n",
    "fig.set_size_inches([7,5])\n",
    "plt.tight_layout()\n",
    "# plt.savefig('LR_Coefficients_no_bkgnd.png', transparent=True)\n",
    "plt.show()\n",
    "\n"
   ]
  },
  {
   "cell_type": "markdown",
   "id": "972a1f90",
   "metadata": {},
   "source": [
    "Investigate LR Probabilities"
   ]
  },
  {
   "cell_type": "code",
<<<<<<< HEAD
   "execution_count": 48,
=======
   "execution_count": 49,
>>>>>>> database_files
   "id": "8ecbb981",
   "metadata": {},
   "outputs": [
    {
     "data": {
      "text/plain": [
<<<<<<< HEAD
       "array([[7.79318854e-01, 2.20681146e-01],\n",
       "       [6.05721184e-01, 3.94278816e-01],\n",
       "       [9.15263172e-01, 8.47368277e-02],\n",
       "       ...,\n",
       "       [3.26213080e-04, 9.99673787e-01],\n",
       "       [8.12669333e-01, 1.87330667e-01],\n",
       "       [8.02199022e-01, 1.97800978e-01]])"
      ]
     },
     "execution_count": 48,
=======
       "array([[0.41565678, 0.58434322],\n",
       "       [0.65230339, 0.34769661],\n",
       "       [0.96990772, 0.03009228],\n",
       "       ...,\n",
       "       [0.80907233, 0.19092767],\n",
       "       [0.9656438 , 0.0343562 ],\n",
       "       [0.71169866, 0.28830134]])"
      ]
     },
     "execution_count": 49,
>>>>>>> database_files
     "metadata": {},
     "output_type": "execute_result"
    }
   ],
   "source": [
    "probs_test = classifier.predict_proba(X_test)\n",
    "probs_test"
   ]
  },
  {
   "cell_type": "code",
<<<<<<< HEAD
   "execution_count": 49,
=======
   "execution_count": 50,
>>>>>>> database_files
   "id": "44255986",
   "metadata": {
    "scrolled": true
   },
   "outputs": [
    {
     "data": {
      "text/plain": [
       "2250"
      ]
     },
<<<<<<< HEAD
     "execution_count": 49,
=======
     "execution_count": 50,
>>>>>>> database_files
     "metadata": {},
     "output_type": "execute_result"
    }
   ],
   "source": [
    "len(probs_test)"
   ]
  },
  {
   "cell_type": "code",
<<<<<<< HEAD
   "execution_count": 50,
=======
   "execution_count": 51,
>>>>>>> database_files
   "id": "5eba9144",
   "metadata": {},
   "outputs": [
    {
     "data": {
      "text/plain": [
<<<<<<< HEAD
       "array([7.79318854e-01, 6.05721184e-01, 9.15263172e-01, ...,\n",
       "       3.26213080e-04, 8.12669333e-01, 8.02199022e-01])"
      ]
     },
     "execution_count": 50,
=======
       "array([0.41565678, 0.65230339, 0.96990772, ..., 0.80907233, 0.9656438 ,\n",
       "       0.71169866])"
      ]
     },
     "execution_count": 51,
>>>>>>> database_files
     "metadata": {},
     "output_type": "execute_result"
    }
   ],
   "source": [
    "probs_0 = classifier.predict_proba(X_test)[:,0]\n",
    "probs_0"
   ]
  },
  {
   "cell_type": "code",
<<<<<<< HEAD
   "execution_count": 51,
=======
   "execution_count": 52,
>>>>>>> database_files
   "id": "a9b75e30",
   "metadata": {},
   "outputs": [
    {
     "data": {
      "text/plain": [
<<<<<<< HEAD
       "array([0.22068115, 0.39427882, 0.08473683, ..., 0.99967379, 0.18733067,\n",
       "       0.19780098])"
      ]
     },
     "execution_count": 51,
=======
       "array([0.58434322, 0.34769661, 0.03009228, ..., 0.19092767, 0.0343562 ,\n",
       "       0.28830134])"
      ]
     },
     "execution_count": 52,
>>>>>>> database_files
     "metadata": {},
     "output_type": "execute_result"
    }
   ],
   "source": [
    "probs_1 = classifier.predict_proba(X_test)[:,1]\n",
    "probs_1"
   ]
  },
  {
   "cell_type": "code",
<<<<<<< HEAD
   "execution_count": 52,
=======
   "execution_count": 53,
>>>>>>> database_files
   "id": "23f5ad9f",
   "metadata": {},
   "outputs": [
    {
     "data": {
      "text/html": [
       "<div>\n",
       "<style scoped>\n",
       "    .dataframe tbody tr th:only-of-type {\n",
       "        vertical-align: middle;\n",
       "    }\n",
       "\n",
       "    .dataframe tbody tr th {\n",
       "        vertical-align: top;\n",
       "    }\n",
       "\n",
       "    .dataframe thead th {\n",
       "        text-align: right;\n",
       "    }\n",
       "</style>\n",
       "<table border=\"1\" class=\"dataframe\">\n",
       "  <thead>\n",
       "    <tr style=\"text-align: right;\">\n",
       "      <th></th>\n",
       "      <th>Validation</th>\n",
       "      <th>Prediction</th>\n",
       "      <th>0 Probability</th>\n",
       "      <th>1 Probability</th>\n",
       "    </tr>\n",
       "  </thead>\n",
       "  <tbody>\n",
       "    <tr>\n",
<<<<<<< HEAD
       "      <th>6348</th>\n",
       "      <td>0.0</td>\n",
       "      <td>0.0</td>\n",
       "      <td>0.779319</td>\n",
       "      <td>0.220681</td>\n",
       "    </tr>\n",
       "    <tr>\n",
       "      <th>520</th>\n",
       "      <td>0.0</td>\n",
       "      <td>0.0</td>\n",
       "      <td>0.605721</td>\n",
       "      <td>0.394279</td>\n",
       "    </tr>\n",
       "    <tr>\n",
       "      <th>6763</th>\n",
       "      <td>0.0</td>\n",
       "      <td>0.0</td>\n",
       "      <td>0.915263</td>\n",
       "      <td>0.084737</td>\n",
       "    </tr>\n",
       "    <tr>\n",
       "      <th>628</th>\n",
       "      <td>1.0</td>\n",
       "      <td>1.0</td>\n",
       "      <td>0.316622</td>\n",
       "      <td>0.683378</td>\n",
       "    </tr>\n",
       "    <tr>\n",
       "      <th>2715</th>\n",
       "      <td>0.0</td>\n",
       "      <td>0.0</td>\n",
       "      <td>0.859115</td>\n",
       "      <td>0.140885</td>\n",
=======
       "      <th>6680</th>\n",
       "      <td>0.0</td>\n",
       "      <td>1.0</td>\n",
       "      <td>0.415657</td>\n",
       "      <td>0.584343</td>\n",
       "    </tr>\n",
       "    <tr>\n",
       "      <th>8641</th>\n",
       "      <td>0.0</td>\n",
       "      <td>0.0</td>\n",
       "      <td>0.652303</td>\n",
       "      <td>0.347697</td>\n",
       "    </tr>\n",
       "    <tr>\n",
       "      <th>1727</th>\n",
       "      <td>0.0</td>\n",
       "      <td>0.0</td>\n",
       "      <td>0.969908</td>\n",
       "      <td>0.030092</td>\n",
       "    </tr>\n",
       "    <tr>\n",
       "      <th>4428</th>\n",
       "      <td>1.0</td>\n",
       "      <td>1.0</td>\n",
       "      <td>0.000066</td>\n",
       "      <td>0.999934</td>\n",
       "    </tr>\n",
       "    <tr>\n",
       "      <th>2461</th>\n",
       "      <td>0.0</td>\n",
       "      <td>0.0</td>\n",
       "      <td>0.671034</td>\n",
       "      <td>0.328966</td>\n",
>>>>>>> database_files
       "    </tr>\n",
       "    <tr>\n",
       "      <th>...</th>\n",
       "      <td>...</td>\n",
       "      <td>...</td>\n",
       "      <td>...</td>\n",
       "      <td>...</td>\n",
       "    </tr>\n",
       "    <tr>\n",
<<<<<<< HEAD
       "      <th>1724</th>\n",
       "      <td>0.0</td>\n",
       "      <td>0.0</td>\n",
       "      <td>0.908653</td>\n",
       "      <td>0.091347</td>\n",
       "    </tr>\n",
       "    <tr>\n",
       "      <th>5166</th>\n",
       "      <td>0.0</td>\n",
       "      <td>0.0</td>\n",
       "      <td>0.997964</td>\n",
       "      <td>0.002036</td>\n",
       "    </tr>\n",
       "    <tr>\n",
       "      <th>4916</th>\n",
       "      <td>0.0</td>\n",
       "      <td>1.0</td>\n",
       "      <td>0.000326</td>\n",
       "      <td>0.999674</td>\n",
       "    </tr>\n",
       "    <tr>\n",
       "      <th>8498</th>\n",
       "      <td>0.0</td>\n",
       "      <td>0.0</td>\n",
       "      <td>0.812669</td>\n",
       "      <td>0.187331</td>\n",
       "    </tr>\n",
       "    <tr>\n",
       "      <th>6900</th>\n",
       "      <td>0.0</td>\n",
       "      <td>0.0</td>\n",
       "      <td>0.802199</td>\n",
       "      <td>0.197801</td>\n",
=======
       "      <th>3</th>\n",
       "      <td>0.0</td>\n",
       "      <td>0.0</td>\n",
       "      <td>0.943785</td>\n",
       "      <td>0.056215</td>\n",
       "    </tr>\n",
       "    <tr>\n",
       "      <th>2830</th>\n",
       "      <td>1.0</td>\n",
       "      <td>1.0</td>\n",
       "      <td>0.377389</td>\n",
       "      <td>0.622611</td>\n",
       "    </tr>\n",
       "    <tr>\n",
       "      <th>4480</th>\n",
       "      <td>0.0</td>\n",
       "      <td>0.0</td>\n",
       "      <td>0.809072</td>\n",
       "      <td>0.190928</td>\n",
       "    </tr>\n",
       "    <tr>\n",
       "      <th>687</th>\n",
       "      <td>0.0</td>\n",
       "      <td>0.0</td>\n",
       "      <td>0.965644</td>\n",
       "      <td>0.034356</td>\n",
       "    </tr>\n",
       "    <tr>\n",
       "      <th>4979</th>\n",
       "      <td>0.0</td>\n",
       "      <td>0.0</td>\n",
       "      <td>0.711699</td>\n",
       "      <td>0.288301</td>\n",
>>>>>>> database_files
       "    </tr>\n",
       "  </tbody>\n",
       "</table>\n",
       "<p>2250 rows × 4 columns</p>\n",
       "</div>"
      ],
      "text/plain": [
       "      Validation  Prediction  0 Probability  1 Probability\n",
<<<<<<< HEAD
       "6348         0.0         0.0       0.779319       0.220681\n",
       "520          0.0         0.0       0.605721       0.394279\n",
       "6763         0.0         0.0       0.915263       0.084737\n",
       "628          1.0         1.0       0.316622       0.683378\n",
       "2715         0.0         0.0       0.859115       0.140885\n",
       "...          ...         ...            ...            ...\n",
       "1724         0.0         0.0       0.908653       0.091347\n",
       "5166         0.0         0.0       0.997964       0.002036\n",
       "4916         0.0         1.0       0.000326       0.999674\n",
       "8498         0.0         0.0       0.812669       0.187331\n",
       "6900         0.0         0.0       0.802199       0.197801\n",
=======
       "6680         0.0         1.0       0.415657       0.584343\n",
       "8641         0.0         0.0       0.652303       0.347697\n",
       "1727         0.0         0.0       0.969908       0.030092\n",
       "4428         1.0         1.0       0.000066       0.999934\n",
       "2461         0.0         0.0       0.671034       0.328966\n",
       "...          ...         ...            ...            ...\n",
       "3            0.0         0.0       0.943785       0.056215\n",
       "2830         1.0         1.0       0.377389       0.622611\n",
       "4480         0.0         0.0       0.809072       0.190928\n",
       "687          0.0         0.0       0.965644       0.034356\n",
       "4979         0.0         0.0       0.711699       0.288301\n",
>>>>>>> database_files
       "\n",
       "[2250 rows x 4 columns]"
      ]
     },
<<<<<<< HEAD
     "execution_count": 52,
=======
     "execution_count": 53,
>>>>>>> database_files
     "metadata": {},
     "output_type": "execute_result"
    }
   ],
   "source": [
    "# Create dataframe with predictions and probabilities\n",
    "pred_df = pd.DataFrame({\n",
    "    \"Validation\":y_test,\n",
    "    \"Prediction\":y_pred,\n",
    "    \"0 Probability\":probs_0,\n",
    "    \"1 Probability\":probs_1\n",
    "})\n",
    "pred_df"
   ]
  },
  {
   "cell_type": "code",
<<<<<<< HEAD
   "execution_count": 53,
=======
   "execution_count": 54,
>>>>>>> database_files
   "id": "3c1dd9f6",
   "metadata": {},
   "outputs": [
    {
     "data": {
      "text/html": [
       "<div>\n",
       "<style scoped>\n",
       "    .dataframe tbody tr th:only-of-type {\n",
       "        vertical-align: middle;\n",
       "    }\n",
       "\n",
       "    .dataframe tbody tr th {\n",
       "        vertical-align: top;\n",
       "    }\n",
       "\n",
       "    .dataframe thead th {\n",
       "        text-align: right;\n",
       "    }\n",
       "</style>\n",
       "<table border=\"1\" class=\"dataframe\">\n",
       "  <thead>\n",
       "    <tr style=\"text-align: right;\">\n",
       "      <th></th>\n",
       "      <th>Validation</th>\n",
       "      <th>Prediction</th>\n",
       "      <th>0 Probability</th>\n",
       "      <th>1 Probability</th>\n",
       "    </tr>\n",
       "  </thead>\n",
       "  <tbody>\n",
       "    <tr>\n",
<<<<<<< HEAD
       "      <th>6348</th>\n",
       "      <td>0.0</td>\n",
       "      <td>0.0</td>\n",
       "      <td>0.779319</td>\n",
       "      <td>0.220681</td>\n",
       "    </tr>\n",
       "    <tr>\n",
       "      <th>520</th>\n",
       "      <td>0.0</td>\n",
       "      <td>0.0</td>\n",
       "      <td>0.605721</td>\n",
       "      <td>0.394279</td>\n",
       "    </tr>\n",
       "    <tr>\n",
       "      <th>6763</th>\n",
       "      <td>0.0</td>\n",
       "      <td>0.0</td>\n",
       "      <td>0.915263</td>\n",
       "      <td>0.084737</td>\n",
       "    </tr>\n",
       "    <tr>\n",
       "      <th>2715</th>\n",
       "      <td>0.0</td>\n",
       "      <td>0.0</td>\n",
       "      <td>0.859115</td>\n",
       "      <td>0.140885</td>\n",
       "    </tr>\n",
       "    <tr>\n",
       "      <th>3700</th>\n",
       "      <td>0.0</td>\n",
       "      <td>0.0</td>\n",
       "      <td>0.887274</td>\n",
       "      <td>0.112726</td>\n",
=======
       "      <th>8641</th>\n",
       "      <td>0.0</td>\n",
       "      <td>0.0</td>\n",
       "      <td>0.652303</td>\n",
       "      <td>0.347697</td>\n",
       "    </tr>\n",
       "    <tr>\n",
       "      <th>1727</th>\n",
       "      <td>0.0</td>\n",
       "      <td>0.0</td>\n",
       "      <td>0.969908</td>\n",
       "      <td>0.030092</td>\n",
       "    </tr>\n",
       "    <tr>\n",
       "      <th>2461</th>\n",
       "      <td>0.0</td>\n",
       "      <td>0.0</td>\n",
       "      <td>0.671034</td>\n",
       "      <td>0.328966</td>\n",
       "    </tr>\n",
       "    <tr>\n",
       "      <th>4088</th>\n",
       "      <td>0.0</td>\n",
       "      <td>0.0</td>\n",
       "      <td>0.609228</td>\n",
       "      <td>0.390772</td>\n",
       "    </tr>\n",
       "    <tr>\n",
       "      <th>8825</th>\n",
       "      <td>0.0</td>\n",
       "      <td>0.0</td>\n",
       "      <td>0.626070</td>\n",
       "      <td>0.373930</td>\n",
>>>>>>> database_files
       "    </tr>\n",
       "  </tbody>\n",
       "</table>\n",
       "</div>"
      ],
      "text/plain": [
       "      Validation  Prediction  0 Probability  1 Probability\n",
<<<<<<< HEAD
       "6348         0.0         0.0       0.779319       0.220681\n",
       "520          0.0         0.0       0.605721       0.394279\n",
       "6763         0.0         0.0       0.915263       0.084737\n",
       "2715         0.0         0.0       0.859115       0.140885\n",
       "3700         0.0         0.0       0.887274       0.112726"
      ]
     },
     "execution_count": 53,
=======
       "8641         0.0         0.0       0.652303       0.347697\n",
       "1727         0.0         0.0       0.969908       0.030092\n",
       "2461         0.0         0.0       0.671034       0.328966\n",
       "4088         0.0         0.0       0.609228       0.390772\n",
       "8825         0.0         0.0       0.626070       0.373930"
      ]
     },
     "execution_count": 54,
>>>>>>> database_files
     "metadata": {},
     "output_type": "execute_result"
    }
   ],
   "source": [
    "# Create dataframe for 0 class, then create histograms to display probabilities\n",
    "probs_0_df = pred_df.loc[pred_df[\"Prediction\"] == 0]\n",
    "probs_0_df.head()"
   ]
  },
  {
   "cell_type": "code",
<<<<<<< HEAD
   "execution_count": 54,
=======
   "execution_count": 55,
>>>>>>> database_files
   "id": "f32ac8fe",
   "metadata": {},
   "outputs": [
    {
     "data": {
      "text/html": [
       "<div>\n",
       "<style scoped>\n",
       "    .dataframe tbody tr th:only-of-type {\n",
       "        vertical-align: middle;\n",
       "    }\n",
       "\n",
       "    .dataframe tbody tr th {\n",
       "        vertical-align: top;\n",
       "    }\n",
       "\n",
       "    .dataframe thead th {\n",
       "        text-align: right;\n",
       "    }\n",
       "</style>\n",
       "<table border=\"1\" class=\"dataframe\">\n",
       "  <thead>\n",
       "    <tr style=\"text-align: right;\">\n",
       "      <th></th>\n",
       "      <th>Validation</th>\n",
       "      <th>Prediction</th>\n",
       "      <th>0 Probability</th>\n",
       "      <th>1 Probability</th>\n",
       "    </tr>\n",
       "  </thead>\n",
       "  <tbody>\n",
       "    <tr>\n",
<<<<<<< HEAD
       "      <th>628</th>\n",
       "      <td>1.0</td>\n",
       "      <td>1.0</td>\n",
       "      <td>0.316622</td>\n",
       "      <td>0.683378</td>\n",
       "    </tr>\n",
       "    <tr>\n",
       "      <th>4726</th>\n",
       "      <td>0.0</td>\n",
       "      <td>1.0</td>\n",
       "      <td>0.044451</td>\n",
       "      <td>0.955549</td>\n",
       "    </tr>\n",
       "    <tr>\n",
       "      <th>1173</th>\n",
       "      <td>0.0</td>\n",
       "      <td>1.0</td>\n",
       "      <td>0.033497</td>\n",
       "      <td>0.966503</td>\n",
       "    </tr>\n",
       "    <tr>\n",
       "      <th>212</th>\n",
       "      <td>1.0</td>\n",
       "      <td>1.0</td>\n",
       "      <td>0.003755</td>\n",
       "      <td>0.996245</td>\n",
       "    </tr>\n",
       "    <tr>\n",
       "      <th>2952</th>\n",
       "      <td>0.0</td>\n",
       "      <td>1.0</td>\n",
       "      <td>0.208100</td>\n",
       "      <td>0.791900</td>\n",
       "    </tr>\n",
       "    <tr>\n",
       "      <th>5615</th>\n",
       "      <td>1.0</td>\n",
       "      <td>1.0</td>\n",
       "      <td>0.000002</td>\n",
       "      <td>0.999998</td>\n",
       "    </tr>\n",
       "    <tr>\n",
       "      <th>5556</th>\n",
       "      <td>1.0</td>\n",
       "      <td>1.0</td>\n",
       "      <td>0.394663</td>\n",
       "      <td>0.605337</td>\n",
       "    </tr>\n",
       "    <tr>\n",
       "      <th>6130</th>\n",
       "      <td>1.0</td>\n",
       "      <td>1.0</td>\n",
       "      <td>0.195983</td>\n",
       "      <td>0.804017</td>\n",
       "    </tr>\n",
       "    <tr>\n",
       "      <th>7268</th>\n",
       "      <td>1.0</td>\n",
       "      <td>1.0</td>\n",
       "      <td>0.324712</td>\n",
       "      <td>0.675288</td>\n",
       "    </tr>\n",
       "    <tr>\n",
       "      <th>6493</th>\n",
       "      <td>1.0</td>\n",
       "      <td>1.0</td>\n",
       "      <td>0.025459</td>\n",
       "      <td>0.974541</td>\n",
=======
       "      <th>6680</th>\n",
       "      <td>0.0</td>\n",
       "      <td>1.0</td>\n",
       "      <td>0.415657</td>\n",
       "      <td>0.584343</td>\n",
       "    </tr>\n",
       "    <tr>\n",
       "      <th>4428</th>\n",
       "      <td>1.0</td>\n",
       "      <td>1.0</td>\n",
       "      <td>0.000066</td>\n",
       "      <td>0.999934</td>\n",
       "    </tr>\n",
       "    <tr>\n",
       "      <th>2010</th>\n",
       "      <td>1.0</td>\n",
       "      <td>1.0</td>\n",
       "      <td>0.087548</td>\n",
       "      <td>0.912452</td>\n",
       "    </tr>\n",
       "    <tr>\n",
       "      <th>421</th>\n",
       "      <td>0.0</td>\n",
       "      <td>1.0</td>\n",
       "      <td>0.026979</td>\n",
       "      <td>0.973021</td>\n",
       "    </tr>\n",
       "    <tr>\n",
       "      <th>953</th>\n",
       "      <td>0.0</td>\n",
       "      <td>1.0</td>\n",
       "      <td>0.437158</td>\n",
       "      <td>0.562842</td>\n",
       "    </tr>\n",
       "    <tr>\n",
       "      <th>153</th>\n",
       "      <td>0.0</td>\n",
       "      <td>1.0</td>\n",
       "      <td>0.075229</td>\n",
       "      <td>0.924771</td>\n",
       "    </tr>\n",
       "    <tr>\n",
       "      <th>7366</th>\n",
       "      <td>0.0</td>\n",
       "      <td>1.0</td>\n",
       "      <td>0.449055</td>\n",
       "      <td>0.550945</td>\n",
       "    </tr>\n",
       "    <tr>\n",
       "      <th>8503</th>\n",
       "      <td>1.0</td>\n",
       "      <td>1.0</td>\n",
       "      <td>0.024017</td>\n",
       "      <td>0.975983</td>\n",
       "    </tr>\n",
       "    <tr>\n",
       "      <th>7145</th>\n",
       "      <td>1.0</td>\n",
       "      <td>1.0</td>\n",
       "      <td>0.002862</td>\n",
       "      <td>0.997138</td>\n",
       "    </tr>\n",
       "    <tr>\n",
       "      <th>7769</th>\n",
       "      <td>1.0</td>\n",
       "      <td>1.0</td>\n",
       "      <td>0.000002</td>\n",
       "      <td>0.999998</td>\n",
>>>>>>> database_files
       "    </tr>\n",
       "  </tbody>\n",
       "</table>\n",
       "</div>"
      ],
      "text/plain": [
       "      Validation  Prediction  0 Probability  1 Probability\n",
<<<<<<< HEAD
       "628          1.0         1.0       0.316622       0.683378\n",
       "4726         0.0         1.0       0.044451       0.955549\n",
       "1173         0.0         1.0       0.033497       0.966503\n",
       "212          1.0         1.0       0.003755       0.996245\n",
       "2952         0.0         1.0       0.208100       0.791900\n",
       "5615         1.0         1.0       0.000002       0.999998\n",
       "5556         1.0         1.0       0.394663       0.605337\n",
       "6130         1.0         1.0       0.195983       0.804017\n",
       "7268         1.0         1.0       0.324712       0.675288\n",
       "6493         1.0         1.0       0.025459       0.974541"
      ]
     },
     "execution_count": 54,
=======
       "6680         0.0         1.0       0.415657       0.584343\n",
       "4428         1.0         1.0       0.000066       0.999934\n",
       "2010         1.0         1.0       0.087548       0.912452\n",
       "421          0.0         1.0       0.026979       0.973021\n",
       "953          0.0         1.0       0.437158       0.562842\n",
       "153          0.0         1.0       0.075229       0.924771\n",
       "7366         0.0         1.0       0.449055       0.550945\n",
       "8503         1.0         1.0       0.024017       0.975983\n",
       "7145         1.0         1.0       0.002862       0.997138\n",
       "7769         1.0         1.0       0.000002       0.999998"
      ]
     },
     "execution_count": 55,
>>>>>>> database_files
     "metadata": {},
     "output_type": "execute_result"
    }
   ],
   "source": [
    "# Create dataframe for 1 class, then create histograms to display probabilities\n",
    "probs_1_df = pred_df.loc[pred_df[\"Prediction\"] == 1]\n",
    "probs_1_df.head(10)"
   ]
  },
  {
   "cell_type": "markdown",
   "id": "6179ab19",
   "metadata": {},
   "source": [
    "Create plots for probabilities"
   ]
  },
  {
   "cell_type": "code",
<<<<<<< HEAD
   "execution_count": 55,
=======
   "execution_count": 56,
>>>>>>> database_files
   "id": "99a4ec95",
   "metadata": {},
   "outputs": [
    {
     "data": {
<<<<<<< HEAD
      "image/png": "iVBORw0KGgoAAAANSUhEUgAAAX8AAAD4CAYAAAAEhuazAAAAOXRFWHRTb2Z0d2FyZQBNYXRwbG90bGliIHZlcnNpb24zLjMuNCwgaHR0cHM6Ly9tYXRwbG90bGliLm9yZy8QVMy6AAAACXBIWXMAAAsTAAALEwEAmpwYAAASBUlEQVR4nO3df4xd513n8fcHpwmUAknkSRzigANyS52IH2UI2UVAllAl24W6IIocKDUlyAIFtosWaAISqYQiBYp2F1QKsko2qbZKsKAQg6A0GEIAtQmTNknjhBDTQDKNa0/pql3KKsXulz/uCR7MuHPnnnPvjOd5v6TRvec559z79ZPJZ8597jnPSVUhSWrL5613AZKk2TP8JalBhr8kNcjwl6QGGf6S1KBz1rsAgK1bt9aOHTvWuwxJOqs8/PDDH6+quUn23RDhv2PHDhYWFta7DEk6qyT5+0n3ddhHkhpk+EtSgwx/SWrQquGf5I4kx5M8flr7jyd5KsnhJL+4rP2WJEe6dddNo2hJUj/jfOF7J/B24F0vNiT5T8Bu4Kur6oUkF3Xtu4A9wBXAlwJ/nOTlVXVy6MIlSZNb9ci/qh4APnFa848Ct1fVC902x7v23cA9VfVCVT0DHAGuGrBeSdIAJh3zfznwzUkeTPJnSb6ha78UeG7Zdotd27+TZF+ShSQLS0tLE5YhSZrEpOF/DnABcDXwU8CBJAGywrYrzhldVfurar6q5ufmJrpGQZI0oUnDfxF4T408BHwW2Nq1X7Zsu+3A8/1KlCQNbdLw/13g2wCSvBw4F/g4cBDYk+S8JJcDO4GHBqhT0jrbtn0bSXr9bNu+bb3/GeqserZPkruBa4CtSRaBW4E7gDu60z8/A+yt0S3BDic5ADwBnABu8kwfaXM49tFj8Naer/HWY4PUov5WDf+quuEMq95whu1vA27rU5Qkabq8wleSGmT4S1KDDH9JapDhL0kNMvwlqUGGvyQ1yPCXpAYZ/pLUIMNfkhpk+EtSgwx/SWqQ4S9JDTL8JalBhr8kNcjwl6QGGf7SlHkHLG1Eq97MRVI/3gFLG9GqR/5J7khyvLtl4+nrfjJJJdm6rO2WJEeSPJXkuqELliT1N86wz53A9ac3JrkMeDXw7LK2XcAe4Ipun3ck2TJIpZKkwawa/lX1APCJFVb9T+CngVrWthu4p6peqKpngCPAVUMUKkkazkRf+CZ5LfDRqnr0tFWXAs8tW17s2lZ6jX1JFpIsLC0tTVKGJGlCaw7/JC8Ffhb4uZVWr9BWK7RRVfurar6q5ufm5tZahiSph0nO9vlK4HLg0SQA24EPJrmK0ZH+Zcu23Q4837dISdKw1nzkX1UfrqqLqmpHVe1gFPivqqqPAQeBPUnOS3I5sBN4aNCKJUm9jXOq593A+4FXJFlMcuOZtq2qw8AB4AngvcBNVXVyqGIlScNYddinqm5YZf2O05ZvA27rV5YkaZqc3kGSGmT4S1KDDH9JapDhL0kNMvwlqUGGvyQ1yPCXpAYZ/tLZYAveDUyD8k5e0tngJN4NTIPyyF+SGmT4S1KDDH9JapDhL0kNMvwlqUGGvyQ1yPCXpAYZ/pLUoHFu43hHkuNJHl/W9rYkf53ksSS/k+T8ZetuSXIkyVNJrptS3ZKkHsY58r8TuP60tvuAK6vqq4G/AW4BSLIL2ANc0e3zjiRbBqtWkjSIVcO/qh4APnFa2/uq6kS3+AFge/d8N3BPVb1QVc8AR4CrBqxX0tnMOYo2jCHm9vkh4De755cy+mPwosWuTZKco2gD6fWFb5KfBU4A736xaYXN6gz77kuykGRhaWmpTxmSpDWaOPyT7AW+A/j+qnox4BeBy5Ztth14fqX9q2p/Vc1X1fzc3NykZUiSJjBR+Ce5HngL8Nqq+qdlqw4Ce5Kcl+RyYCfwUP8yJUlDWnXMP8ndwDXA1iSLwK2Mzu45D7gvCcAHqupHqupwkgPAE4yGg26qqpPTKl6SNJlVw7+qblih+Tc+x/a3Abf1KUqSNF1e4StJDTL8JalBhr8kNcjwl6QGGf6S1CDDX5IaZPhLUoMMf0lqkOEvSQ0y/CWpQYa/pOZs276t+RvKDHEzF0k6qxz76LFeN5XZDDeU8chfkhpk+EtSgwx/SWqQ4S9JDTL8JalBhr8kNWjV8E9yR5LjSR5f1nZhkvuSPN09XrBs3S1JjiR5Ksl10ypckjS5cY787wSuP63tZuBQVe0EDnXLJNkF7AGu6PZ5R5Itg1UrSVvodYFWkvX+F2wI49zA/YEkO05r3g1c0z2/C7gfeEvXfk9VvQA8k+QIcBXw/oHqldS6k/S6QAsG2H8TmHTM/+KqOgrQPV7UtV8KPLdsu8Wu7d9Jsi/JQpKFpaWlCcuQJE1i6C98V/o8VSttWFX7q2q+qubn5uYGLkOS9LlMGv7HklwC0D0e79oXgcuWbbcdeH7y8iRJ0zBp+B8E9nbP9wL3Lmvfk+S8JJcDO4GH+pUoSRraql/4Jrmb0Ze7W5MsArcCtwMHktwIPAu8HqCqDic5ADwBnABuqqqTU6pdmolt27eNZoGUNpFxzva54Qyrrj3D9rcBt/UpStpI+k7/65kl2oi8wleSGmT4S1KDDH9JapC3cZRa0U2LIIHhL7Wj77QIffbVhuOwjyQ1yPCXpAYZ/pLUIMNfkhpk+EtSgwx/SWqQ4a8Na9v2bb1v17dt+7b1/mdIG5Ln+WvD6j2hGnDsrc7GKa3EI39JapDhL0kNMvwlqUGGvyQ1qFf4J/mJJIeTPJ7k7iSfn+TCJPclebp7vGCoYiVJw5g4/JNcCvxXYL6qrgS2AHuAm4FDVbUTONQtS5I2kL7DPucAX5DkHOClwPPAbuCubv1dwOt6vockaWATh39VfRT4JeBZ4Cjwyap6H3BxVR3ttjkKXLTS/kn2JVlIsrC0tDRpGZKkCfQZ9rmA0VH+5cCXAl+Y5A3j7l9V+6tqvqrm5+bmJi1DkjSBPsM+3w48U1VLVfXPwHuA/wgcS3IJQPd4vH+ZkqQh9Qn/Z4Grk7w0oxuDXgs8CRwE9nbb7AXu7VeiJGloE8/tU1UPJvkt4IPACeBDwH7gZcCBJDcy+gPx+iEKlSQNp9fEblV1K3Drac0vMPoUIEnaoLzCV5IaZPhLUoMMf0lqkOGvqRjiLlySpsc7eWkqhrgLV+/9JZ2RR/6S1CDDX5Ia5LCPNrct+P2BtALDX5vbSfzuQVqBwz6S1CDDX5IaZPhLUoMMf0lqkOEvSQ0y/CWpQYa/JDXI8NeK+k7MJmlj63WRV5LzgXcCVwIF/BDwFPCbwA7g74Dvrar/2+d9NHu9J2brs6+kqet75P/LwHur6quAr2F0A/ebgUNVtRM41C1rTENMhbxt+7b1/mdI2uAmPvJP8sXAtwA/CFBVnwE+k2Q3cE232V3A/cBb+hTZkiGmQj721mOD1CJp8+pz5P8VwBLwv5N8KMk7k3whcHFVHQXoHi9aaeck+5IsJFlYWlrqUYYkaa36hP85wKuAX6uqrwM+zRqGeKpqf1XNV9X83NxcjzIkSWvVJ/wXgcWqerBb/i1GfwyOJbkEoHs83q9ESdLQJg7/qvoY8FySV3RN1wJPAAeBvV3bXuDeXhVKkgbXdz7/HwfeneRc4CPAmxj9QTmQ5EbgWeD1Pd9DkjaWAW4SdPGlF/OxxY8NVNDa9Qr/qnoEmF9h1bV9XleSNrQBbhK03mfleYWvJDXI8F/GC6wktcJ7+C6zaS6w8qblklZh+G9G3rRc0ioc9pGkBhn+ktQgw1+SGmT4S1KDDH9JapDhL0kNMvwlqUGe5z80L7CSdBYw/IfW9wKrPvtK0pgc9pGkBm2a8B9iUjZJasWmGfYZYlI2h1wktWLTHPlLksbXO/yTbEnyoSS/3y1fmOS+JE93jxf0L1OSNKQhjvzfDDy5bPlm4FBV7QQOdcuSpA2kV/gn2Q78F+Cdy5p3A3d1z+8CXtfnPSRJw+t75P+/gJ8GPrus7eKqOgrQPV600o5J9iVZSLKwtLTUswxJ0lpMHP5JvgM4XlUPT7J/Ve2vqvmqmp+bm5u0DEnSBPqc6vlNwGuTvAb4fOCLk/wf4FiSS6rqaJJLgONDFCpJm8o6TwUzcfhX1S3ALQBJrgF+sqrekORtwF7g9u7x3v5lStIms8732p7Gef63A69O8jTw6m5ZkrSBDHKFb1XdD9zfPf8H4NohXleSNB1e4StJDTL8JalBhr8kNcjwl6QGGf6S1CDDX5IatCFu5vLoY496Jy1JmqENEf4n/vmEd+GSpBly2EeSGmT4S1KDDH9JapDhL0kNMvwlqUGGvyQ1yPCXpAYZ/pLUIMNfkho0cfgnuSzJnyZ5MsnhJG/u2i9Mcl+Sp7vHC4YrV5I0hD5H/ieA/15VrwSuBm5Ksgu4GThUVTuBQ92yJGkDmTj8q+poVX2we/7/gCeBS4HdwF3dZncBr+tZoyRpYIOM+SfZAXwd8CBwcVUdhdEfCOCiId5DkjSc3rN6JnkZ8NvAf6uqT407NXOSfcC+vu8vSVq7Xkf+SV7CKPjfXVXv6ZqPJbmkW38JcHylfatqf1XNV9V8nxokSWvX52yfAL8BPFlV/2PZqoPA3u75XuDeycuTJE1Dn2GfbwJ+APhwkke6tp8BbgcOJLkReBZ4fa8KJUmDmzj8q+ovgDMN8F876etKkqbPK3wlqUGGvyQ1yPCXpAYZ/pLUIMNfkhpk+EtSgwx/SWqQ4S9JDTL8JalBhr8kNcjwl6QGGf6S1CDDX5IaZPhLUoMMf0lqkOEvSQ0y/CWpQYa/JDVoauGf5PokTyU5kuTmab2PJGntphL+SbYAvwr8Z2AXcEOSXdN4L0nS2k3ryP8q4EhVfaSqPgPcA+ye0ntJktYoVTX8iybfA1xfVT/cLf8A8I1V9WPLttkH7OsWrwQeH7yQs9NW4OPrXcQGYV+cYl+cYl+c8oqq+qJJdjxn6Eo6WaHt3/yVqar9wH6AJAtVNT+lWs4q9sUp9sUp9sUp9sUpSRYm3Xdawz6LwGXLlrcDz0/pvSRJazSt8P8rYGeSy5OcC+wBDk7pvSRJazSVYZ+qOpHkx4A/ArYAd1TV4c+xy/5p1HGWsi9OsS9OsS9OsS9OmbgvpvKFryRpY/MKX0lqkOEvSQ2aafivNuVDkmuSfDLJI93Pz82yvlkaZ/qLrj8eSXI4yZ/NusZZGeP34qeW/U48nuRkkgvXo9ZpG6MvviTJ7yV5tPu9eNN61DkLY/TFBUl+J8ljSR5KcuV61DltSe5IcjzJitdCZeRXun56LMmrxnrhqprJD6Mvfv8W+ArgXOBRYNdp21wD/P6salqvnzH74nzgCeDLuuWL1rvu9eqL07b/TuBP1rvudfy9+BngF7rnc8AngHPXu/Z16ou3Abd2z78KOLTedU+pL74FeBXw+BnWvwb4Q0bXV10NPDjO687yyN8pH04Zpy++D3hPVT0LUFXHZ1zjrKz19+IG4O6ZVDZ74/RFAV+UJMDLGIX/idmWORPj9MUu4BBAVf01sCPJxbMtc/qq6gFG/53PZDfwrhr5AHB+kktWe91Zhv+lwHPLlhe7ttP9h+4j7R8muWI2pc3cOH3xcuCCJPcneTjJG2dW3WyN+3tBkpcC1wO/PYO61sM4ffF24JWMLpr8MPDmqvrsbMqbqXH64lHguwGSXAV8OaMLSlsz9v9Dy01reoeVrDrlA/BB4Mur6h+TvAb4XWDntAtbB+P0xTnA1wPXAl8AvD/JB6rqb6Zd3IyN0xcv+k7gL6vqcx0Fnc3G6YvrgEeAbwO+ErgvyZ9X1aemXNusjdMXtwO/nOQRRn8IP8Tm/BS0mrX8P/SvZnnkv+qUD1X1qar6x+75HwAvSbJ1diXOzDjTXywC762qT1fVx4EHgK+ZUX2ztJapQPaweYd8YLy+eBOj4cCqqiPAM4zGuzebcfPiTVX1tcAbGX0H8szMKtw4JppOZ5bhv+qUD0m2dWOZL36M+zzgH2ZY46yMM/3FvcA3JzmnG+74RuDJGdc5C2NNBZLkS4BvZdQvm9U4ffEso0+DdOPbrwA+MtMqZ2OcvDi/Wwfww8ADm/AT0DgOAm/szvq5GvhkVR1dbaeZDfvUGaZ8SPIj3fpfB74H+NEkJ4D/D+yp7uvszWScvqiqJ5O8F3gM+CzwzqradNNej/l7AfBdwPuq6tPrVOrUjdkXPw/cmeTDjD7uv6X7ZLipjNkXrwTeleQkozPjbly3gqcoyd2MzoTcmmQRuBV4CfxrP/wBozN+jgD/xOjT4eqvuwmzVZK0Cq/wlaQGGf6S1CDDX5IaZPhLUoMMf0lqkOEvSQ0y/CWpQf8C6Jnkk+PWe5oAAAAASUVORK5CYII=\n",
=======
      "image/png": "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\n",
>>>>>>> database_files
      "text/plain": [
       "<Figure size 432x288 with 1 Axes>"
      ]
     },
     "metadata": {
      "needs_background": "light"
     },
     "output_type": "display_data"
    }
   ],
   "source": [
    "plt.hist(probs_0_df[\"0 Probability\"], color = 'green', edgecolor = 'black',\n",
    "         bins = 20)\n",
    "plt.xlim(left=0.5, right=1)\n",
    "plt.show()"
   ]
  },
  {
   "cell_type": "code",
<<<<<<< HEAD
   "execution_count": 56,
=======
   "execution_count": 57,
>>>>>>> database_files
   "id": "d30d5221",
   "metadata": {},
   "outputs": [
    {
     "data": {
<<<<<<< HEAD
      "image/png": "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\n",
=======
      "image/png": "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\n",
>>>>>>> database_files
      "text/plain": [
       "<Figure size 432x288 with 1 Axes>"
      ]
     },
     "metadata": {
      "needs_background": "light"
     },
     "output_type": "display_data"
    }
   ],
   "source": [
    "plt.hist(probs_1_df[\"1 Probability\"], color = 'green', edgecolor = 'black',\n",
    "         bins = 20)\n",
    "plt.xlim(left=0.5, right=1)\n",
    "plt.show()"
   ]
  },
  {
   "cell_type": "code",
   "execution_count": null,
   "id": "51f3d6cd",
   "metadata": {},
   "outputs": [],
   "source": []
  }
 ],
 "metadata": {
  "kernelspec": {
   "display_name": "mlenv",
   "language": "python",
   "name": "mlenv"
  },
  "language_info": {
   "codemirror_mode": {
    "name": "ipython",
    "version": 3
   },
   "file_extension": ".py",
   "mimetype": "text/x-python",
   "name": "python",
   "nbconvert_exporter": "python",
   "pygments_lexer": "ipython3",
<<<<<<< HEAD
   "version": "3.8.8"
=======
   "version": "3.7.10"
>>>>>>> database_files
  }
 },
 "nbformat": 4,
 "nbformat_minor": 5
}
