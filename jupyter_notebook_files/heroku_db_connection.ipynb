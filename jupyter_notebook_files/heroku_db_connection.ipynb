{
 "cells": [
  {
   "cell_type": "code",
   "execution_count": 14,
   "id": "392a6dc7",
   "metadata": {},
   "outputs": [],
   "source": [
    "# Import Dependencies\n",
    "import psycopg2\n",
    "#from config import config"
   ]
  },
  {
   "cell_type": "code",
   "execution_count": 15,
   "id": "d2d9df26",
   "metadata": {},
   "outputs": [],
   "source": [
    "#Create link to database\n",
    "\n",
    "\n",
    "conn = psycopg2.connect(\n",
    "    "
   ]
  },
  {
   "cell_type": "code",
   "execution_count": null,
   "id": "abb2093b",
   "metadata": {},
   "outputs": [],
   "source": []
  }
 ],
 "metadata": {
  "kernelspec": {
   "display_name": "PythonData",
   "language": "python",
   "name": "pythondata"
  },
  "language_info": {
   "codemirror_mode": {
    "name": "ipython",
    "version": 3
   },
   "file_extension": ".py",
   "mimetype": "text/x-python",
   "name": "python",
   "nbconvert_exporter": "python",
   "pygments_lexer": "ipython3",
   "version": "3.7.9"
  }
 },
 "nbformat": 4,
 "nbformat_minor": 5
}
