{
 "cells": [
  {
   "cell_type": "code",
   "execution_count": 1,
   "id": "cfc8cc1e",
   "metadata": {},
   "outputs": [],
   "source": [
    "# Import dependencies\n",
    "import pandas as pd\n",
    "\n",
    "%matplotlib inline\n",
    "import matplotlib.pyplot as plt"
   ]
  },
  {
   "cell_type": "code",
   "execution_count": 2,
   "id": "cfcbdb05",
   "metadata": {
    "scrolled": false
   },
   "outputs": [
    {
     "data": {
      "text/html": [
       "<div>\n",
       "<style scoped>\n",
       "    .dataframe tbody tr th:only-of-type {\n",
       "        vertical-align: middle;\n",
       "    }\n",
       "\n",
       "    .dataframe tbody tr th {\n",
       "        vertical-align: top;\n",
       "    }\n",
       "\n",
       "    .dataframe thead th {\n",
       "        text-align: right;\n",
       "    }\n",
       "</style>\n",
       "<table border=\"1\" class=\"dataframe\">\n",
       "  <thead>\n",
       "    <tr style=\"text-align: right;\">\n",
       "      <th></th>\n",
       "      <th>Rank</th>\n",
       "      <th>Name</th>\n",
       "      <th>Platform</th>\n",
       "      <th>Year</th>\n",
       "      <th>Genre</th>\n",
       "      <th>Publisher</th>\n",
       "      <th>NA_Sales</th>\n",
       "      <th>EU_Sales</th>\n",
       "      <th>JP_Sales</th>\n",
       "      <th>Other_Sales</th>\n",
       "      <th>Global_Sales</th>\n",
       "    </tr>\n",
       "  </thead>\n",
       "  <tbody>\n",
       "    <tr>\n",
       "      <th>0</th>\n",
       "      <td>1</td>\n",
       "      <td>Wii Sports</td>\n",
       "      <td>Wii</td>\n",
       "      <td>2006.0</td>\n",
       "      <td>Sports</td>\n",
       "      <td>Nintendo</td>\n",
       "      <td>41.49</td>\n",
       "      <td>29.02</td>\n",
       "      <td>3.77</td>\n",
       "      <td>8.46</td>\n",
       "      <td>82.74</td>\n",
       "    </tr>\n",
       "    <tr>\n",
       "      <th>1</th>\n",
       "      <td>2</td>\n",
       "      <td>Super Mario Bros.</td>\n",
       "      <td>NES</td>\n",
       "      <td>1985.0</td>\n",
       "      <td>Platform</td>\n",
       "      <td>Nintendo</td>\n",
       "      <td>29.08</td>\n",
       "      <td>3.58</td>\n",
       "      <td>6.81</td>\n",
       "      <td>0.77</td>\n",
       "      <td>40.24</td>\n",
       "    </tr>\n",
       "    <tr>\n",
       "      <th>2</th>\n",
       "      <td>3</td>\n",
       "      <td>Mario Kart Wii</td>\n",
       "      <td>Wii</td>\n",
       "      <td>2008.0</td>\n",
       "      <td>Racing</td>\n",
       "      <td>Nintendo</td>\n",
       "      <td>15.85</td>\n",
       "      <td>12.88</td>\n",
       "      <td>3.79</td>\n",
       "      <td>3.31</td>\n",
       "      <td>35.82</td>\n",
       "    </tr>\n",
       "    <tr>\n",
       "      <th>3</th>\n",
       "      <td>4</td>\n",
       "      <td>Wii Sports Resort</td>\n",
       "      <td>Wii</td>\n",
       "      <td>2009.0</td>\n",
       "      <td>Sports</td>\n",
       "      <td>Nintendo</td>\n",
       "      <td>15.75</td>\n",
       "      <td>11.01</td>\n",
       "      <td>3.28</td>\n",
       "      <td>2.96</td>\n",
       "      <td>33.00</td>\n",
       "    </tr>\n",
       "    <tr>\n",
       "      <th>4</th>\n",
       "      <td>5</td>\n",
       "      <td>Pokemon Red/Pokemon Blue</td>\n",
       "      <td>GB</td>\n",
       "      <td>1996.0</td>\n",
       "      <td>Role-Playing</td>\n",
       "      <td>Nintendo</td>\n",
       "      <td>11.27</td>\n",
       "      <td>8.89</td>\n",
       "      <td>10.22</td>\n",
       "      <td>1.00</td>\n",
       "      <td>31.37</td>\n",
       "    </tr>\n",
       "  </tbody>\n",
       "</table>\n",
       "</div>"
      ],
      "text/plain": [
       "   Rank                      Name Platform    Year         Genre Publisher  \\\n",
       "0     1                Wii Sports      Wii  2006.0        Sports  Nintendo   \n",
       "1     2         Super Mario Bros.      NES  1985.0      Platform  Nintendo   \n",
       "2     3            Mario Kart Wii      Wii  2008.0        Racing  Nintendo   \n",
       "3     4         Wii Sports Resort      Wii  2009.0        Sports  Nintendo   \n",
       "4     5  Pokemon Red/Pokemon Blue       GB  1996.0  Role-Playing  Nintendo   \n",
       "\n",
       "   NA_Sales  EU_Sales  JP_Sales  Other_Sales  Global_Sales  \n",
       "0     41.49     29.02      3.77         8.46         82.74  \n",
       "1     29.08      3.58      6.81         0.77         40.24  \n",
       "2     15.85     12.88      3.79         3.31         35.82  \n",
       "3     15.75     11.01      3.28         2.96         33.00  \n",
       "4     11.27      8.89     10.22         1.00         31.37  "
      ]
     },
     "execution_count": 2,
     "metadata": {},
     "output_type": "execute_result"
    }
   ],
   "source": [
    "path = \"resources/vgsales.csv\"\n",
    "vg_sales_df = pd.read_csv(path)\n",
    "vg_sales_df.head()"
   ]
  },
  {
   "cell_type": "code",
   "execution_count": 3,
   "id": "261a56e5",
   "metadata": {},
   "outputs": [
    {
     "data": {
      "text/html": [
       "<div>\n",
       "<style scoped>\n",
       "    .dataframe tbody tr th:only-of-type {\n",
       "        vertical-align: middle;\n",
       "    }\n",
       "\n",
       "    .dataframe tbody tr th {\n",
       "        vertical-align: top;\n",
       "    }\n",
       "\n",
       "    .dataframe thead th {\n",
       "        text-align: right;\n",
       "    }\n",
       "</style>\n",
       "<table border=\"1\" class=\"dataframe\">\n",
       "  <thead>\n",
       "    <tr style=\"text-align: right;\">\n",
       "      <th></th>\n",
       "      <th>Platform</th>\n",
       "      <th>Genre</th>\n",
       "      <th>Publisher</th>\n",
       "      <th>NA_Sales</th>\n",
       "      <th>EU_Sales</th>\n",
       "      <th>JP_Sales</th>\n",
       "      <th>Other_Sales</th>\n",
       "    </tr>\n",
       "    <tr>\n",
       "      <th>Rank</th>\n",
       "      <th></th>\n",
       "      <th></th>\n",
       "      <th></th>\n",
       "      <th></th>\n",
       "      <th></th>\n",
       "      <th></th>\n",
       "      <th></th>\n",
       "    </tr>\n",
       "  </thead>\n",
       "  <tbody>\n",
       "    <tr>\n",
       "      <th>1</th>\n",
       "      <td>Wii</td>\n",
       "      <td>Sports</td>\n",
       "      <td>Nintendo</td>\n",
       "      <td>41.49</td>\n",
       "      <td>29.02</td>\n",
       "      <td>3.77</td>\n",
       "      <td>8.46</td>\n",
       "    </tr>\n",
       "    <tr>\n",
       "      <th>2</th>\n",
       "      <td>NES</td>\n",
       "      <td>Platform</td>\n",
       "      <td>Nintendo</td>\n",
       "      <td>29.08</td>\n",
       "      <td>3.58</td>\n",
       "      <td>6.81</td>\n",
       "      <td>0.77</td>\n",
       "    </tr>\n",
       "    <tr>\n",
       "      <th>3</th>\n",
       "      <td>Wii</td>\n",
       "      <td>Racing</td>\n",
       "      <td>Nintendo</td>\n",
       "      <td>15.85</td>\n",
       "      <td>12.88</td>\n",
       "      <td>3.79</td>\n",
       "      <td>3.31</td>\n",
       "    </tr>\n",
       "    <tr>\n",
       "      <th>4</th>\n",
       "      <td>Wii</td>\n",
       "      <td>Sports</td>\n",
       "      <td>Nintendo</td>\n",
       "      <td>15.75</td>\n",
       "      <td>11.01</td>\n",
       "      <td>3.28</td>\n",
       "      <td>2.96</td>\n",
       "    </tr>\n",
       "    <tr>\n",
       "      <th>5</th>\n",
       "      <td>GB</td>\n",
       "      <td>Role-Playing</td>\n",
       "      <td>Nintendo</td>\n",
       "      <td>11.27</td>\n",
       "      <td>8.89</td>\n",
       "      <td>10.22</td>\n",
       "      <td>1.00</td>\n",
       "    </tr>\n",
       "  </tbody>\n",
       "</table>\n",
       "</div>"
      ],
      "text/plain": [
       "     Platform         Genre Publisher  NA_Sales  EU_Sales  JP_Sales  \\\n",
       "Rank                                                                  \n",
       "1         Wii        Sports  Nintendo     41.49     29.02      3.77   \n",
       "2         NES      Platform  Nintendo     29.08      3.58      6.81   \n",
       "3         Wii        Racing  Nintendo     15.85     12.88      3.79   \n",
       "4         Wii        Sports  Nintendo     15.75     11.01      3.28   \n",
       "5          GB  Role-Playing  Nintendo     11.27      8.89     10.22   \n",
       "\n",
       "      Other_Sales  \n",
       "Rank               \n",
       "1            8.46  \n",
       "2            0.77  \n",
       "3            3.31  \n",
       "4            2.96  \n",
       "5            1.00  "
      ]
     },
     "execution_count": 3,
     "metadata": {},
     "output_type": "execute_result"
    }
   ],
   "source": [
    "vg_sales_df.drop([\"Name\", \"Year\", \"Global_Sales\"], axis=1, inplace=True)\n",
    "vg_sales_df.set_index(\"Rank\", inplace=True)\n",
    "vg_sales_df.head()"
   ]
  },
  {
   "cell_type": "code",
   "execution_count": 4,
   "id": "f0c2ae06",
   "metadata": {
    "scrolled": true
   },
   "outputs": [
    {
     "data": {
      "text/plain": [
       "(16598, 7)"
      ]
     },
     "execution_count": 4,
     "metadata": {},
     "output_type": "execute_result"
    }
   ],
   "source": [
    "vg_sales_df.shape"
   ]
  },
  {
   "cell_type": "code",
   "execution_count": 5,
   "id": "2a238ea9",
   "metadata": {},
   "outputs": [
    {
     "name": "stdout",
     "output_type": "stream",
     "text": [
      "['Wii' 'NES' 'GB' 'DS' 'X360' 'PS3' 'PS2' 'SNES' 'GBA' '3DS' 'PS4' 'N64'\n",
      " 'PS' 'XB' 'PC' '2600' 'PSP' 'XOne' 'GC' 'WiiU' 'GEN' 'DC' 'PSV' 'SAT'\n",
      " 'SCD' 'WS' 'NG' 'TG16' '3DO' 'GG' 'PCFX']\n",
      "\n",
      "Platform has 31 unique values.\n"
     ]
    }
   ],
   "source": [
    "print(vg_sales_df[\"Platform\"].unique())\n",
    "print(f\"\\nPlatform has {len(vg_sales_df['Platform'].unique())} unique values.\")"
   ]
  },
  {
   "cell_type": "code",
   "execution_count": 6,
   "id": "394664f1",
   "metadata": {},
   "outputs": [
    {
     "name": "stdout",
     "output_type": "stream",
     "text": [
      "['Sports' 'Platform' 'Racing' 'Role-Playing' 'Puzzle' 'Misc' 'Shooter'\n",
      " 'Simulation' 'Action' 'Fighting' 'Adventure' 'Strategy']\n",
      "\n",
      "Platform has 12 unique values.\n"
     ]
    }
   ],
   "source": [
    "print(vg_sales_df[\"Genre\"].unique())\n",
    "print(f\"\\nPlatform has {len(vg_sales_df['Genre'].unique())} unique values.\")"
   ]
  },
  {
   "cell_type": "markdown",
   "id": "3f3b8614",
   "metadata": {},
   "source": [
    "### Don't include publisher as a feature."
   ]
  },
  {
   "cell_type": "code",
   "execution_count": 7,
   "id": "9e7c0234",
   "metadata": {},
   "outputs": [
    {
     "name": "stdout",
     "output_type": "stream",
     "text": [
      "Publisher has 579 unique values.\n"
     ]
    }
   ],
   "source": [
    "# print(vg_sales_df[\"Publisher\"].unique())\n",
    "print(f\"Publisher has {len(vg_sales_df['Publisher'].unique())} unique values.\")"
   ]
  },
  {
   "cell_type": "markdown",
   "id": "6dbfcc1b",
   "metadata": {},
   "source": [
    "## Investigate Games by Platform"
   ]
  },
  {
   "cell_type": "code",
   "execution_count": 8,
   "id": "4e230777",
   "metadata": {},
   "outputs": [
    {
     "data": {
      "image/png": "[encoded data removed]",
      "text/plain": [
       "<Figure size 576x360 with 1 Axes>"
      ]
     },
     "metadata": {
      "needs_background": "light"
     },
     "output_type": "display_data"
    }
   ],
   "source": [
    "# Generate value counts for Platforms\n",
    "platform_counts = vg_sales_df[\"Platform\"].value_counts()\n",
    "\n",
    "# Set plot size\n",
    "plt.figure(figsize=(8,5))\n",
    "\n",
    "# Bar plot to show platform information\n",
    "platform_counts.plot(kind=\"bar\", facecolor=\"blue\")\n",
    "\n",
    "# Set textual properties\n",
    "plt.title(\"Number of Games by Platform\")\n",
    "plt.ylabel(\"Number of Games\")\n",
    "plt.xlabel(\"Platform\")\n",
    "plt.xticks(rotation=90)\n",
    "\n",
    "# Show plot\n",
    "plt.show()"
   ]
  },
  {
   "cell_type": "markdown",
   "id": "321bb9c2",
   "metadata": {},
   "source": [
    "### Investigate sales by Platform"
   ]
  },
  {
   "cell_type": "code",
   "execution_count": 9,
   "id": "9db6fc54",
   "metadata": {},
   "outputs": [
    {
     "data": {
      "text/html": [
       "<div>\n",
       "<style scoped>\n",
       "    .dataframe tbody tr th:only-of-type {\n",
       "        vertical-align: middle;\n",
       "    }\n",
       "\n",
       "    .dataframe tbody tr th {\n",
       "        vertical-align: top;\n",
       "    }\n",
       "\n",
       "    .dataframe thead th {\n",
       "        text-align: right;\n",
       "    }\n",
       "</style>\n",
       "<table border=\"1\" class=\"dataframe\">\n",
       "  <thead>\n",
       "    <tr style=\"text-align: right;\">\n",
       "      <th></th>\n",
       "      <th>Platform</th>\n",
       "      <th>NA_Sales</th>\n",
       "      <th>EU_Sales</th>\n",
       "      <th>JP_Sales</th>\n",
       "      <th>Other_Sales</th>\n",
       "    </tr>\n",
       "    <tr>\n",
       "      <th>Rank</th>\n",
       "      <th></th>\n",
       "      <th></th>\n",
       "      <th></th>\n",
       "      <th></th>\n",
       "      <th></th>\n",
       "    </tr>\n",
       "  </thead>\n",
       "  <tbody>\n",
       "    <tr>\n",
       "      <th>1</th>\n",
       "      <td>Wii</td>\n",
       "      <td>41.49</td>\n",
       "      <td>29.02</td>\n",
       "      <td>3.77</td>\n",
       "      <td>8.46</td>\n",
       "    </tr>\n",
       "    <tr>\n",
       "      <th>2</th>\n",
       "      <td>NES</td>\n",
       "      <td>29.08</td>\n",
       "      <td>3.58</td>\n",
       "      <td>6.81</td>\n",
       "      <td>0.77</td>\n",
       "    </tr>\n",
       "    <tr>\n",
       "      <th>3</th>\n",
       "      <td>Wii</td>\n",
       "      <td>15.85</td>\n",
       "      <td>12.88</td>\n",
       "      <td>3.79</td>\n",
       "      <td>3.31</td>\n",
       "    </tr>\n",
       "    <tr>\n",
       "      <th>4</th>\n",
       "      <td>Wii</td>\n",
       "      <td>15.75</td>\n",
       "      <td>11.01</td>\n",
       "      <td>3.28</td>\n",
       "      <td>2.96</td>\n",
       "    </tr>\n",
       "    <tr>\n",
       "      <th>5</th>\n",
       "      <td>GB</td>\n",
       "      <td>11.27</td>\n",
       "      <td>8.89</td>\n",
       "      <td>10.22</td>\n",
       "      <td>1.00</td>\n",
       "    </tr>\n",
       "  </tbody>\n",
       "</table>\n",
       "</div>"
      ],
      "text/plain": [
       "     Platform  NA_Sales  EU_Sales  JP_Sales  Other_Sales\n",
       "Rank                                                    \n",
       "1         Wii     41.49     29.02      3.77         8.46\n",
       "2         NES     29.08      3.58      6.81         0.77\n",
       "3         Wii     15.85     12.88      3.79         3.31\n",
       "4         Wii     15.75     11.01      3.28         2.96\n",
       "5          GB     11.27      8.89     10.22         1.00"
      ]
     },
     "execution_count": 9,
     "metadata": {},
     "output_type": "execute_result"
    }
   ],
   "source": [
    "platform_and_sales_df = vg_sales_df[[\"Platform\",\"NA_Sales\",\"EU_Sales\",\"JP_Sales\",\"Other_Sales\"]]\n",
    "platform_and_sales_df.head()"
   ]
  },
  {
   "cell_type": "code",
   "execution_count": 10,
   "id": "92ed1a07",
   "metadata": {},
   "outputs": [
    {
     "data": {
      "text/html": [
       "<div>\n",
       "<style scoped>\n",
       "    .dataframe tbody tr th:only-of-type {\n",
       "        vertical-align: middle;\n",
       "    }\n",
       "\n",
       "    .dataframe tbody tr th {\n",
       "        vertical-align: top;\n",
       "    }\n",
       "\n",
       "    .dataframe thead th {\n",
       "        text-align: right;\n",
       "    }\n",
       "</style>\n",
       "<table border=\"1\" class=\"dataframe\">\n",
       "  <thead>\n",
       "    <tr style=\"text-align: right;\">\n",
       "      <th></th>\n",
       "      <th>NA_Sales</th>\n",
       "      <th>EU_Sales</th>\n",
       "      <th>JP_Sales</th>\n",
       "      <th>Other_Sales</th>\n",
       "    </tr>\n",
       "    <tr>\n",
       "      <th>Platform</th>\n",
       "      <th></th>\n",
       "      <th></th>\n",
       "      <th></th>\n",
       "      <th></th>\n",
       "    </tr>\n",
       "  </thead>\n",
       "  <tbody>\n",
       "    <tr>\n",
       "      <th>2600</th>\n",
       "      <td>90.60</td>\n",
       "      <td>5.47</td>\n",
       "      <td>0.00</td>\n",
       "      <td>0.91</td>\n",
       "    </tr>\n",
       "    <tr>\n",
       "      <th>3DO</th>\n",
       "      <td>0.00</td>\n",
       "      <td>0.00</td>\n",
       "      <td>0.10</td>\n",
       "      <td>0.00</td>\n",
       "    </tr>\n",
       "    <tr>\n",
       "      <th>3DS</th>\n",
       "      <td>78.87</td>\n",
       "      <td>58.52</td>\n",
       "      <td>97.35</td>\n",
       "      <td>12.63</td>\n",
       "    </tr>\n",
       "    <tr>\n",
       "      <th>DC</th>\n",
       "      <td>5.43</td>\n",
       "      <td>1.69</td>\n",
       "      <td>8.56</td>\n",
       "      <td>0.27</td>\n",
       "    </tr>\n",
       "    <tr>\n",
       "      <th>DS</th>\n",
       "      <td>390.71</td>\n",
       "      <td>194.65</td>\n",
       "      <td>175.57</td>\n",
       "      <td>60.53</td>\n",
       "    </tr>\n",
       "  </tbody>\n",
       "</table>\n",
       "</div>"
      ],
      "text/plain": [
       "          NA_Sales  EU_Sales  JP_Sales  Other_Sales\n",
       "Platform                                           \n",
       "2600         90.60      5.47      0.00         0.91\n",
       "3DO           0.00      0.00      0.10         0.00\n",
       "3DS          78.87     58.52     97.35        12.63\n",
       "DC            5.43      1.69      8.56         0.27\n",
       "DS          390.71    194.65    175.57        60.53"
      ]
     },
     "execution_count": 10,
     "metadata": {},
     "output_type": "execute_result"
    }
   ],
   "source": [
    "sales_by_platform = platform_and_sales_df.groupby([\"Platform\"]).sum()\n",
    "sales_by_platform.head()"
   ]
  },
  {
   "cell_type": "code",
   "execution_count": 11,
   "id": "2d5e213a",
   "metadata": {},
   "outputs": [
    {
     "data": {
      "image/png": "[encoded data removed]",
      "text/plain": [
       "<Figure size 576x360 with 1 Axes>"
      ]
     },
     "metadata": {
      "needs_background": "light"
     },
     "output_type": "display_data"
    }
   ],
   "source": [
    "# Get NA sales by platform\n",
    "NA_sales_by_platform = sales_by_platform[\"NA_Sales\"]\n",
    "\n",
    "# Set plot size\n",
    "plt.figure(figsize=(8,5))\n",
    "\n",
    "# Bar plot to show platform information\n",
    "NA_sales_by_platform.plot(kind=\"bar\", facecolor=\"blue\")\n",
    "\n",
    "# Set textual properties\n",
    "plt.title(\"NA Sales by Platform\")\n",
    "plt.ylabel(\"NA Sales ($ Millions)\")\n",
    "plt.xlabel(\"Platform\")\n",
    "plt.xticks(rotation=90)\n",
    "\n",
    "# Show plot\n",
    "plt.show()"
   ]
  },
  {
   "cell_type": "code",
   "execution_count": 12,
   "id": "b0e296a7",
   "metadata": {},
   "outputs": [
    {
     "data": {
      "image/png": "[encoded data removed]",
      "text/plain": [
       "<Figure size 576x360 with 1 Axes>"
      ]
     },
     "metadata": {
      "needs_background": "light"
     },
     "output_type": "display_data"
    }
   ],
   "source": [
    "# Get NA sales by platform\n",
    "EU_sales_by_platform = sales_by_platform[\"EU_Sales\"]\n",
    "\n",
    "# Set plot size\n",
    "plt.figure(figsize=(8,5))\n",
    "\n",
    "# Bar plot to show platform information\n",
    "EU_sales_by_platform.plot(kind=\"bar\", facecolor=\"blue\")\n",
    "\n",
    "# Set textual properties\n",
    "plt.title(\"EU Sales by Platform\")\n",
    "plt.ylabel(\"EU Sales ($ Millions)\")\n",
    "plt.xlabel(\"Platform\")\n",
    "plt.xticks(rotation=90)\n",
    "\n",
    "# Show plot\n",
    "plt.show()"
   ]
  },
  {
   "cell_type": "code",
   "execution_count": 13,
   "id": "e0c08238",
   "metadata": {},
   "outputs": [
    {
     "data": {
      "image/png": "[encoded data removed]",
      "text/plain": [
       "<Figure size 576x360 with 1 Axes>"
      ]
     },
     "metadata": {
      "needs_background": "light"
     },
     "output_type": "display_data"
    }
   ],
   "source": [
    "# Get NA sales by platform\n",
    "JP_sales_by_platform = sales_by_platform[\"JP_Sales\"]\n",
    "\n",
    "# Set plot size\n",
    "plt.figure(figsize=(8,5))\n",
    "\n",
    "# Bar plot to show platform information\n",
    "JP_sales_by_platform.plot(kind=\"bar\", facecolor=\"blue\")\n",
    "\n",
    "# Set textual properties\n",
    "plt.title(\"JP Sales by Platform\")\n",
    "plt.ylabel(\"JP Sales ($ Millions)\")\n",
    "plt.xlabel(\"Platform\")\n",
    "plt.xticks(rotation=90)\n",
    "\n",
    "# Show plot\n",
    "plt.show()"
   ]
  },
  {
   "cell_type": "code",
   "execution_count": 14,
   "id": "d2db81a8",
   "metadata": {},
   "outputs": [
    {
     "data": {
      "image/png": "[encoded data removed]",
      "text/plain": [
       "<Figure size 576x360 with 1 Axes>"
      ]
     },
     "metadata": {
      "needs_background": "light"
     },
     "output_type": "display_data"
    }
   ],
   "source": [
    "# Get NA sales by platform\n",
    "Other_sales_by_platform = sales_by_platform[\"Other_Sales\"]\n",
    "\n",
    "# Set plot size\n",
    "plt.figure(figsize=(8,5))\n",
    "\n",
    "# Bar plot to show platform information\n",
    "Other_sales_by_platform.plot(kind=\"bar\", facecolor=\"blue\")\n",
    "\n",
    "# Set textual properties\n",
    "plt.title(\"Other Sales by Platform\")\n",
    "plt.ylabel(\"Other Sales ($ Millions)\")\n",
    "plt.xlabel(\"Platform\")\n",
    "plt.xticks(rotation=90)\n",
    "\n",
    "# Show plot\n",
    "plt.show()"
   ]
  },
  {
   "cell_type": "markdown",
   "id": "64a23aff",
   "metadata": {},
   "source": [
    "# Investigate Games by Genre"
   ]
  },
  {
   "cell_type": "code",
   "execution_count": 15,
   "id": "39da161a",
   "metadata": {},
   "outputs": [
    {
     "data": {
      "image/png": "[encoded data removed]",
      "text/plain": [
       "<Figure size 576x360 with 1 Axes>"
      ]
     },
     "metadata": {
      "needs_background": "light"
     },
     "output_type": "display_data"
    }
   ],
   "source": [
    "# Generate value counts for Platforms\n",
    "genre_counts = vg_sales_df[\"Genre\"].value_counts()\n",
    "\n",
    "# Set plot size\n",
    "plt.figure(figsize=(8,5))\n",
    "\n",
    "# Bar plot to show platform information\n",
    "genre_counts.plot(kind=\"bar\", facecolor=\"blue\")\n",
    "\n",
    "# Set textual properties\n",
    "plt.title(\"Number of Games by Genre\")\n",
    "plt.ylabel(\"Number of Games\")\n",
    "plt.xlabel(\"Genre\")\n",
    "plt.xticks(rotation=90)\n",
    "\n",
    "# Show plot\n",
    "plt.show()"
   ]
  },
  {
   "cell_type": "markdown",
   "id": "17307bb3",
   "metadata": {},
   "source": [
    "### Investigate Sales by Genre"
   ]
  },
  {
   "cell_type": "code",
   "execution_count": 16,
   "id": "fe6da0aa",
   "metadata": {},
   "outputs": [
    {
     "data": {
      "text/html": [
       "<div>\n",
       "<style scoped>\n",
       "    .dataframe tbody tr th:only-of-type {\n",
       "        vertical-align: middle;\n",
       "    }\n",
       "\n",
       "    .dataframe tbody tr th {\n",
       "        vertical-align: top;\n",
       "    }\n",
       "\n",
       "    .dataframe thead th {\n",
       "        text-align: right;\n",
       "    }\n",
       "</style>\n",
       "<table border=\"1\" class=\"dataframe\">\n",
       "  <thead>\n",
       "    <tr style=\"text-align: right;\">\n",
       "      <th></th>\n",
       "      <th>Genre</th>\n",
       "      <th>NA_Sales</th>\n",
       "      <th>EU_Sales</th>\n",
       "      <th>JP_Sales</th>\n",
       "      <th>Other_Sales</th>\n",
       "    </tr>\n",
       "    <tr>\n",
       "      <th>Rank</th>\n",
       "      <th></th>\n",
       "      <th></th>\n",
       "      <th></th>\n",
       "      <th></th>\n",
       "      <th></th>\n",
       "    </tr>\n",
       "  </thead>\n",
       "  <tbody>\n",
       "    <tr>\n",
       "      <th>1</th>\n",
       "      <td>Sports</td>\n",
       "      <td>41.49</td>\n",
       "      <td>29.02</td>\n",
       "      <td>3.77</td>\n",
       "      <td>8.46</td>\n",
       "    </tr>\n",
       "    <tr>\n",
       "      <th>2</th>\n",
       "      <td>Platform</td>\n",
       "      <td>29.08</td>\n",
       "      <td>3.58</td>\n",
       "      <td>6.81</td>\n",
       "      <td>0.77</td>\n",
       "    </tr>\n",
       "    <tr>\n",
       "      <th>3</th>\n",
       "      <td>Racing</td>\n",
       "      <td>15.85</td>\n",
       "      <td>12.88</td>\n",
       "      <td>3.79</td>\n",
       "      <td>3.31</td>\n",
       "    </tr>\n",
       "    <tr>\n",
       "      <th>4</th>\n",
       "      <td>Sports</td>\n",
       "      <td>15.75</td>\n",
       "      <td>11.01</td>\n",
       "      <td>3.28</td>\n",
       "      <td>2.96</td>\n",
       "    </tr>\n",
       "    <tr>\n",
       "      <th>5</th>\n",
       "      <td>Role-Playing</td>\n",
       "      <td>11.27</td>\n",
       "      <td>8.89</td>\n",
       "      <td>10.22</td>\n",
       "      <td>1.00</td>\n",
       "    </tr>\n",
       "  </tbody>\n",
       "</table>\n",
       "</div>"
      ],
      "text/plain": [
       "             Genre  NA_Sales  EU_Sales  JP_Sales  Other_Sales\n",
       "Rank                                                         \n",
       "1           Sports     41.49     29.02      3.77         8.46\n",
       "2         Platform     29.08      3.58      6.81         0.77\n",
       "3           Racing     15.85     12.88      3.79         3.31\n",
       "4           Sports     15.75     11.01      3.28         2.96\n",
       "5     Role-Playing     11.27      8.89     10.22         1.00"
      ]
     },
     "execution_count": 16,
     "metadata": {},
     "output_type": "execute_result"
    }
   ],
   "source": [
    "genre_and_sales_df = vg_sales_df[[\"Genre\",\"NA_Sales\",\"EU_Sales\",\"JP_Sales\",\"Other_Sales\"]]\n",
    "genre_and_sales_df.head()"
   ]
  },
  {
   "cell_type": "code",
   "execution_count": 17,
   "id": "2a1b21f1",
   "metadata": {},
   "outputs": [
    {
     "data": {
      "text/html": [
       "<div>\n",
       "<style scoped>\n",
       "    .dataframe tbody tr th:only-of-type {\n",
       "        vertical-align: middle;\n",
       "    }\n",
       "\n",
       "    .dataframe tbody tr th {\n",
       "        vertical-align: top;\n",
       "    }\n",
       "\n",
       "    .dataframe thead th {\n",
       "        text-align: right;\n",
       "    }\n",
       "</style>\n",
       "<table border=\"1\" class=\"dataframe\">\n",
       "  <thead>\n",
       "    <tr style=\"text-align: right;\">\n",
       "      <th></th>\n",
       "      <th>NA_Sales</th>\n",
       "      <th>EU_Sales</th>\n",
       "      <th>JP_Sales</th>\n",
       "      <th>Other_Sales</th>\n",
       "    </tr>\n",
       "    <tr>\n",
       "      <th>Genre</th>\n",
       "      <th></th>\n",
       "      <th></th>\n",
       "      <th></th>\n",
       "      <th></th>\n",
       "    </tr>\n",
       "  </thead>\n",
       "  <tbody>\n",
       "    <tr>\n",
       "      <th>Action</th>\n",
       "      <td>877.83</td>\n",
       "      <td>525.00</td>\n",
       "      <td>159.95</td>\n",
       "      <td>187.38</td>\n",
       "    </tr>\n",
       "    <tr>\n",
       "      <th>Adventure</th>\n",
       "      <td>105.80</td>\n",
       "      <td>64.13</td>\n",
       "      <td>52.07</td>\n",
       "      <td>16.81</td>\n",
       "    </tr>\n",
       "    <tr>\n",
       "      <th>Fighting</th>\n",
       "      <td>223.59</td>\n",
       "      <td>101.32</td>\n",
       "      <td>87.35</td>\n",
       "      <td>36.68</td>\n",
       "    </tr>\n",
       "    <tr>\n",
       "      <th>Misc</th>\n",
       "      <td>410.24</td>\n",
       "      <td>215.98</td>\n",
       "      <td>107.76</td>\n",
       "      <td>75.32</td>\n",
       "    </tr>\n",
       "    <tr>\n",
       "      <th>Platform</th>\n",
       "      <td>447.05</td>\n",
       "      <td>201.63</td>\n",
       "      <td>130.77</td>\n",
       "      <td>51.59</td>\n",
       "    </tr>\n",
       "  </tbody>\n",
       "</table>\n",
       "</div>"
      ],
      "text/plain": [
       "           NA_Sales  EU_Sales  JP_Sales  Other_Sales\n",
       "Genre                                               \n",
       "Action       877.83    525.00    159.95       187.38\n",
       "Adventure    105.80     64.13     52.07        16.81\n",
       "Fighting     223.59    101.32     87.35        36.68\n",
       "Misc         410.24    215.98    107.76        75.32\n",
       "Platform     447.05    201.63    130.77        51.59"
      ]
     },
     "execution_count": 17,
     "metadata": {},
     "output_type": "execute_result"
    }
   ],
   "source": [
    "sales_by_genre = genre_and_sales_df.groupby([\"Genre\"]).sum()\n",
    "sales_by_genre.head()"
   ]
  },
  {
   "cell_type": "code",
   "execution_count": 18,
   "id": "51b6d565",
   "metadata": {},
   "outputs": [
    {
     "data": {
      "image/png": "[encoded data removed]",
      "text/plain": [
       "<Figure size 576x360 with 1 Axes>"
      ]
     },
     "metadata": {
      "needs_background": "light"
     },
     "output_type": "display_data"
    }
   ],
   "source": [
    "# Get NA sales by genre\n",
    "NA_sales_by_genre = sales_by_genre[\"NA_Sales\"]\n",
    "\n",
    "# Set plot size\n",
    "plt.figure(figsize=(8,5))\n",
    "\n",
    "# Bar plot to show platform information\n",
    "NA_sales_by_genre.plot(kind=\"bar\", facecolor=\"blue\")\n",
    "\n",
    "# Set textual properties\n",
    "plt.title(\"NA Sales by Genre\")\n",
    "plt.ylabel(\"NA Sales ($ Millions)\")\n",
    "plt.xlabel(\"Genre\")\n",
    "plt.xticks(rotation=90)\n",
    "\n",
    "# Show plot\n",
    "plt.show()"
   ]
  },
  {
   "cell_type": "code",
   "execution_count": 19,
   "id": "ec60bf48",
   "metadata": {},
   "outputs": [
    {
     "data": {
      "image/png": "[encoded data removed]",
      "text/plain": [
       "<Figure size 576x360 with 1 Axes>"
      ]
     },
     "metadata": {
      "needs_background": "light"
     },
     "output_type": "display_data"
    }
   ],
   "source": [
    "# Get EU sales by genre\n",
    "EU_sales_by_genre = sales_by_genre[\"EU_Sales\"]\n",
    "\n",
    "# Set plot size\n",
    "plt.figure(figsize=(8,5))\n",
    "\n",
    "# Bar plot to show platform information\n",
    "EU_sales_by_genre.plot(kind=\"bar\", facecolor=\"blue\")\n",
    "\n",
    "# Set textual properties\n",
    "plt.title(\"EU Sales by Genre\")\n",
    "plt.ylabel(\"EU Sales ($ Millions)\")\n",
    "plt.xlabel(\"Genre\")\n",
    "plt.xticks(rotation=90)\n",
    "\n",
    "# Show plot\n",
    "plt.show()"
   ]
  },
  {
   "cell_type": "code",
   "execution_count": 20,
   "id": "16819327",
   "metadata": {},
   "outputs": [
    {
     "data": {
      "image/png": "[encoded data removed]",
      "text/plain": [
       "<Figure size 576x360 with 1 Axes>"
      ]
     },
     "metadata": {
      "needs_background": "light"
     },
     "output_type": "display_data"
    }
   ],
   "source": [
    "# Get JP sales by platform\n",
    "JP_sales_by_genre = sales_by_genre[\"JP_Sales\"]\n",
    "\n",
    "# Set plot size\n",
    "plt.figure(figsize=(8,5))\n",
    "\n",
    "# Bar plot to show platform information\n",
    "JP_sales_by_genre.plot(kind=\"bar\", facecolor=\"blue\")\n",
    "\n",
    "# Set textual properties\n",
    "plt.title(\"JP Sales by Genre\")\n",
    "plt.ylabel(\"JP Sales ($ Millions)\")\n",
    "plt.xlabel(\"Genre\")\n",
    "plt.xticks(rotation=90)\n",
    "\n",
    "# Show plot\n",
    "plt.show()"
   ]
  },
  {
   "cell_type": "code",
   "execution_count": 21,
   "id": "89d72bdd",
   "metadata": {},
   "outputs": [
    {
     "data": {
      "image/png": "[encoded data removed]",
      "text/plain": [
       "<Figure size 576x360 with 1 Axes>"
      ]
     },
     "metadata": {
      "needs_background": "light"
     },
     "output_type": "display_data"
    }
   ],
   "source": [
    "# Get Other sales by platform\n",
    "Other_sales_by_genre = sales_by_genre[\"Other_Sales\"]\n",
    "\n",
    "# Set plot size\n",
    "plt.figure(figsize=(8,5))\n",
    "\n",
    "# Bar plot to show platform information\n",
    "Other_sales_by_genre.plot(kind=\"bar\", facecolor=\"blue\")\n",
    "\n",
    "# Set textual properties\n",
    "plt.title(\"Other Sales by Genre\")\n",
    "plt.ylabel(\"Other Sales ($ Millions)\")\n",
    "plt.xlabel(\"Genre\")\n",
    "plt.xticks(rotation=90)\n",
    "\n",
    "# Show plot\n",
    "plt.show()"
   ]
  },
  {
   "cell_type": "code",
   "execution_count": null,
   "id": "523116e0",
   "metadata": {},
   "outputs": [],
   "source": []
  }
 ],
 "metadata": {
  "kernelspec": {
   "display_name": "ml_tf",
   "language": "python",
   "name": "ml_tf"
  },
  "language_info": {
   "codemirror_mode": {
    "name": "ipython",
    "version": 3
   },
   "file_extension": ".py",
   "mimetype": "text/x-python",
   "name": "python",
   "nbconvert_exporter": "python",
   "pygments_lexer": "ipython3",
   "version": "3.8.8"
  }
 },
 "nbformat": 4,
 "nbformat_minor": 5
}
