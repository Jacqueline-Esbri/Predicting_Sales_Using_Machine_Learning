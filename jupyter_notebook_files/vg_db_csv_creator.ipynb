{
 "cells": [
  {
   "cell_type": "code",
   "execution_count": 1,
   "id": "34053676",
   "metadata": {},
   "outputs": [],
   "source": [
    "# Import Dependencies\n",
    "import pandas as pd"
   ]
  },
  {
   "cell_type": "code",
   "execution_count": 2,
   "id": "6f5d72ee",
   "metadata": {},
   "outputs": [
    {
     "data": {
      "text/html": [
       "<div>\n",
       "<style scoped>\n",
       "    .dataframe tbody tr th:only-of-type {\n",
       "        vertical-align: middle;\n",
       "    }\n",
       "\n",
       "    .dataframe tbody tr th {\n",
       "        vertical-align: top;\n",
       "    }\n",
       "\n",
       "    .dataframe thead th {\n",
       "        text-align: right;\n",
       "    }\n",
       "</style>\n",
       "<table border=\"1\" class=\"dataframe\">\n",
       "  <thead>\n",
       "    <tr style=\"text-align: right;\">\n",
       "      <th></th>\n",
       "      <th>Rank</th>\n",
       "      <th>Name</th>\n",
       "      <th>Platform</th>\n",
       "      <th>Year</th>\n",
       "      <th>Genre</th>\n",
       "      <th>Publisher</th>\n",
       "      <th>NA_Sales</th>\n",
       "      <th>EU_Sales</th>\n",
       "      <th>JP_Sales</th>\n",
       "      <th>Other_Sales</th>\n",
       "      <th>Global_Sales</th>\n",
       "    </tr>\n",
       "  </thead>\n",
       "  <tbody>\n",
       "    <tr>\n",
       "      <th>0</th>\n",
       "      <td>1</td>\n",
       "      <td>Wii Sports</td>\n",
       "      <td>Wii</td>\n",
       "      <td>2006.0</td>\n",
       "      <td>Sports</td>\n",
       "      <td>Nintendo</td>\n",
       "      <td>41.49</td>\n",
       "      <td>29.02</td>\n",
       "      <td>3.77</td>\n",
       "      <td>8.46</td>\n",
       "      <td>82.74</td>\n",
       "    </tr>\n",
       "    <tr>\n",
       "      <th>1</th>\n",
       "      <td>2</td>\n",
       "      <td>Super Mario Bros.</td>\n",
       "      <td>NES</td>\n",
       "      <td>1985.0</td>\n",
       "      <td>Platform</td>\n",
       "      <td>Nintendo</td>\n",
       "      <td>29.08</td>\n",
       "      <td>3.58</td>\n",
       "      <td>6.81</td>\n",
       "      <td>0.77</td>\n",
       "      <td>40.24</td>\n",
       "    </tr>\n",
       "    <tr>\n",
       "      <th>2</th>\n",
       "      <td>3</td>\n",
       "      <td>Mario Kart Wii</td>\n",
       "      <td>Wii</td>\n",
       "      <td>2008.0</td>\n",
       "      <td>Racing</td>\n",
       "      <td>Nintendo</td>\n",
       "      <td>15.85</td>\n",
       "      <td>12.88</td>\n",
       "      <td>3.79</td>\n",
       "      <td>3.31</td>\n",
       "      <td>35.82</td>\n",
       "    </tr>\n",
       "    <tr>\n",
       "      <th>3</th>\n",
       "      <td>4</td>\n",
       "      <td>Wii Sports Resort</td>\n",
       "      <td>Wii</td>\n",
       "      <td>2009.0</td>\n",
       "      <td>Sports</td>\n",
       "      <td>Nintendo</td>\n",
       "      <td>15.75</td>\n",
       "      <td>11.01</td>\n",
       "      <td>3.28</td>\n",
       "      <td>2.96</td>\n",
       "      <td>33.00</td>\n",
       "    </tr>\n",
       "    <tr>\n",
       "      <th>4</th>\n",
       "      <td>5</td>\n",
       "      <td>Pokemon Red/Pokemon Blue</td>\n",
       "      <td>GB</td>\n",
       "      <td>1996.0</td>\n",
       "      <td>Role-Playing</td>\n",
       "      <td>Nintendo</td>\n",
       "      <td>11.27</td>\n",
       "      <td>8.89</td>\n",
       "      <td>10.22</td>\n",
       "      <td>1.00</td>\n",
       "      <td>31.37</td>\n",
       "    </tr>\n",
       "  </tbody>\n",
       "</table>\n",
       "</div>"
      ],
      "text/plain": [
       "   Rank                      Name Platform    Year         Genre Publisher  \\\n",
       "0     1                Wii Sports      Wii  2006.0        Sports  Nintendo   \n",
       "1     2         Super Mario Bros.      NES  1985.0      Platform  Nintendo   \n",
       "2     3            Mario Kart Wii      Wii  2008.0        Racing  Nintendo   \n",
       "3     4         Wii Sports Resort      Wii  2009.0        Sports  Nintendo   \n",
       "4     5  Pokemon Red/Pokemon Blue       GB  1996.0  Role-Playing  Nintendo   \n",
       "\n",
       "   NA_Sales  EU_Sales  JP_Sales  Other_Sales  Global_Sales  \n",
       "0     41.49     29.02      3.77         8.46         82.74  \n",
       "1     29.08      3.58      6.81         0.77         40.24  \n",
       "2     15.85     12.88      3.79         3.31         35.82  \n",
       "3     15.75     11.01      3.28         2.96         33.00  \n",
       "4     11.27      8.89     10.22         1.00         31.37  "
      ]
     },
     "execution_count": 2,
     "metadata": {},
     "output_type": "execute_result"
    }
   ],
   "source": [
    "# Import Data\n",
    "path = \"resources/vgsales.csv\"\n",
    "vg_sales_df = pd.read_csv(path)\n",
    "vg_sales_df.head()"
   ]
  },
  {
   "cell_type": "code",
   "execution_count": 3,
   "id": "1d3c1fab",
   "metadata": {},
   "outputs": [
    {
     "data": {
      "text/html": [
       "<div>\n",
       "<style scoped>\n",
       "    .dataframe tbody tr th:only-of-type {\n",
       "        vertical-align: middle;\n",
       "    }\n",
       "\n",
       "    .dataframe tbody tr th {\n",
       "        vertical-align: top;\n",
       "    }\n",
       "\n",
       "    .dataframe thead th {\n",
       "        text-align: right;\n",
       "    }\n",
       "</style>\n",
       "<table border=\"1\" class=\"dataframe\">\n",
       "  <thead>\n",
       "    <tr style=\"text-align: right;\">\n",
       "      <th></th>\n",
       "      <th>Rank</th>\n",
       "      <th>Name</th>\n",
       "      <th>Platform</th>\n",
       "      <th>Genre</th>\n",
       "      <th>Publisher</th>\n",
       "      <th>NA_Sales</th>\n",
       "      <th>EU_Sales</th>\n",
       "      <th>JP_Sales</th>\n",
       "    </tr>\n",
       "  </thead>\n",
       "  <tbody>\n",
       "    <tr>\n",
       "      <th>0</th>\n",
       "      <td>1</td>\n",
       "      <td>Wii Sports</td>\n",
       "      <td>Wii</td>\n",
       "      <td>Sports</td>\n",
       "      <td>Nintendo</td>\n",
       "      <td>41.49</td>\n",
       "      <td>29.02</td>\n",
       "      <td>3.77</td>\n",
       "    </tr>\n",
       "    <tr>\n",
       "      <th>1</th>\n",
       "      <td>2</td>\n",
       "      <td>Super Mario Bros.</td>\n",
       "      <td>NES</td>\n",
       "      <td>Platform</td>\n",
       "      <td>Nintendo</td>\n",
       "      <td>29.08</td>\n",
       "      <td>3.58</td>\n",
       "      <td>6.81</td>\n",
       "    </tr>\n",
       "    <tr>\n",
       "      <th>2</th>\n",
       "      <td>3</td>\n",
       "      <td>Mario Kart Wii</td>\n",
       "      <td>Wii</td>\n",
       "      <td>Racing</td>\n",
       "      <td>Nintendo</td>\n",
       "      <td>15.85</td>\n",
       "      <td>12.88</td>\n",
       "      <td>3.79</td>\n",
       "    </tr>\n",
       "    <tr>\n",
       "      <th>3</th>\n",
       "      <td>4</td>\n",
       "      <td>Wii Sports Resort</td>\n",
       "      <td>Wii</td>\n",
       "      <td>Sports</td>\n",
       "      <td>Nintendo</td>\n",
       "      <td>15.75</td>\n",
       "      <td>11.01</td>\n",
       "      <td>3.28</td>\n",
       "    </tr>\n",
       "    <tr>\n",
       "      <th>4</th>\n",
       "      <td>5</td>\n",
       "      <td>Pokemon Red/Pokemon Blue</td>\n",
       "      <td>GB</td>\n",
       "      <td>Role-Playing</td>\n",
       "      <td>Nintendo</td>\n",
       "      <td>11.27</td>\n",
       "      <td>8.89</td>\n",
       "      <td>10.22</td>\n",
       "    </tr>\n",
       "  </tbody>\n",
       "</table>\n",
       "</div>"
      ],
      "text/plain": [
       "   Rank                      Name Platform         Genre Publisher  NA_Sales  \\\n",
       "0     1                Wii Sports      Wii        Sports  Nintendo     41.49   \n",
       "1     2         Super Mario Bros.      NES      Platform  Nintendo     29.08   \n",
       "2     3            Mario Kart Wii      Wii        Racing  Nintendo     15.85   \n",
       "3     4         Wii Sports Resort      Wii        Sports  Nintendo     15.75   \n",
       "4     5  Pokemon Red/Pokemon Blue       GB  Role-Playing  Nintendo     11.27   \n",
       "\n",
       "   EU_Sales  JP_Sales  \n",
       "0     29.02      3.77  \n",
       "1      3.58      6.81  \n",
       "2     12.88      3.79  \n",
       "3     11.01      3.28  \n",
       "4      8.89     10.22  "
      ]
     },
     "execution_count": 3,
     "metadata": {},
     "output_type": "execute_result"
    }
   ],
   "source": [
    "# Drop columns\n",
    "vg_sales_df.drop([\"Year\", \"Other_Sales\", \"Global_Sales\"], axis=1, inplace=True)\n",
    "#vg_sales_df.set_index(\"Rank\", inplace=True)\n",
    "vg_sales_df.head()"
   ]
  },
  {
   "cell_type": "code",
   "execution_count": 4,
   "id": "0f959c3d",
   "metadata": {},
   "outputs": [
    {
     "data": {
      "text/plain": [
       "Rank         9800\n",
       "Name         9800\n",
       "Platform     9800\n",
       "Genre        9800\n",
       "Publisher    9774\n",
       "NA_Sales     9800\n",
       "EU_Sales     9800\n",
       "JP_Sales     9800\n",
       "dtype: int64"
      ]
     },
     "execution_count": 4,
     "metadata": {},
     "output_type": "execute_result"
    }
   ],
   "source": [
    "# Reduce number of rows\n",
    "# Heroku database has a row limit of 10,000 rows\n",
    "# Exploratory analysis of the dataset reveals dropping tail end of data will not skew results\n",
    "# Due to database constraints, drop the last 6,798 rows to leave 9,800 rows\n",
    "# Publisher will be dropped since we are not using that information and there are null values\n",
    "#n = 6798\n",
    "vg_sales_df = vg_sales_df.sample(n=9800)\n",
    "#vg_sales_df.drop(vg_sales_df.tail(n).index, inplace=True)\n",
    "vg_sales_df.count()"
   ]
  },
  {
   "cell_type": "code",
   "execution_count": 5,
   "id": "bbbf2681",
   "metadata": {},
   "outputs": [
    {
     "data": {
      "text/html": [
       "<div>\n",
       "<style scoped>\n",
       "    .dataframe tbody tr th:only-of-type {\n",
       "        vertical-align: middle;\n",
       "    }\n",
       "\n",
       "    .dataframe tbody tr th {\n",
       "        vertical-align: top;\n",
       "    }\n",
       "\n",
       "    .dataframe thead th {\n",
       "        text-align: right;\n",
       "    }\n",
       "</style>\n",
       "<table border=\"1\" class=\"dataframe\">\n",
       "  <thead>\n",
       "    <tr style=\"text-align: right;\">\n",
       "      <th></th>\n",
       "      <th>Rank</th>\n",
       "      <th>Name</th>\n",
       "      <th>Platform</th>\n",
       "      <th>Genre</th>\n",
       "      <th>NA_Sales</th>\n",
       "      <th>EU_Sales</th>\n",
       "      <th>JP_Sales</th>\n",
       "    </tr>\n",
       "  </thead>\n",
       "  <tbody>\n",
       "    <tr>\n",
       "      <th>6084</th>\n",
       "      <td>6086</td>\n",
       "      <td>Dragon Quest: Shounen Yangus to Fushigi no Dun...</td>\n",
       "      <td>PS2</td>\n",
       "      <td>Role-Playing</td>\n",
       "      <td>0.00</td>\n",
       "      <td>0.00</td>\n",
       "      <td>0.29</td>\n",
       "    </tr>\n",
       "    <tr>\n",
       "      <th>6817</th>\n",
       "      <td>6819</td>\n",
       "      <td>Pure Futbol</td>\n",
       "      <td>PS3</td>\n",
       "      <td>Sports</td>\n",
       "      <td>0.06</td>\n",
       "      <td>0.13</td>\n",
       "      <td>0.00</td>\n",
       "    </tr>\n",
       "    <tr>\n",
       "      <th>8106</th>\n",
       "      <td>8108</td>\n",
       "      <td>Ridge Racer Unbounded</td>\n",
       "      <td>PS3</td>\n",
       "      <td>Racing</td>\n",
       "      <td>0.05</td>\n",
       "      <td>0.10</td>\n",
       "      <td>0.00</td>\n",
       "    </tr>\n",
       "    <tr>\n",
       "      <th>7036</th>\n",
       "      <td>7038</td>\n",
       "      <td>Colony Wars: Vengeance</td>\n",
       "      <td>PS</td>\n",
       "      <td>Simulation</td>\n",
       "      <td>0.13</td>\n",
       "      <td>0.09</td>\n",
       "      <td>0.00</td>\n",
       "    </tr>\n",
       "    <tr>\n",
       "      <th>14542</th>\n",
       "      <td>14545</td>\n",
       "      <td>Disney's Aladdin</td>\n",
       "      <td>GBA</td>\n",
       "      <td>Platform</td>\n",
       "      <td>0.02</td>\n",
       "      <td>0.01</td>\n",
       "      <td>0.00</td>\n",
       "    </tr>\n",
       "  </tbody>\n",
       "</table>\n",
       "</div>"
      ],
      "text/plain": [
       "        Rank                                               Name Platform  \\\n",
       "6084    6086  Dragon Quest: Shounen Yangus to Fushigi no Dun...      PS2   \n",
       "6817    6819                                        Pure Futbol      PS3   \n",
       "8106    8108                              Ridge Racer Unbounded      PS3   \n",
       "7036    7038                             Colony Wars: Vengeance       PS   \n",
       "14542  14545                                   Disney's Aladdin      GBA   \n",
       "\n",
       "              Genre  NA_Sales  EU_Sales  JP_Sales  \n",
       "6084   Role-Playing      0.00      0.00      0.29  \n",
       "6817         Sports      0.06      0.13      0.00  \n",
       "8106         Racing      0.05      0.10      0.00  \n",
       "7036     Simulation      0.13      0.09      0.00  \n",
       "14542      Platform      0.02      0.01      0.00  "
      ]
     },
     "execution_count": 5,
     "metadata": {},
     "output_type": "execute_result"
    }
   ],
   "source": [
    "# Drop Publisher\n",
    "vg_sales_df.drop([\"Publisher\"], axis=1, inplace=True)\n",
    "vg_sales_df.head()"
   ]
  },
  {
   "cell_type": "code",
   "execution_count": 6,
   "id": "0cc340e4",
   "metadata": {},
   "outputs": [
    {
     "name": "stdout",
     "output_type": "stream",
     "text": [
      "Rank        9800\n",
      "Name        7549\n",
      "Platform      29\n",
      "Genre         12\n",
      "NA_Sales     338\n",
      "EU_Sales     246\n",
      "JP_Sales     194\n",
      "dtype: int64\n"
     ]
    }
   ],
   "source": [
    "# Get counts of unique values from dataframe\n",
    "# Returns total of 373 values across Platform, Genre, and Publisher\n",
    "# Will add an additonal \"N/A\" value for null values in Publisher\n",
    "print(vg_sales_df.nunique())"
   ]
  },
  {
   "cell_type": "markdown",
   "id": "6dac451f",
   "metadata": {},
   "source": [
    "### Game Platform"
   ]
  },
  {
   "cell_type": "code",
   "execution_count": 7,
   "id": "cb8e8b54",
   "metadata": {},
   "outputs": [
    {
     "data": {
      "text/plain": [
       "0"
      ]
     },
     "execution_count": 7,
     "metadata": {},
     "output_type": "execute_result"
    }
   ],
   "source": [
    "# Check for null values\n",
    "vg_sales_df[\"Platform\"].isnull().sum()"
   ]
  },
  {
   "cell_type": "code",
   "execution_count": 8,
   "id": "7dc35f57",
   "metadata": {},
   "outputs": [
    {
     "name": "stdout",
     "output_type": "stream",
     "text": [
      "['PS2', 'PS3', 'PS', 'GBA', 'DS', 'PSV', 'PSP', 'X360', '3DS', 'GC', 'Wii', 'SAT', 'PS4', 'PC', 'XB', 'N64', 'SNES', 'XOne', 'GB', '2600', 'WiiU', 'NG', 'GEN', 'NES', 'DC', 'PCFX', '3DO', 'SCD', 'WS']\n"
     ]
    }
   ],
   "source": [
    "# Get unique Platform values and convert into a list\n",
    "platforms = vg_sales_df[\"Platform\"].unique().tolist()\n",
    "print(platforms)"
   ]
  },
  {
   "cell_type": "code",
   "execution_count": 9,
   "id": "3640d354",
   "metadata": {},
   "outputs": [
    {
     "data": {
      "text/plain": [
       "0      PS2\n",
       "1      PS3\n",
       "2       PS\n",
       "3      GBA\n",
       "4       DS\n",
       "5      PSV\n",
       "6      PSP\n",
       "7     X360\n",
       "8      3DS\n",
       "9       GC\n",
       "10     Wii\n",
       "11     SAT\n",
       "12     PS4\n",
       "13      PC\n",
       "14      XB\n",
       "15     N64\n",
       "16    SNES\n",
       "17    XOne\n",
       "18      GB\n",
       "19    2600\n",
       "20    WiiU\n",
       "21      NG\n",
       "22     GEN\n",
       "23     NES\n",
       "24      DC\n",
       "25    PCFX\n",
       "26     3DO\n",
       "27     SCD\n",
       "28      WS\n",
       "dtype: object"
      ]
     },
     "execution_count": 9,
     "metadata": {},
     "output_type": "execute_result"
    }
   ],
   "source": [
    "# Convert platform list to series\n",
    "platform_series = pd.Series(platforms)\n",
    "platform_series"
   ]
  },
  {
   "cell_type": "code",
   "execution_count": 10,
   "id": "6fd88a47",
   "metadata": {},
   "outputs": [],
   "source": [
    "# Convert platform_series into a csv file\n",
    "platform_series.to_csv('resources/vg_platforms.csv')"
   ]
  },
  {
   "cell_type": "markdown",
   "id": "b1a5d8ba",
   "metadata": {},
   "source": [
    "### Genre"
   ]
  },
  {
   "cell_type": "code",
   "execution_count": 11,
   "id": "2de3305b",
   "metadata": {},
   "outputs": [
    {
     "data": {
      "text/plain": [
       "0"
      ]
     },
     "execution_count": 11,
     "metadata": {},
     "output_type": "execute_result"
    }
   ],
   "source": [
    "# Check for null values\n",
    "vg_sales_df[\"Genre\"].isnull().sum()"
   ]
  },
  {
   "cell_type": "code",
   "execution_count": 12,
   "id": "5b9e069e",
   "metadata": {},
   "outputs": [
    {
     "name": "stdout",
     "output_type": "stream",
     "text": [
      "['Role-Playing', 'Sports', 'Racing', 'Simulation', 'Platform', 'Adventure', 'Action', 'Misc', 'Shooter', 'Strategy', 'Fighting', 'Puzzle']\n"
     ]
    }
   ],
   "source": [
    "# Get unique Genre values and convert into a list\n",
    "genres = vg_sales_df[\"Genre\"].unique().tolist()\n",
    "print(genres)"
   ]
  },
  {
   "cell_type": "code",
   "execution_count": 13,
   "id": "6798f58b",
   "metadata": {},
   "outputs": [
    {
     "data": {
      "text/plain": [
       "0     Role-Playing\n",
       "1           Sports\n",
       "2           Racing\n",
       "3       Simulation\n",
       "4         Platform\n",
       "5        Adventure\n",
       "6           Action\n",
       "7             Misc\n",
       "8          Shooter\n",
       "9         Strategy\n",
       "10        Fighting\n",
       "11          Puzzle\n",
       "dtype: object"
      ]
     },
     "execution_count": 13,
     "metadata": {},
     "output_type": "execute_result"
    }
   ],
   "source": [
    "# Convert genres list to series\n",
    "genres_series = pd.Series(genres)\n",
    "genres_series"
   ]
  },
  {
   "cell_type": "code",
   "execution_count": 14,
   "id": "ef1428a8",
   "metadata": {},
   "outputs": [],
   "source": [
    "# Convert genre_series into a csv file\n",
    "genres_series.to_csv('resources/vg_genres.csv')"
   ]
  },
  {
   "cell_type": "markdown",
   "id": "98524d27",
   "metadata": {},
   "source": [
    "### Games"
   ]
  },
  {
   "cell_type": "code",
   "execution_count": 15,
   "id": "fd003ccc",
   "metadata": {},
   "outputs": [
    {
     "data": {
      "text/html": [
       "<div>\n",
       "<style scoped>\n",
       "    .dataframe tbody tr th:only-of-type {\n",
       "        vertical-align: middle;\n",
       "    }\n",
       "\n",
       "    .dataframe tbody tr th {\n",
       "        vertical-align: top;\n",
       "    }\n",
       "\n",
       "    .dataframe thead th {\n",
       "        text-align: right;\n",
       "    }\n",
       "</style>\n",
       "<table border=\"1\" class=\"dataframe\">\n",
       "  <thead>\n",
       "    <tr style=\"text-align: right;\">\n",
       "      <th></th>\n",
       "      <th>Rank</th>\n",
       "      <th>Name</th>\n",
       "      <th>Platform</th>\n",
       "      <th>Genre</th>\n",
       "      <th>NA_Sales</th>\n",
       "      <th>EU_Sales</th>\n",
       "      <th>JP_Sales</th>\n",
       "    </tr>\n",
       "  </thead>\n",
       "  <tbody>\n",
       "    <tr>\n",
       "      <th>6084</th>\n",
       "      <td>6086</td>\n",
       "      <td>Dragon Quest: Shounen Yangus to Fushigi no Dun...</td>\n",
       "      <td>0</td>\n",
       "      <td>Role-Playing</td>\n",
       "      <td>0.00</td>\n",
       "      <td>0.00</td>\n",
       "      <td>0.29</td>\n",
       "    </tr>\n",
       "    <tr>\n",
       "      <th>6817</th>\n",
       "      <td>6819</td>\n",
       "      <td>Pure Futbol</td>\n",
       "      <td>1</td>\n",
       "      <td>Sports</td>\n",
       "      <td>0.06</td>\n",
       "      <td>0.13</td>\n",
       "      <td>0.00</td>\n",
       "    </tr>\n",
       "    <tr>\n",
       "      <th>8106</th>\n",
       "      <td>8108</td>\n",
       "      <td>Ridge Racer Unbounded</td>\n",
       "      <td>1</td>\n",
       "      <td>Racing</td>\n",
       "      <td>0.05</td>\n",
       "      <td>0.10</td>\n",
       "      <td>0.00</td>\n",
       "    </tr>\n",
       "    <tr>\n",
       "      <th>7036</th>\n",
       "      <td>7038</td>\n",
       "      <td>Colony Wars: Vengeance</td>\n",
       "      <td>2</td>\n",
       "      <td>Simulation</td>\n",
       "      <td>0.13</td>\n",
       "      <td>0.09</td>\n",
       "      <td>0.00</td>\n",
       "    </tr>\n",
       "    <tr>\n",
       "      <th>14542</th>\n",
       "      <td>14545</td>\n",
       "      <td>Disney's Aladdin</td>\n",
       "      <td>3</td>\n",
       "      <td>Platform</td>\n",
       "      <td>0.02</td>\n",
       "      <td>0.01</td>\n",
       "      <td>0.00</td>\n",
       "    </tr>\n",
       "  </tbody>\n",
       "</table>\n",
       "</div>"
      ],
      "text/plain": [
       "        Rank                                               Name  Platform  \\\n",
       "6084    6086  Dragon Quest: Shounen Yangus to Fushigi no Dun...         0   \n",
       "6817    6819                                        Pure Futbol         1   \n",
       "8106    8108                              Ridge Racer Unbounded         1   \n",
       "7036    7038                             Colony Wars: Vengeance         2   \n",
       "14542  14545                                   Disney's Aladdin         3   \n",
       "\n",
       "              Genre  NA_Sales  EU_Sales  JP_Sales  \n",
       "6084   Role-Playing      0.00      0.00      0.29  \n",
       "6817         Sports      0.06      0.13      0.00  \n",
       "8106         Racing      0.05      0.10      0.00  \n",
       "7036     Simulation      0.13      0.09      0.00  \n",
       "14542      Platform      0.02      0.01      0.00  "
      ]
     },
     "execution_count": 15,
     "metadata": {},
     "output_type": "execute_result"
    }
   ],
   "source": [
    "# Loop thru vg_sales_df & replace Platform Names with Platform ID's\n",
    "for vg_platform in range(len(vg_sales_df)):\n",
    "    for series_id, series_name in platform_series.items():\n",
    "        vg_platform_name = vg_sales_df[\"Platform\"].iloc[vg_platform]\n",
    "        if vg_platform_name == series_name:\n",
    "            vg_sales_df[\"Platform\"] = vg_sales_df[\"Platform\"].replace([vg_platform_name], series_id)\n",
    "\n",
    "#Inspect Dataframe\n",
    "vg_sales_df.head()        "
   ]
  },
  {
   "cell_type": "code",
   "execution_count": 16,
   "id": "f48c8005",
   "metadata": {},
   "outputs": [
    {
     "data": {
      "text/html": [
       "<div>\n",
       "<style scoped>\n",
       "    .dataframe tbody tr th:only-of-type {\n",
       "        vertical-align: middle;\n",
       "    }\n",
       "\n",
       "    .dataframe tbody tr th {\n",
       "        vertical-align: top;\n",
       "    }\n",
       "\n",
       "    .dataframe thead th {\n",
       "        text-align: right;\n",
       "    }\n",
       "</style>\n",
       "<table border=\"1\" class=\"dataframe\">\n",
       "  <thead>\n",
       "    <tr style=\"text-align: right;\">\n",
       "      <th></th>\n",
       "      <th>Rank</th>\n",
       "      <th>Name</th>\n",
       "      <th>Platform</th>\n",
       "      <th>Genre</th>\n",
       "      <th>NA_Sales</th>\n",
       "      <th>EU_Sales</th>\n",
       "      <th>JP_Sales</th>\n",
       "    </tr>\n",
       "  </thead>\n",
       "  <tbody>\n",
       "    <tr>\n",
       "      <th>6084</th>\n",
       "      <td>6086</td>\n",
       "      <td>Dragon Quest: Shounen Yangus to Fushigi no Dun...</td>\n",
       "      <td>0</td>\n",
       "      <td>0</td>\n",
       "      <td>0.00</td>\n",
       "      <td>0.00</td>\n",
       "      <td>0.29</td>\n",
       "    </tr>\n",
       "    <tr>\n",
       "      <th>6817</th>\n",
       "      <td>6819</td>\n",
       "      <td>Pure Futbol</td>\n",
       "      <td>1</td>\n",
       "      <td>1</td>\n",
       "      <td>0.06</td>\n",
       "      <td>0.13</td>\n",
       "      <td>0.00</td>\n",
       "    </tr>\n",
       "    <tr>\n",
       "      <th>8106</th>\n",
       "      <td>8108</td>\n",
       "      <td>Ridge Racer Unbounded</td>\n",
       "      <td>1</td>\n",
       "      <td>2</td>\n",
       "      <td>0.05</td>\n",
       "      <td>0.10</td>\n",
       "      <td>0.00</td>\n",
       "    </tr>\n",
       "    <tr>\n",
       "      <th>7036</th>\n",
       "      <td>7038</td>\n",
       "      <td>Colony Wars: Vengeance</td>\n",
       "      <td>2</td>\n",
       "      <td>3</td>\n",
       "      <td>0.13</td>\n",
       "      <td>0.09</td>\n",
       "      <td>0.00</td>\n",
       "    </tr>\n",
       "    <tr>\n",
       "      <th>14542</th>\n",
       "      <td>14545</td>\n",
       "      <td>Disney's Aladdin</td>\n",
       "      <td>3</td>\n",
       "      <td>4</td>\n",
       "      <td>0.02</td>\n",
       "      <td>0.01</td>\n",
       "      <td>0.00</td>\n",
       "    </tr>\n",
       "  </tbody>\n",
       "</table>\n",
       "</div>"
      ],
      "text/plain": [
       "        Rank                                               Name  Platform  \\\n",
       "6084    6086  Dragon Quest: Shounen Yangus to Fushigi no Dun...         0   \n",
       "6817    6819                                        Pure Futbol         1   \n",
       "8106    8108                              Ridge Racer Unbounded         1   \n",
       "7036    7038                             Colony Wars: Vengeance         2   \n",
       "14542  14545                                   Disney's Aladdin         3   \n",
       "\n",
       "       Genre  NA_Sales  EU_Sales  JP_Sales  \n",
       "6084       0      0.00      0.00      0.29  \n",
       "6817       1      0.06      0.13      0.00  \n",
       "8106       2      0.05      0.10      0.00  \n",
       "7036       3      0.13      0.09      0.00  \n",
       "14542      4      0.02      0.01      0.00  "
      ]
     },
     "execution_count": 16,
     "metadata": {},
     "output_type": "execute_result"
    }
   ],
   "source": [
    "# Loop thru vg_sales_df & replace Genre Names with Genre ID's\n",
    "for vg_genre in range(len(vg_sales_df)):\n",
    "    for series_id, series_name in genres_series.items():\n",
    "        df_genre = vg_sales_df[\"Genre\"].iloc[vg_genre]\n",
    "        if  df_genre == series_name:\n",
    "            vg_sales_df[\"Genre\"] = vg_sales_df[\"Genre\"].replace([df_genre], series_id)\n",
    "            \n",
    "#Inspect Dataframe\n",
    "vg_sales_df.head()  "
   ]
  },
  {
   "cell_type": "code",
   "execution_count": null,
   "id": "0e889046",
   "metadata": {},
   "outputs": [],
   "source": []
  },
  {
   "cell_type": "code",
   "execution_count": 17,
   "id": "8b1e91eb",
   "metadata": {},
   "outputs": [],
   "source": [
    "#Save vg_sales dataframe to csv\n",
    "vg_sales_df.to_csv('resources/vg_games.csv')"
   ]
  },
  {
   "cell_type": "code",
   "execution_count": null,
   "id": "f84bb494",
   "metadata": {},
   "outputs": [],
   "source": []
  }
 ],
 "metadata": {
  "kernelspec": {
   "display_name": "mlenv",
   "language": "python",
   "name": "mlenv"
  },
  "language_info": {
   "codemirror_mode": {
    "name": "ipython",
    "version": 3
   },
   "file_extension": ".py",
   "mimetype": "text/x-python",
   "name": "python",
   "nbconvert_exporter": "python",
   "pygments_lexer": "ipython3",
   "version": "3.8.8"
  }
 },
 "nbformat": 4,
 "nbformat_minor": 5
}
