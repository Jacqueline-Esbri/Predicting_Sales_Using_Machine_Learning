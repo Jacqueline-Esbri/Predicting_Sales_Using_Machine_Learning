{
 "cells": [
  {
   "cell_type": "code",
   "execution_count": 1,
   "metadata": {},
   "outputs": [
    {
     "ename": "ModuleNotFoundError",
     "evalue": "No module named 'tensorflow'",
     "output_type": "error",
     "traceback": [
      "\u001b[1;31m---------------------------------------------------------------------------\u001b[0m",
      "\u001b[1;31mModuleNotFoundError\u001b[0m                       Traceback (most recent call last)",
      "\u001b[1;32m<ipython-input-1-00352e19909a>\u001b[0m in \u001b[0;36m<module>\u001b[1;34m\u001b[0m\n\u001b[0;32m      3\u001b[0m \u001b[1;32mimport\u001b[0m \u001b[0mmatplotlib\u001b[0m \u001b[1;32mas\u001b[0m \u001b[0mplt\u001b[0m\u001b[1;33m\u001b[0m\u001b[1;33m\u001b[0m\u001b[0m\n\u001b[0;32m      4\u001b[0m \u001b[1;32mimport\u001b[0m \u001b[0msklearn\u001b[0m \u001b[1;32mas\u001b[0m \u001b[0mskl\u001b[0m\u001b[1;33m\u001b[0m\u001b[1;33m\u001b[0m\u001b[0m\n\u001b[1;32m----> 5\u001b[1;33m \u001b[1;32mimport\u001b[0m \u001b[0mtensorflow\u001b[0m \u001b[1;32mas\u001b[0m \u001b[0mtf\u001b[0m\u001b[1;33m\u001b[0m\u001b[1;33m\u001b[0m\u001b[0m\n\u001b[0m",
      "\u001b[1;31mModuleNotFoundError\u001b[0m: No module named 'tensorflow'"
     ]
    }
   ],
   "source": [
    "# Import dependencies\n",
    "import pandas as pd\n",
    "import matplotlib as plt\n",
    "import sklearn as skl\n",
    "import tensorflow as tf"
   ]
  },
  {
   "cell_type": "code",
   "execution_count": 2,
<<<<<<< HEAD
=======
   "id": "a51da87d",
>>>>>>> 1e886ec5af497006d2eb7c422e8eb1259269449a
   "metadata": {},
   "outputs": [],
   "source": [
    "# Load existing base station site data\n",
    "path_existing = \"resources/existing-commercial-wireless-telecommunication-services-facilities-in-san-francisco.csv\"\n",
    "existing_sites_df = pd.read_csv(path_existing)\n",
    "\n",
    "# Load proposed base station site data\n",
    "path_proposed = \"resources/proposed-commercial-wireless-telecommunication-services-facilities-in-san-francisco.csv\"\n",
    "proposed_sites_df = pd.read_csv(path_proposed)"
   ]
  },
  {
   "cell_type": "markdown",
   "id": "2b3a5f8f",
   "metadata": {},
   "source": [
    "## Existing Sites"
   ]
  },
  {
   "cell_type": "code",
<<<<<<< HEAD
   "execution_count": 3,
=======
   "execution_count": 2,
   "id": "e9a7fc59",
>>>>>>> 1e886ec5af497006d2eb7c422e8eb1259269449a
   "metadata": {},
   "outputs": [
    {
     "ename": "NameError",
     "evalue": "name 'existing_sites_df' is not defined",
     "output_type": "error",
     "traceback": [
      "\u001b[1;31m---------------------------------------------------------------------------\u001b[0m",
      "\u001b[1;31mNameError\u001b[0m                                 Traceback (most recent call last)",
      "\u001b[1;32m<ipython-input-2-59dae713b5c8>\u001b[0m in \u001b[0;36m<module>\u001b[1;34m\u001b[0m\n\u001b[1;32m----> 1\u001b[1;33m \u001b[0mexisting_sites_df\u001b[0m\u001b[1;33m.\u001b[0m\u001b[0mshow\u001b[0m\u001b[1;33m(\u001b[0m\u001b[1;33m)\u001b[0m\u001b[1;33m\u001b[0m\u001b[1;33m\u001b[0m\u001b[0m\n\u001b[0m",
      "\u001b[1;31mNameError\u001b[0m: name 'existing_sites_df' is not defined"
     ]
    }
   ],
   "source": [
    "existing_sites_df.show()"
   ]
  },
  {
   "cell_type": "code",
   "execution_count": 4,
   "id": "ed1ab7ea",
   "metadata": {},
   "outputs": [
    {
     "data": {
      "text/plain": [
       "2"
      ]
     },
     "execution_count": 4,
     "metadata": {},
     "output_type": "execute_result"
    }
   ],
   "source": [
    "# Count NaN values for Frequency Range\n",
    "existing_sites_df[\"Radio Frequency Range (Megahertz)\"].isnull().sum()"
   ]
  },
  {
   "cell_type": "code",
   "execution_count": 5,
   "id": "ebcc8a10",
   "metadata": {},
   "outputs": [
    {
     "data": {
      "text/plain": [
       "318"
      ]
     },
     "execution_count": 3,
     "metadata": {},
     "output_type": "execute_result"
    }
   ],
   "source": [
    "# Count NaN values for Output Power\n",
    "existing_sites_df[\"Power Output of Equipment (Watts)\"].isnull().sum()"
   ]
  },
  {
   "cell_type": "code",
   "execution_count": 6,
   "id": "e53cf13a",
   "metadata": {},
   "outputs": [
    {
     "data": {
      "text/plain": [
       "127"
      ]
     },
     "execution_count": 6,
     "metadata": {},
     "output_type": "execute_result"
    }
   ],
   "source": [
    "# Count NaN values for Tower Height\n",
    "existing_sites_df[\"Height to Top of Antenna\"].isnull().sum()"
   ]
  },
  {
   "cell_type": "markdown",
   "id": "5521a679",
   "metadata": {},
   "source": [
    "## Proposed Sites"
   ]
  },
  {
   "cell_type": "code",
   "execution_count": 4,
   "metadata": {},
   "outputs": [
    {
     "data": {
      "text/html": [
       "<div>\n",
       "<style scoped>\n",
       "    .dataframe tbody tr th:only-of-type {\n",
       "        vertical-align: middle;\n",
       "    }\n",
       "\n",
       "    .dataframe tbody tr th {\n",
       "        vertical-align: top;\n",
       "    }\n",
       "\n",
       "    .dataframe thead th {\n",
       "        text-align: right;\n",
       "    }\n",
       "</style>\n",
       "<table border=\"1\" class=\"dataframe\">\n",
       "  <thead>\n",
       "    <tr style=\"text-align: right;\">\n",
       "      <th></th>\n",
       "      <th>Carrier</th>\n",
       "      <th>ID</th>\n",
       "      <th>Search Ring Name ID</th>\n",
       "      <th>Block</th>\n",
       "      <th>Lot</th>\n",
       "      <th>Zoning District</th>\n",
       "      <th>Hight and Bulk District</th>\n",
       "      <th>Type of Building</th>\n",
       "      <th>Preference (1-7)</th>\n",
       "      <th>Type of Consumer Services</th>\n",
       "      <th>...</th>\n",
       "      <th>Number of Antennas</th>\n",
       "      <th>Location of BTS</th>\n",
       "      <th>Type of Technology</th>\n",
       "      <th>Radio Frequency Range (Megahertz)</th>\n",
       "      <th>Power Output of Equipment (Watts)</th>\n",
       "      <th>Height to Top of Antenna</th>\n",
       "      <th>Name of Community Liason</th>\n",
       "      <th>Phone Number of Community Liason</th>\n",
       "      <th>Comments</th>\n",
       "      <th>Location 1</th>\n",
       "    </tr>\n",
       "  </thead>\n",
       "  <tbody>\n",
       "    <tr>\n",
       "      <th>0</th>\n",
       "      <td>AT&amp;T</td>\n",
       "      <td>CCL01402</td>\n",
       "      <td>SF TRANSBAY TRANSIT CENTER</td>\n",
       "      <td>3718</td>\n",
       "      <td>26</td>\n",
       "      <td>C-3-O(SF)</td>\n",
       "      <td>400-S</td>\n",
       "      <td>Commercial</td>\n",
       "      <td>TBD</td>\n",
       "      <td>voice, video &amp; data</td>\n",
       "      <td>...</td>\n",
       "      <td>TBD</td>\n",
       "      <td>TBD</td>\n",
       "      <td>UMTS, LTE</td>\n",
       "      <td>700, 850, 1900,1700,2300</td>\n",
       "      <td>NaN</td>\n",
       "      <td>NaN</td>\n",
       "      <td>Jim Sidorick</td>\n",
       "      <td>925-277-6026</td>\n",
       "      <td>NaN</td>\n",
       "      <td>{'latitude': '30.811715', 'needs_recoding': Fa...</td>\n",
       "    </tr>\n",
       "    <tr>\n",
       "      <th>1</th>\n",
       "      <td>AT&amp;T</td>\n",
       "      <td>CCL02265</td>\n",
       "      <td>California &amp; Front</td>\n",
       "      <td>TBD</td>\n",
       "      <td>TBD</td>\n",
       "      <td>TBD</td>\n",
       "      <td>TBD</td>\n",
       "      <td>TBD</td>\n",
       "      <td>TBD</td>\n",
       "      <td>voice, video &amp; data</td>\n",
       "      <td>...</td>\n",
       "      <td>TBD</td>\n",
       "      <td>TBD</td>\n",
       "      <td>UMTS, LTE</td>\n",
       "      <td>700, 850, 1900,1700,2300</td>\n",
       "      <td>NaN</td>\n",
       "      <td>NaN</td>\n",
       "      <td>Jim Sidorick</td>\n",
       "      <td>925-277-6026</td>\n",
       "      <td>NaN</td>\n",
       "      <td>{'needs_recoding': False, 'human_address': '{\"...</td>\n",
       "    </tr>\n",
       "    <tr>\n",
       "      <th>2</th>\n",
       "      <td>AT&amp;T</td>\n",
       "      <td>CCL02351</td>\n",
       "      <td>Fulton &amp; Stanyon</td>\n",
       "      <td>1145</td>\n",
       "      <td>3</td>\n",
       "      <td>RH-2</td>\n",
       "      <td>80-D</td>\n",
       "      <td>Residential</td>\n",
       "      <td>TBD</td>\n",
       "      <td>voice, video &amp; data</td>\n",
       "      <td>...</td>\n",
       "      <td>TBD</td>\n",
       "      <td>TBD</td>\n",
       "      <td>UMTS, LTE</td>\n",
       "      <td>700, 850, 1900,1700,2300</td>\n",
       "      <td>NaN</td>\n",
       "      <td>NaN</td>\n",
       "      <td>Jim Sidorick</td>\n",
       "      <td>925-277-6026</td>\n",
       "      <td>NaN</td>\n",
       "      <td>{'latitude': '34.421496', 'needs_recoding': Fa...</td>\n",
       "    </tr>\n",
       "    <tr>\n",
       "      <th>3</th>\n",
       "      <td>AT&amp;T</td>\n",
       "      <td>CCL02429</td>\n",
       "      <td>BRENTWOOD AVE/YERBA BUENA AVE</td>\n",
       "      <td>3553</td>\n",
       "      <td>14</td>\n",
       "      <td>PDR-1-G</td>\n",
       "      <td>68-X</td>\n",
       "      <td>TBD</td>\n",
       "      <td>TBD</td>\n",
       "      <td>voice, video &amp; data</td>\n",
       "      <td>...</td>\n",
       "      <td>TBD</td>\n",
       "      <td>TBD</td>\n",
       "      <td>UMTS, LTE</td>\n",
       "      <td>700, 850, 1900,1700,2300</td>\n",
       "      <td>NaN</td>\n",
       "      <td>NaN</td>\n",
       "      <td>Jim Sidorick</td>\n",
       "      <td>925-277-6026</td>\n",
       "      <td>NaN</td>\n",
       "      <td>{'latitude': '34.008005', 'needs_recoding': Fa...</td>\n",
       "    </tr>\n",
       "    <tr>\n",
       "      <th>4</th>\n",
       "      <td>AT&amp;T</td>\n",
       "      <td>CCL03272</td>\n",
       "      <td>TBD</td>\n",
       "      <td>TBD</td>\n",
       "      <td>TBD</td>\n",
       "      <td>TBD</td>\n",
       "      <td>TBD</td>\n",
       "      <td>TBD</td>\n",
       "      <td>TBD</td>\n",
       "      <td>voice, video &amp; data</td>\n",
       "      <td>...</td>\n",
       "      <td>TBD</td>\n",
       "      <td>TBD</td>\n",
       "      <td>UMTS, LTE</td>\n",
       "      <td>700, 850, 1900,1700,2300</td>\n",
       "      <td>NaN</td>\n",
       "      <td>NaN</td>\n",
       "      <td>Jim Sidorick</td>\n",
       "      <td>925-277-6026</td>\n",
       "      <td>NaN</td>\n",
       "      <td>{'needs_recoding': False, 'human_address': '{\"...</td>\n",
       "    </tr>\n",
       "  </tbody>\n",
       "</table>\n",
       "<p>5 rows × 21 columns</p>\n",
       "</div>"
      ],
      "text/plain": [
       "  Carrier       ID             Search Ring Name ID Block  Lot Zoning District  \\\n",
       "0    AT&T  CCL01402     SF TRANSBAY TRANSIT CENTER  3718   26       C-3-O(SF)   \n",
       "1    AT&T  CCL02265             California & Front   TBD  TBD             TBD   \n",
       "2    AT&T  CCL02351               Fulton & Stanyon  1145    3            RH-2   \n",
       "3    AT&T  CCL02429  BRENTWOOD AVE/YERBA BUENA AVE  3553   14         PDR-1-G   \n",
       "4    AT&T  CCL03272                            TBD   TBD  TBD             TBD   \n",
       "\n",
       "  Hight and Bulk District Type of Building Preference (1-7)  \\\n",
       "0                   400-S       Commercial              TBD   \n",
       "1                     TBD              TBD              TBD   \n",
       "2                    80-D      Residential              TBD   \n",
       "3                    68-X              TBD              TBD   \n",
       "4                     TBD              TBD              TBD   \n",
       "\n",
       "  Type of Consumer Services  ... Number of Antennas Location of BTS  \\\n",
       "0       voice, video & data  ...                TBD             TBD   \n",
       "1       voice, video & data  ...                TBD             TBD   \n",
       "2       voice, video & data  ...                TBD             TBD   \n",
       "3       voice, video & data  ...                TBD             TBD   \n",
       "4       voice, video & data  ...                TBD             TBD   \n",
       "\n",
       "  Type of Technology Radio Frequency Range (Megahertz)  \\\n",
       "0          UMTS, LTE          700, 850, 1900,1700,2300   \n",
       "1          UMTS, LTE          700, 850, 1900,1700,2300   \n",
       "2          UMTS, LTE          700, 850, 1900,1700,2300   \n",
       "3          UMTS, LTE          700, 850, 1900,1700,2300   \n",
       "4          UMTS, LTE          700, 850, 1900,1700,2300   \n",
       "\n",
       "  Power Output of Equipment (Watts) Height to Top of Antenna  \\\n",
       "0                               NaN                      NaN   \n",
       "1                               NaN                      NaN   \n",
       "2                               NaN                      NaN   \n",
       "3                               NaN                      NaN   \n",
       "4                               NaN                      NaN   \n",
       "\n",
       "  Name of Community Liason Phone Number of Community Liason Comments  \\\n",
       "0             Jim Sidorick                     925-277-6026      NaN   \n",
       "1             Jim Sidorick                     925-277-6026      NaN   \n",
       "2             Jim Sidorick                     925-277-6026      NaN   \n",
       "3             Jim Sidorick                     925-277-6026      NaN   \n",
       "4             Jim Sidorick                     925-277-6026      NaN   \n",
       "\n",
       "                                          Location 1  \n",
       "0  {'latitude': '30.811715', 'needs_recoding': Fa...  \n",
       "1  {'needs_recoding': False, 'human_address': '{\"...  \n",
       "2  {'latitude': '34.421496', 'needs_recoding': Fa...  \n",
       "3  {'latitude': '34.008005', 'needs_recoding': Fa...  \n",
       "4  {'needs_recoding': False, 'human_address': '{\"...  \n",
       "\n",
       "[5 rows x 21 columns]"
      ]
     },
     "execution_count": 4,
     "metadata": {},
     "output_type": "execute_result"
    }
   ],
   "source": [
    "proposed_sites_df.head()"
   ]
  },
  {
   "cell_type": "markdown",
<<<<<<< HEAD
=======
   "id": "2d0dd6fb",
   "metadata": {},
   "source": [
    "## Columns to Drop/Keep"
   ]
  },
  {
   "cell_type": "markdown",
   "id": "d72c4327",
>>>>>>> 1e886ec5af497006d2eb7c422e8eb1259269449a
   "metadata": {},
   "source": [
    "Columns to drop\n",
    "- ID\n",
    "- Search Ring Name ID\n",
    "- Name of Community Liason \n",
    "- Phone Number of Community Liason\n",
    "- Comments\n",
    "\n",
    "Columns to keep\n",
    "- Carrier (maybe)\n",
    "- Number of Antennas (impacts cost)\n",
    "- Height to Top of Antenna (impacts cost)\n",
    "- Power Output (impacts cost)"
   ]
  }
 ],
 "metadata": {
  "kernelspec": {
<<<<<<< HEAD
   "display_name": "PythonData",
   "language": "python",
   "name": "pythondata"
=======
   "display_name": "mlenv",
   "language": "python",
   "name": "mlenv"
>>>>>>> 1e886ec5af497006d2eb7c422e8eb1259269449a
  },
  "language_info": {
   "codemirror_mode": {
    "name": "ipython",
    "version": 3
   },
   "file_extension": ".py",
   "mimetype": "text/x-python",
   "name": "python",
   "nbconvert_exporter": "python",
   "pygments_lexer": "ipython3",
<<<<<<< HEAD
   "version": "3.7.9"
=======
   "version": "3.7.10"
>>>>>>> 1e886ec5af497006d2eb7c422e8eb1259269449a
  }
 },
 "nbformat": 4,
 "nbformat_minor": 5
}
